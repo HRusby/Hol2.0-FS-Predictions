{
 "cells": [
  {
   "cell_type": "markdown",
   "id": "3574639f-3c11-4557-b14b-b5ecb18470f7",
   "metadata": {},
   "source": [
    "# 2. Importing Packages That Aren't In Snowflake's Anaconda Channel\n",
    "\n",
    "Snowflake's Anaconda channel has a lot of packages - https://repo.anaconda.com/pkgs/snowflake/ but sometimes there are packages that you require that are not yet included, or even packages you have built yourself.  Fear not, these can be used easily too, let's find out how.\n",
    "\n",
    "\n"
   ]
  },
  {
   "cell_type": "code",
   "execution_count": 1,
   "id": "24b0536b-92e5-43c3-8ea5-e1b8efdcb621",
   "metadata": {},
   "outputs": [],
   "source": [
    "import json\n",
    "import numpy as np\n",
    "import pandas as pd\n",
    "from snowflake.snowpark.session import Session\n",
    "import snowflake.snowpark.functions as F\n",
    "import snowflake.snowpark.types as T\n",
    "from snowflake.snowpark.types import PandasDataFrameType, IntegerType, StringType, FloatType, DateType\n",
    "from snowflake.ml.modeling.xgboost import XGBRegressor\n",
    "from snowflake.ml.modeling.linear_model import LinearRegression\n",
    "from snowflake.ml.registry import model_registry\n",
    "from snowflake.ml._internal.utils import identifier"
   ]
  },
  {
   "cell_type": "markdown",
   "id": "e37bb551-87ec-4535-a8cf-8ae31d2e7c07",
   "metadata": {},
   "source": [
    "# 2.1 Reading Snowflake Connection Details, create a Session "
   ]
  },
  {
   "cell_type": "code",
   "execution_count": 2,
   "id": "eac1dc11-cc88-4c7a-a132-3c47fae6d8fe",
   "metadata": {},
   "outputs": [
    {
     "data": {
      "text/plain": [
       "[Row(status='Warehouse ASYNC_WH successfully created.')]"
      ]
     },
     "execution_count": 2,
     "metadata": {},
     "output_type": "execute_result"
    }
   ],
   "source": [
    "snowflake_connection_cfg = json.loads(open(\"/Users/mitaylor/Documents/creds/creds.json\").read()) # <--- 2. Update here\n",
    "session = Session.builder.configs(snowflake_connection_cfg).create()\n",
    "session.sql(\"USE DATABASE HOL_DEMO\").collect()\n",
    "session.sql(\"CREATE OR REPLACE STAGE YOUR_STAGE\").collect()\n",
    "session.sql(\"CREATE OR REPLACE WAREHOUSE ASYNC_WH WITH WAREHOUSE_SIZE='MEDIUM' WAREHOUSE_TYPE = 'SNOWPARK-OPTIMIZED'\").collect()"
   ]
  },
  {
   "cell_type": "markdown",
   "id": "67e332ec-6b04-4a53-b574-f8234091d4fd",
   "metadata": {},
   "source": [
    "# 2.2 Let's run a SPROC"
   ]
  },
  {
   "cell_type": "code",
   "execution_count": 29,
   "id": "6101f75d-7f3a-49b0-9b88-ba7ba401175a",
   "metadata": {},
   "outputs": [
    {
     "data": {
      "text/plain": [
       "'\"hello world\"'"
      ]
     },
     "execution_count": 29,
     "metadata": {},
     "output_type": "execute_result"
    }
   ],
   "source": [
    "def hello_world(session: Session) -> T.Variant:\n",
    "    return \"hello world\"\n",
    "\n",
    "# Register sproc\n",
    "hello_world_demo = session.sproc.register(\n",
    "                              func=hello_world, \n",
    "                              name='hello_world', \n",
    "                              is_permanent=True, \n",
    "                              replace=True,\n",
    "                              stage_location='@YOUR_STAGE', \n",
    "                              packages=['snowflake-snowpark-python'])\n",
    "# Call sproc\n",
    "hello_world_demo()"
   ]
  },
  {
   "cell_type": "markdown",
   "id": "dc76de14-c780-4a9e-a3a2-82514007c7cd",
   "metadata": {},
   "source": [
    "# 2.3 Trying to Create a SPROC Using the python BACKTEST library"
   ]
  },
  {
   "cell_type": "code",
   "execution_count": 27,
   "id": "3e4fe086-dcce-4ac9-916c-bf55aaa4645d",
   "metadata": {
    "scrolled": true
   },
   "outputs": [
    {
     "ename": "RuntimeError",
     "evalue": "Cannot add package backtesting because it is not available in Snowflake and Session.custom_package_usage_config['enabled'] is not set to True. To upload these packages, you can set it to True or find the directory of these packages and add it via Session.add_import. See details at https://docs.snowflake.com/en/developer-guide/snowpark/python/creating-udfs.html#using-third-party-packages-from-anaconda-in-a-udf.",
     "output_type": "error",
     "traceback": [
      "\u001b[0;31m---------------------------------------------------------------------------\u001b[0m",
      "\u001b[0;31mRuntimeError\u001b[0m                              Traceback (most recent call last)",
      "Cell \u001b[0;32mIn[27], line 5\u001b[0m\n\u001b[1;32m      2\u001b[0m     \u001b[38;5;28;01mimport\u001b[39;00m \u001b[38;5;21;01mbacktesting\u001b[39;00m \u001b[38;5;28;01mas\u001b[39;00m \u001b[38;5;21;01mbt\u001b[39;00m\n\u001b[1;32m      4\u001b[0m \u001b[38;5;66;03m# Register sproc\u001b[39;00m\n\u001b[0;32m----> 5\u001b[0m sproc_test_backtesting_demo \u001b[38;5;241m=\u001b[39m session\u001b[38;5;241m.\u001b[39msproc\u001b[38;5;241m.\u001b[39mregister(\n\u001b[1;32m      6\u001b[0m                               func\u001b[38;5;241m=\u001b[39msproc_test_backtesting, \n\u001b[1;32m      7\u001b[0m                               name\u001b[38;5;241m=\u001b[39m\u001b[38;5;124m'\u001b[39m\u001b[38;5;124mYOUR_SPROC_NAME\u001b[39m\u001b[38;5;124m'\u001b[39m, \n\u001b[1;32m      8\u001b[0m                               is_permanent\u001b[38;5;241m=\u001b[39m\u001b[38;5;28;01mTrue\u001b[39;00m, \n\u001b[1;32m      9\u001b[0m                               replace\u001b[38;5;241m=\u001b[39m\u001b[38;5;28;01mTrue\u001b[39;00m,\n\u001b[1;32m     10\u001b[0m                               stage_location\u001b[38;5;241m=\u001b[39m\u001b[38;5;124m'\u001b[39m\u001b[38;5;124m@YOUR_STAGE\u001b[39m\u001b[38;5;124m'\u001b[39m, \n\u001b[1;32m     11\u001b[0m                               packages\u001b[38;5;241m=\u001b[39m[\u001b[38;5;124m'\u001b[39m\u001b[38;5;124msnowflake-snowpark-python\u001b[39m\u001b[38;5;124m'\u001b[39m, \u001b[38;5;124m'\u001b[39m\u001b[38;5;124mbacktesting\u001b[39m\u001b[38;5;124m'\u001b[39m, \u001b[38;5;124m'\u001b[39m\u001b[38;5;124mbokeh\u001b[39m\u001b[38;5;124m'\u001b[39m])\n\u001b[1;32m     12\u001b[0m \u001b[38;5;66;03m# Call sproc\u001b[39;00m\n\u001b[1;32m     13\u001b[0m sproc_test_backtesting_demo()\n",
      "File \u001b[0;32m~/opt/anaconda3/envs/snowpark-ml-hol/lib/python3.11/site-packages/snowflake/snowpark/stored_procedure.py:532\u001b[0m, in \u001b[0;36mStoredProcedureRegistration.register\u001b[0;34m(self, func, return_type, input_types, name, is_permanent, stage_location, imports, packages, replace, if_not_exists, parallel, execute_as, strict, external_access_integrations, secrets, statement_params, source_code_display, **kwargs)\u001b[0m\n\u001b[1;32m    527\u001b[0m check_register_args(\n\u001b[1;32m    528\u001b[0m     TempObjectType\u001b[38;5;241m.\u001b[39mPROCEDURE, name, is_permanent, stage_location, parallel\n\u001b[1;32m    529\u001b[0m )\n\u001b[1;32m    531\u001b[0m \u001b[38;5;66;03m# register stored procedure\u001b[39;00m\n\u001b[0;32m--> 532\u001b[0m \u001b[38;5;28;01mreturn\u001b[39;00m \u001b[38;5;28mself\u001b[39m\u001b[38;5;241m.\u001b[39m_do_register_sp(\n\u001b[1;32m    533\u001b[0m     func,\n\u001b[1;32m    534\u001b[0m     return_type,\n\u001b[1;32m    535\u001b[0m     input_types,\n\u001b[1;32m    536\u001b[0m     name,\n\u001b[1;32m    537\u001b[0m     stage_location,\n\u001b[1;32m    538\u001b[0m     imports,\n\u001b[1;32m    539\u001b[0m     packages,\n\u001b[1;32m    540\u001b[0m     replace,\n\u001b[1;32m    541\u001b[0m     if_not_exists,\n\u001b[1;32m    542\u001b[0m     parallel,\n\u001b[1;32m    543\u001b[0m     strict,\n\u001b[1;32m    544\u001b[0m     external_access_integrations\u001b[38;5;241m=\u001b[39mexternal_access_integrations,\n\u001b[1;32m    545\u001b[0m     secrets\u001b[38;5;241m=\u001b[39msecrets,\n\u001b[1;32m    546\u001b[0m     statement_params\u001b[38;5;241m=\u001b[39mstatement_params,\n\u001b[1;32m    547\u001b[0m     execute_as\u001b[38;5;241m=\u001b[39mexecute_as,\n\u001b[1;32m    548\u001b[0m     api_call_source\u001b[38;5;241m=\u001b[39m\u001b[38;5;124m\"\u001b[39m\u001b[38;5;124mStoredProcedureRegistration.register\u001b[39m\u001b[38;5;124m\"\u001b[39m,\n\u001b[1;32m    549\u001b[0m     source_code_display\u001b[38;5;241m=\u001b[39msource_code_display,\n\u001b[1;32m    550\u001b[0m     anonymous\u001b[38;5;241m=\u001b[39mkwargs\u001b[38;5;241m.\u001b[39mget(\u001b[38;5;124m\"\u001b[39m\u001b[38;5;124manonymous\u001b[39m\u001b[38;5;124m\"\u001b[39m, \u001b[38;5;28;01mFalse\u001b[39;00m),\n\u001b[1;32m    551\u001b[0m     is_permanent\u001b[38;5;241m=\u001b[39mis_permanent,\n\u001b[1;32m    552\u001b[0m     \u001b[38;5;66;03m# force_inline_code avoids uploading python file\u001b[39;00m\n\u001b[1;32m    553\u001b[0m     \u001b[38;5;66;03m# when we know the code is not too large. This is useful\u001b[39;00m\n\u001b[1;32m    554\u001b[0m     \u001b[38;5;66;03m# in Pandas API to create stored procedures not registered by users.\u001b[39;00m\n\u001b[1;32m    555\u001b[0m     force_inline_code\u001b[38;5;241m=\u001b[39mkwargs\u001b[38;5;241m.\u001b[39mget(\u001b[38;5;124m\"\u001b[39m\u001b[38;5;124mforce_inline_code\u001b[39m\u001b[38;5;124m\"\u001b[39m, \u001b[38;5;28;01mFalse\u001b[39;00m),\n\u001b[1;32m    556\u001b[0m )\n",
      "File \u001b[0;32m~/opt/anaconda3/envs/snowpark-ml-hol/lib/python3.11/site-packages/snowflake/snowpark/stored_procedure.py:754\u001b[0m, in \u001b[0;36mStoredProcedureRegistration._do_register_sp\u001b[0;34m(self, func, return_type, input_types, sp_name, stage_location, imports, packages, replace, if_not_exists, parallel, strict, source_code_display, statement_params, execute_as, anonymous, api_call_source, skip_upload_on_content_match, is_permanent, external_access_integrations, secrets, force_inline_code)\u001b[0m\n\u001b[1;32m    742\u001b[0m arg_names \u001b[38;5;241m=\u001b[39m [\u001b[38;5;124m\"\u001b[39m\u001b[38;5;124msession\u001b[39m\u001b[38;5;124m\"\u001b[39m] \u001b[38;5;241m+\u001b[39m [\u001b[38;5;124mf\u001b[39m\u001b[38;5;124m\"\u001b[39m\u001b[38;5;124marg\u001b[39m\u001b[38;5;132;01m{\u001b[39;00mi\u001b[38;5;241m+\u001b[39m\u001b[38;5;241m1\u001b[39m\u001b[38;5;132;01m}\u001b[39;00m\u001b[38;5;124m\"\u001b[39m \u001b[38;5;28;01mfor\u001b[39;00m i \u001b[38;5;129;01min\u001b[39;00m \u001b[38;5;28mrange\u001b[39m(\u001b[38;5;28mlen\u001b[39m(input_types))]\n\u001b[1;32m    743\u001b[0m input_args \u001b[38;5;241m=\u001b[39m [\n\u001b[1;32m    744\u001b[0m     UDFColumn(dt, arg_name) \u001b[38;5;28;01mfor\u001b[39;00m dt, arg_name \u001b[38;5;129;01min\u001b[39;00m \u001b[38;5;28mzip\u001b[39m(input_types, arg_names[\u001b[38;5;241m1\u001b[39m:])\n\u001b[1;32m    745\u001b[0m ]\n\u001b[1;32m    747\u001b[0m (\n\u001b[1;32m    748\u001b[0m     handler,\n\u001b[1;32m    749\u001b[0m     code,\n\u001b[1;32m    750\u001b[0m     all_imports,\n\u001b[1;32m    751\u001b[0m     all_packages,\n\u001b[1;32m    752\u001b[0m     upload_file_stage_location,\n\u001b[1;32m    753\u001b[0m     custom_python_runtime_version_allowed,\n\u001b[0;32m--> 754\u001b[0m ) \u001b[38;5;241m=\u001b[39m resolve_imports_and_packages(\n\u001b[1;32m    755\u001b[0m     \u001b[38;5;28mself\u001b[39m\u001b[38;5;241m.\u001b[39m_session,\n\u001b[1;32m    756\u001b[0m     TempObjectType\u001b[38;5;241m.\u001b[39mPROCEDURE,\n\u001b[1;32m    757\u001b[0m     func,\n\u001b[1;32m    758\u001b[0m     arg_names,\n\u001b[1;32m    759\u001b[0m     udf_name,\n\u001b[1;32m    760\u001b[0m     stage_location,\n\u001b[1;32m    761\u001b[0m     imports,\n\u001b[1;32m    762\u001b[0m     packages,\n\u001b[1;32m    763\u001b[0m     parallel,\n\u001b[1;32m    764\u001b[0m     statement_params\u001b[38;5;241m=\u001b[39mstatement_params,\n\u001b[1;32m    765\u001b[0m     source_code_display\u001b[38;5;241m=\u001b[39msource_code_display,\n\u001b[1;32m    766\u001b[0m     skip_upload_on_content_match\u001b[38;5;241m=\u001b[39mskip_upload_on_content_match,\n\u001b[1;32m    767\u001b[0m     is_permanent\u001b[38;5;241m=\u001b[39mis_permanent,\n\u001b[1;32m    768\u001b[0m     force_inline_code\u001b[38;5;241m=\u001b[39mforce_inline_code,\n\u001b[1;32m    769\u001b[0m )\n\u001b[1;32m    771\u001b[0m \u001b[38;5;28;01mif\u001b[39;00m \u001b[38;5;129;01mnot\u001b[39;00m custom_python_runtime_version_allowed:\n\u001b[1;32m    772\u001b[0m     check_python_runtime_version(\n\u001b[1;32m    773\u001b[0m         \u001b[38;5;28mself\u001b[39m\u001b[38;5;241m.\u001b[39m_session\u001b[38;5;241m.\u001b[39m_runtime_version_from_requirement\n\u001b[1;32m    774\u001b[0m     )\n",
      "File \u001b[0;32m~/opt/anaconda3/envs/snowpark-ml-hol/lib/python3.11/site-packages/snowflake/snowpark/_internal/udf_utils.py:826\u001b[0m, in \u001b[0;36mresolve_imports_and_packages\u001b[0;34m(session, object_type, func, arg_names, udf_name, stage_location, imports, packages, parallel, is_pandas_udf, is_dataframe_input, max_batch_size, statement_params, source_code_display, skip_upload_on_content_match, is_permanent, force_inline_code)\u001b[0m\n\u001b[1;32m    820\u001b[0m upload_and_import_stage \u001b[38;5;241m=\u001b[39m (\n\u001b[1;32m    821\u001b[0m     import_only_stage \u001b[38;5;28;01mif\u001b[39;00m is_permanent \u001b[38;5;28;01melse\u001b[39;00m session\u001b[38;5;241m.\u001b[39mget_session_stage()\n\u001b[1;32m    822\u001b[0m )\n\u001b[1;32m    824\u001b[0m \u001b[38;5;66;03m# resolve packages\u001b[39;00m\n\u001b[1;32m    825\u001b[0m resolved_packages \u001b[38;5;241m=\u001b[39m (\n\u001b[0;32m--> 826\u001b[0m     session\u001b[38;5;241m.\u001b[39m_resolve_packages(packages, include_pandas\u001b[38;5;241m=\u001b[39mis_pandas_udf)\n\u001b[1;32m    827\u001b[0m     \u001b[38;5;28;01mif\u001b[39;00m packages \u001b[38;5;129;01mis\u001b[39;00m \u001b[38;5;129;01mnot\u001b[39;00m \u001b[38;5;28;01mNone\u001b[39;00m\n\u001b[1;32m    828\u001b[0m     \u001b[38;5;28;01melse\u001b[39;00m session\u001b[38;5;241m.\u001b[39m_resolve_packages(\n\u001b[1;32m    829\u001b[0m         [],\n\u001b[1;32m    830\u001b[0m         session\u001b[38;5;241m.\u001b[39m_packages,\n\u001b[1;32m    831\u001b[0m         validate_package\u001b[38;5;241m=\u001b[39m\u001b[38;5;28;01mFalse\u001b[39;00m,\n\u001b[1;32m    832\u001b[0m         include_pandas\u001b[38;5;241m=\u001b[39mis_pandas_udf,\n\u001b[1;32m    833\u001b[0m     )\n\u001b[1;32m    834\u001b[0m )\n\u001b[1;32m    836\u001b[0m \u001b[38;5;66;03m# resolve imports\u001b[39;00m\n\u001b[1;32m    837\u001b[0m \u001b[38;5;28;01mif\u001b[39;00m imports:\n",
      "File \u001b[0;32m~/opt/anaconda3/envs/snowpark-ml-hol/lib/python3.11/site-packages/snowflake/snowpark/session.py:1130\u001b[0m, in \u001b[0;36mSession._resolve_packages\u001b[0;34m(self, packages, existing_packages_dict, validate_package, include_pandas)\u001b[0m\n\u001b[1;32m   1124\u001b[0m     \u001b[38;5;28;01mraise\u001b[39;00m \u001b[38;5;167;01mRuntimeError\u001b[39;00m(\n\u001b[1;32m   1125\u001b[0m         \u001b[38;5;124mf\u001b[39m\u001b[38;5;124m\"\u001b[39m\u001b[38;5;124mCannot add package \u001b[39m\u001b[38;5;132;01m{\u001b[39;00mpackage_name\u001b[38;5;132;01m}\u001b[39;00m\u001b[38;5;132;01m{\u001b[39;00mversion_text\u001b[38;5;132;01m}\u001b[39;00m\u001b[38;5;124m because Anaconda terms must be accepted \u001b[39m\u001b[38;5;124m\"\u001b[39m\n\u001b[1;32m   1126\u001b[0m         \u001b[38;5;124m\"\u001b[39m\u001b[38;5;124mby ORGADMIN to use Anaconda 3rd party packages. Please follow the instructions at \u001b[39m\u001b[38;5;124m\"\u001b[39m\n\u001b[1;32m   1127\u001b[0m         \u001b[38;5;124m\"\u001b[39m\u001b[38;5;124mhttps://docs.snowflake.com/en/developer-guide/udf/python/udf-python-packages.html#using-third-party-packages-from-anaconda.\u001b[39m\u001b[38;5;124m\"\u001b[39m\n\u001b[1;32m   1128\u001b[0m     )\n\u001b[1;32m   1129\u001b[0m \u001b[38;5;28;01mif\u001b[39;00m \u001b[38;5;129;01mnot\u001b[39;00m \u001b[38;5;28mself\u001b[39m\u001b[38;5;241m.\u001b[39m_custom_package_usage_config\u001b[38;5;241m.\u001b[39mget(\u001b[38;5;124m\"\u001b[39m\u001b[38;5;124menabled\u001b[39m\u001b[38;5;124m\"\u001b[39m, \u001b[38;5;28;01mFalse\u001b[39;00m):\n\u001b[0;32m-> 1130\u001b[0m     \u001b[38;5;28;01mraise\u001b[39;00m \u001b[38;5;167;01mRuntimeError\u001b[39;00m(\n\u001b[1;32m   1131\u001b[0m         \u001b[38;5;124mf\u001b[39m\u001b[38;5;124m\"\u001b[39m\u001b[38;5;124mCannot add package \u001b[39m\u001b[38;5;132;01m{\u001b[39;00mpackage_req\u001b[38;5;132;01m}\u001b[39;00m\u001b[38;5;124m because it is not available in Snowflake \u001b[39m\u001b[38;5;124m\"\u001b[39m\n\u001b[1;32m   1132\u001b[0m         \u001b[38;5;124mf\u001b[39m\u001b[38;5;124m\"\u001b[39m\u001b[38;5;124mand Session.custom_package_usage_config[\u001b[39m\u001b[38;5;124m'\u001b[39m\u001b[38;5;124menabled\u001b[39m\u001b[38;5;124m'\u001b[39m\u001b[38;5;124m] is not set to True. To upload these packages, you can \u001b[39m\u001b[38;5;124m\"\u001b[39m\n\u001b[1;32m   1133\u001b[0m         \u001b[38;5;124mf\u001b[39m\u001b[38;5;124m\"\u001b[39m\u001b[38;5;124mset it to True or find the directory of these packages and add it via Session.add_import. See details at \u001b[39m\u001b[38;5;124m\"\u001b[39m\n\u001b[1;32m   1134\u001b[0m         \u001b[38;5;124mf\u001b[39m\u001b[38;5;124m\"\u001b[39m\u001b[38;5;124mhttps://docs.snowflake.com/en/developer-guide/snowpark/python/creating-udfs.html#using-third-party-packages-from-anaconda-in-a-udf.\u001b[39m\u001b[38;5;124m\"\u001b[39m\n\u001b[1;32m   1135\u001b[0m     )\n\u001b[1;32m   1136\u001b[0m unsupported_packages\u001b[38;5;241m.\u001b[39mappend(package)\n\u001b[1;32m   1137\u001b[0m \u001b[38;5;28;01mcontinue\u001b[39;00m\n",
      "\u001b[0;31mRuntimeError\u001b[0m: Cannot add package backtesting because it is not available in Snowflake and Session.custom_package_usage_config['enabled'] is not set to True. To upload these packages, you can set it to True or find the directory of these packages and add it via Session.add_import. See details at https://docs.snowflake.com/en/developer-guide/snowpark/python/creating-udfs.html#using-third-party-packages-from-anaconda-in-a-udf."
     ]
    }
   ],
   "source": [
    "def sproc_test_backtesting(session: Session) -> T.Variant:\n",
    "    import backtesting as bt\n",
    "\n",
    "# Register sproc\n",
    "sproc_test_backtesting_demo = session.sproc.register(\n",
    "                              func=sproc_test_backtesting, \n",
    "                              name='YOUR_SPROC_NAME', \n",
    "                              is_permanent=True, \n",
    "                              replace=True,\n",
    "                              stage_location='@YOUR_STAGE', \n",
    "                              packages=['snowflake-snowpark-python', 'backtesting', 'bokeh'])\n",
    "# Call sproc\n",
    "sproc_test_backtesting_demo()"
   ]
  },
  {
   "cell_type": "markdown",
   "id": "4dffe77c-582e-4d75-8995-f81d5412b482",
   "metadata": {},
   "source": [
    "# 2.4 Trying to Create a SPROC Using the python BACKTEST library"
   ]
  },
  {
   "cell_type": "code",
   "execution_count": 12,
   "id": "c30e4623-7a58-411d-baee-fda13186c13f",
   "metadata": {},
   "outputs": [
    {
     "data": {
      "text/plain": [
       "'null'"
      ]
     },
     "execution_count": 12,
     "metadata": {},
     "output_type": "execute_result"
    }
   ],
   "source": [
    "# Define sproc to test that the import was successful\n",
    "def sproc_test_backtesting(session: Session) -> T.Variant:\n",
    "    import wheel_loader\n",
    "    wheel_loader.load('Backtesting-0.3.4.dev30+g0ce24d8-py3-none-any.whl')\n",
    "    import pandas as pd\n",
    "    import backtesting as bt\n",
    "\n",
    "\n",
    "# Register sproc\n",
    "sproc_test_backtesting_demo = session.sproc.register(\n",
    "                              func=sproc_test_backtesting, \n",
    "                              name='YOUR_SPROC_NAME', \n",
    "                              is_permanent=True, \n",
    "                              replace=True,\n",
    "                              stage_location='@YOUR_STAGE', \n",
    "                              packages=['snowflake-snowpark-python', 'bokeh'], # Needed as dependency\n",
    "                              imports=[\"@YOUR_STAGE/wheel_loader.py\",\n",
    "                                       \"@YOUR_STAGE/Backtesting-0.3.4.dev30+g0ce24d8-py3-none-any.whl\"])\n",
    "# Call sproc\n",
    "sproc_test_backtesting_demo()"
   ]
  },
  {
   "cell_type": "markdown",
   "id": "6a3e92d5-3437-45ae-b751-8235df4bcef9",
   "metadata": {},
   "source": [
    "# 2.5 Using the Backtest library locally"
   ]
  },
  {
   "cell_type": "code",
   "execution_count": null,
   "id": "750c9214-42e4-49dc-a551-32f5d8e113f0",
   "metadata": {},
   "outputs": [],
   "source": [
    "import backtesting as bt\n",
    "from backtesting.lib import crossover\n",
    "import pandas as pd\n",
    "\n",
    "def MovingAverage(closes:pd.Series, n:int) -> pd.Series:\n",
    "    return pd.Series(closes).rolling(n).mean()\n",
    "\n",
    "class SmaCross(bt.Strategy):\n",
    "    sma_fast = 12 \n",
    "    sma_slow = 35\n",
    "    \n",
    "    def init(self):\n",
    "        self.sma1 = self.I(MovingAverage, self.data.Close, self.sma_fast)\n",
    "        self.sma2 = self.I(MovingAverage, self.data.Close, self.sma_slow)\n",
    "\n",
    "    def next(self):\n",
    "        if not self.position and crossover(self.sma1, self.sma2): # if you have a position, and sma1 and sma2 crossover\n",
    "            self.buy()\n",
    "        elif self.position and crossover(self.sma2, self.sma1):\n",
    "            self.position.close()\n",
    "            \n",
    "data = session.sql(\"\"\"SELECT * FROM FS_DATASET WHERE SYMBOL = 'GOOG'\"\"\").to_pandas()\n",
    "data['High'] = data['CLOSE']\n",
    "data['Open'] = data['CLOSE']\n",
    "data['Low'] = data['CLOSE']\n",
    "data['Close'] = data['CLOSE']\n",
    "btest = bt.Backtest(data, SmaCross, cash=10_000, commission=0,exclusive_orders=True)\n",
    "stats = btest.run()\n",
    "pd.DataFrame(stats).T"
   ]
  },
  {
   "cell_type": "code",
   "execution_count": null,
   "id": "01b6c352-cb0c-4ced-b30a-9345507028a5",
   "metadata": {},
   "outputs": [],
   "source": [
    "# 2.6 Putting it all together"
   ]
  },
  {
   "cell_type": "code",
   "execution_count": null,
   "id": "77e87d8e-ea13-4602-a9d9-eaefef57ddb5",
   "metadata": {},
   "outputs": [],
   "source": [
    "# Define sproc to test that the import was successful\n",
    "def sproc_test_backtesting(session: Session) -> T.Variant:\n",
    "    import wheel_loader\n",
    "    wheel_loader.load('Backtesting-0.3.4.dev30+g0ce24d8-py3-none-any.whl')\n",
    "    import pandas as pd\n",
    "    import backtesting as bt\n",
    "\n",
    "    ########################################################\n",
    "    # Insert some code here, hint it'll look A LOT like 2.5\n",
    "    ########################################################\n",
    "\n",
    "\n",
    "# Register sproc\n",
    "sproc_test_backtesting_demo = session.sproc.register(\n",
    "                              func=sproc_test_backtesting, \n",
    "                              name='YOUR_SPROC_NAME', \n",
    "                              is_permanent=True, \n",
    "                              replace=True,\n",
    "                              stage_location='@YOUR_STAGE', \n",
    "                              packages=['snowflake-snowpark-python', 'bokeh'], # Needed as dependency\n",
    "                              imports=[\"@YOUR_STAGE/wheel_loader.py\",\n",
    "                                       \"@YOUR_STAGE/Backtesting-0.3.4.dev30+g0ce24d8-py3-none-any.whl\"])\n",
    "# Call sproc\n",
    "sproc_test_backtesting_demo()"
   ]
  },
  {
   "cell_type": "code",
   "execution_count": null,
   "id": "0613fa6c-c394-4ee6-8a33-a377e8b09449",
   "metadata": {},
   "outputs": [],
   "source": []
  },
  {
   "cell_type": "code",
   "execution_count": null,
   "id": "a68c4ba4-38e0-4353-b4d3-4430a0a1e332",
   "metadata": {},
   "outputs": [],
   "source": [
    "# 2.7 Parallelise!"
   ]
  },
  {
   "cell_type": "code",
   "execution_count": null,
   "id": "c541aad1-9c0f-4a3d-9e18-b75d787f6dfd",
   "metadata": {},
   "outputs": [],
   "source": []
  },
  {
   "cell_type": "code",
   "execution_count": 24,
   "id": "faa0ef4a-f200-4af9-a34a-b34fa02615e6",
   "metadata": {},
   "outputs": [
    {
     "name": "stderr",
     "output_type": "stream",
     "text": [
      "BokehDeprecationWarning: Passing lists of formats for DatetimeTickFormatter scales was deprecated in Bokeh 3.0. Configure a single string format for each scale\n",
      "/Users/mitaylor/opt/anaconda3/envs/snowpark_gis/lib/python3.8/site-packages/backtesting/_plotting.py:250: UserWarning: DatetimeFormatter scales now only accept a single format. Using the first provided: '%d %b'\n",
      "  formatter=DatetimeTickFormatter(days=['%d %b', '%a %d'],\n",
      "BokehDeprecationWarning: Passing lists of formats for DatetimeTickFormatter scales was deprecated in Bokeh 3.0. Configure a single string format for each scale\n",
      "/Users/mitaylor/opt/anaconda3/envs/snowpark_gis/lib/python3.8/site-packages/backtesting/_plotting.py:250: UserWarning: DatetimeFormatter scales now only accept a single format. Using the first provided: '%m/%Y'\n",
      "  formatter=DatetimeTickFormatter(days=['%d %b', '%a %d'],\n"
     ]
    },
    {
     "data": {
      "text/html": [
       "<div style=\"display: table;\"><div style=\"display: table-row;\"><div style=\"display: table-cell;\"><b title=\"bokeh.models.plots.GridPlot\">GridPlot</b>(</div><div style=\"display: table-cell;\">id&nbsp;=&nbsp;'p3719', <span id=\"p4260\" style=\"cursor: pointer;\">&hellip;)</span></div></div><div class=\"p4259\" style=\"display: none;\"><div style=\"display: table-cell;\"></div><div style=\"display: table-cell;\">align&nbsp;=&nbsp;'auto',</div></div><div class=\"p4259\" style=\"display: none;\"><div style=\"display: table-cell;\"></div><div style=\"display: table-cell;\">aspect_ratio&nbsp;=&nbsp;None,</div></div><div class=\"p4259\" style=\"display: none;\"><div style=\"display: table-cell;\"></div><div style=\"display: table-cell;\">children&nbsp;=&nbsp;[(figure(id='p3255', ...), 0, 0), (figure(id='p3368', ...), 1, 0), (figure(id='p3196', ...), 2, 0), (figure(id='p3440', ...), 3, 0)],</div></div><div class=\"p4259\" style=\"display: none;\"><div style=\"display: table-cell;\"></div><div style=\"display: table-cell;\">cols&nbsp;=&nbsp;None,</div></div><div class=\"p4259\" style=\"display: none;\"><div style=\"display: table-cell;\"></div><div style=\"display: table-cell;\">context_menu&nbsp;=&nbsp;None,</div></div><div class=\"p4259\" style=\"display: none;\"><div style=\"display: table-cell;\"></div><div style=\"display: table-cell;\">css_classes&nbsp;=&nbsp;[],</div></div><div class=\"p4259\" style=\"display: none;\"><div style=\"display: table-cell;\"></div><div style=\"display: table-cell;\">disabled&nbsp;=&nbsp;False,</div></div><div class=\"p4259\" style=\"display: none;\"><div style=\"display: table-cell;\"></div><div style=\"display: table-cell;\">flow_mode&nbsp;=&nbsp;'block',</div></div><div class=\"p4259\" style=\"display: none;\"><div style=\"display: table-cell;\"></div><div style=\"display: table-cell;\">height&nbsp;=&nbsp;None,</div></div><div class=\"p4259\" style=\"display: none;\"><div style=\"display: table-cell;\"></div><div style=\"display: table-cell;\">height_policy&nbsp;=&nbsp;'auto',</div></div><div class=\"p4259\" style=\"display: none;\"><div style=\"display: table-cell;\"></div><div style=\"display: table-cell;\">js_event_callbacks&nbsp;=&nbsp;{},</div></div><div class=\"p4259\" style=\"display: none;\"><div style=\"display: table-cell;\"></div><div style=\"display: table-cell;\">js_property_callbacks&nbsp;=&nbsp;{},</div></div><div class=\"p4259\" style=\"display: none;\"><div style=\"display: table-cell;\"></div><div style=\"display: table-cell;\">margin&nbsp;=&nbsp;None,</div></div><div class=\"p4259\" style=\"display: none;\"><div style=\"display: table-cell;\"></div><div style=\"display: table-cell;\">max_height&nbsp;=&nbsp;None,</div></div><div class=\"p4259\" style=\"display: none;\"><div style=\"display: table-cell;\"></div><div style=\"display: table-cell;\">max_width&nbsp;=&nbsp;None,</div></div><div class=\"p4259\" style=\"display: none;\"><div style=\"display: table-cell;\"></div><div style=\"display: table-cell;\">min_height&nbsp;=&nbsp;None,</div></div><div class=\"p4259\" style=\"display: none;\"><div style=\"display: table-cell;\"></div><div style=\"display: table-cell;\">min_width&nbsp;=&nbsp;None,</div></div><div class=\"p4259\" style=\"display: none;\"><div style=\"display: table-cell;\"></div><div style=\"display: table-cell;\">name&nbsp;=&nbsp;None,</div></div><div class=\"p4259\" style=\"display: none;\"><div style=\"display: table-cell;\"></div><div style=\"display: table-cell;\">resizable&nbsp;=&nbsp;False,</div></div><div class=\"p4259\" style=\"display: none;\"><div style=\"display: table-cell;\"></div><div style=\"display: table-cell;\">rows&nbsp;=&nbsp;None,</div></div><div class=\"p4259\" style=\"display: none;\"><div style=\"display: table-cell;\"></div><div style=\"display: table-cell;\">sizing_mode&nbsp;=&nbsp;'stretch_width',</div></div><div class=\"p4259\" style=\"display: none;\"><div style=\"display: table-cell;\"></div><div style=\"display: table-cell;\">spacing&nbsp;=&nbsp;0,</div></div><div class=\"p4259\" style=\"display: none;\"><div style=\"display: table-cell;\"></div><div style=\"display: table-cell;\">styles&nbsp;=&nbsp;{},</div></div><div class=\"p4259\" style=\"display: none;\"><div style=\"display: table-cell;\"></div><div style=\"display: table-cell;\">stylesheets&nbsp;=&nbsp;[],</div></div><div class=\"p4259\" style=\"display: none;\"><div style=\"display: table-cell;\"></div><div style=\"display: table-cell;\">subscribed_events&nbsp;=&nbsp;PropertyValueSet(),</div></div><div class=\"p4259\" style=\"display: none;\"><div style=\"display: table-cell;\"></div><div style=\"display: table-cell;\">syncable&nbsp;=&nbsp;True,</div></div><div class=\"p4259\" style=\"display: none;\"><div style=\"display: table-cell;\"></div><div style=\"display: table-cell;\">tags&nbsp;=&nbsp;[],</div></div><div class=\"p4259\" style=\"display: none;\"><div style=\"display: table-cell;\"></div><div style=\"display: table-cell;\">toolbar&nbsp;=&nbsp;Toolbar(id='p3718', ...),</div></div><div class=\"p4259\" style=\"display: none;\"><div style=\"display: table-cell;\"></div><div style=\"display: table-cell;\">toolbar_location&nbsp;=&nbsp;'right',</div></div><div class=\"p4259\" style=\"display: none;\"><div style=\"display: table-cell;\"></div><div style=\"display: table-cell;\">visible&nbsp;=&nbsp;True,</div></div><div class=\"p4259\" style=\"display: none;\"><div style=\"display: table-cell;\"></div><div style=\"display: table-cell;\">width&nbsp;=&nbsp;None,</div></div><div class=\"p4259\" style=\"display: none;\"><div style=\"display: table-cell;\"></div><div style=\"display: table-cell;\">width_policy&nbsp;=&nbsp;'auto')</div></div></div>\n",
       "<script>\n",
       "(function() {\n",
       "  let expanded = false;\n",
       "  const ellipsis = document.getElementById(\"p4260\");\n",
       "  ellipsis.addEventListener(\"click\", function() {\n",
       "    const rows = document.getElementsByClassName(\"p4259\");\n",
       "    for (let i = 0; i < rows.length; i++) {\n",
       "      const el = rows[i];\n",
       "      el.style.display = expanded ? \"none\" : \"table-row\";\n",
       "    }\n",
       "    ellipsis.innerHTML = expanded ? \"&hellip;)\" : \"&lsaquo;&lsaquo;&lsaquo;\";\n",
       "    expanded = !expanded;\n",
       "  });\n",
       "})();\n",
       "</script>\n"
      ],
      "text/plain": [
       "GridPlot(id='p3719', ...)"
      ]
     },
     "execution_count": 24,
     "metadata": {},
     "output_type": "execute_result"
    }
   ],
   "source": [
    "bt.plot(filename = \"test.html\", open_browser=False)"
   ]
  },
  {
   "cell_type": "markdown",
   "id": "305400b7-fed9-494d-a12c-33d93c348816",
   "metadata": {},
   "source": [
    "1 - Just Price Prediction, Model built registered blah blah blah < -- we're off to the races, 35 lines of code!\n",
    "2 - Build a Strategy Off that Prediction, and Backtest it\n",
    "3 - Get More Data, enhance the strategy\n",
    "4 - Scale Up The Search (cartesian prod of symbol and backtest bits? or maybe staretg?)\n",
    "5 - Streamlit the Results\n",
    "\n",
    "Bonus - Orchestrate with tasks?\n",
    "\n",
    "\n",
    "\n",
    "UDTF to clean data\n",
    "UDF to deploy our model to the data\n",
    "UDTF to do a backtesting strategy on the data\n",
    "\n",
    "UDTF\n",
    "Contains the strategy\n",
    "Gets the data (from SF, based on input criteria)\n",
    "partitions over symbol\n",
    "Runs backtest on symbol\n",
    "cartesian product of symbol and smastats"
   ]
  }
 ],
 "metadata": {
  "kernelspec": {
   "display_name": "Python 3 (ipykernel)",
   "language": "python",
   "name": "python3"
  },
  "language_info": {
   "codemirror_mode": {
    "name": "ipython",
    "version": 3
   },
   "file_extension": ".py",
   "mimetype": "text/x-python",
   "name": "python",
   "nbconvert_exporter": "python",
   "pygments_lexer": "ipython3",
   "version": "3.11.7"
  }
 },
 "nbformat": 4,
 "nbformat_minor": 5
}
