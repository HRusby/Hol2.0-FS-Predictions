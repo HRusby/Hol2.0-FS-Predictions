{
 "cells": [
  {
   "cell_type": "markdown",
   "id": "6f8a6f15-e225-4b56-a88f-34e9a8478c02",
   "metadata": {},
   "source": [
    "# Get more fancy pants data\n",
    "- go to the web factset \n",
    "- request it\n",
    "- back to your sheet and run it (insert the name)\n"
   ]
  },
  {
   "cell_type": "markdown",
   "id": "3d7d23df-b67d-47b8-9745-ed956aaa06c4",
   "metadata": {},
   "source": [
    "# Integrate it with the model\n",
    "- join the data\n",
    "- so update the model features\n"
   ]
  },
  {
   "cell_type": "code",
   "execution_count": 16,
   "id": "8bcf030b-48f0-4720-a549-848b43111fa7",
   "metadata": {},
   "outputs": [],
   "source": [
    "import json\n",
    "import pandas as pd\n",
    "from snowflake.snowpark.session import Session\n",
    "import snowflake.snowpark.functions as F\n",
    "from snowflake.snowpark.types import PandasDataFrameType, IntegerType, StringType, FloatType, DateType\n",
    "from snowflake.ml.modeling.xgboost import XGBRegressor\n",
    "from snowflake.ml.modeling.linear_model import LinearRegression\n",
    "from snowflake.ml.registry import model_registry\n",
    "from snowflake.ml._internal.utils import identifier"
   ]
  },
  {
   "cell_type": "markdown",
   "id": "ead122fb-a9af-4105-bbb8-c0e16ed4c29c",
   "metadata": {},
   "source": [
    "# 3.1 Get the Data Share\n"
   ]
  },
  {
   "cell_type": "markdown",
   "id": "93e15fba-8371-417e-a011-ccbc7b112ef9",
   "metadata": {},
   "source": [
    "https://app.snowflake.com/marketplace/listing/GZT1ZA3NLF/similarweb-ltd-global-stocks-25-000-tickers-digital-traffic-data-by-domain?search=Global%20Stocks"
   ]
  },
  {
   "cell_type": "markdown",
   "id": "f3b85097-c5dd-4d54-8b25-04eae0b18a1f",
   "metadata": {},
   "source": [
    "# 3.2 Reading Snowflake Connection Details, create a Session\n"
   ]
  },
  {
   "cell_type": "code",
   "execution_count": 2,
   "id": "fb970c10-ecdf-423a-a0e6-430fa072bb1c",
   "metadata": {},
   "outputs": [
    {
     "data": {
      "text/plain": [
       "[Row(status='Warehouse ASYNC_WH successfully created.')]"
      ]
     },
     "execution_count": 2,
     "metadata": {},
     "output_type": "execute_result"
    }
   ],
   "source": [
    "snowflake_connection_cfg = json.loads(open(\"/Users/mitaylor/Documents/creds/creds_sf_azure.json\").read()) # <--- Update here\n",
    "session = Session.builder.configs(snowflake_connection_cfg).create()\n",
    "session.sql(\"USE DATABASE HOL_DEMO\").collect()\n",
    "#session.sql(\"USE STAGE YOUR_STAGE\").collect()\n",
    "session.sql(\"CREATE OR REPLACE WAREHOUSE ASYNC_WH WITH WAREHOUSE_SIZE='MEDIUM' WAREHOUSE_TYPE = 'SNOWPARK-OPTIMIZED'\").collect()"
   ]
  },
  {
   "cell_type": "markdown",
   "id": "f1c60fe8-c8a8-46c4-abca-4dee9ab9b0c9",
   "metadata": {},
   "source": [
    "# 3.3 Use SQL to import the data"
   ]
  },
  {
   "cell_type": "code",
   "execution_count": 10,
   "id": "f4bae2e1-817c-4059-a388-a64665c1e327",
   "metadata": {},
   "outputs": [
    {
     "data": {
      "text/html": [
       "<div>\n",
       "<style scoped>\n",
       "    .dataframe tbody tr th:only-of-type {\n",
       "        vertical-align: middle;\n",
       "    }\n",
       "\n",
       "    .dataframe tbody tr th {\n",
       "        vertical-align: top;\n",
       "    }\n",
       "\n",
       "    .dataframe thead th {\n",
       "        text-align: right;\n",
       "    }\n",
       "</style>\n",
       "<table border=\"1\" class=\"dataframe\">\n",
       "  <thead>\n",
       "    <tr style=\"text-align: right;\">\n",
       "      <th></th>\n",
       "      <th>DATE</th>\n",
       "      <th>VARIABLE_NAME</th>\n",
       "      <th>VALUE</th>\n",
       "    </tr>\n",
       "  </thead>\n",
       "  <tbody>\n",
       "    <tr>\n",
       "      <th>0</th>\n",
       "      <td>2024-01-09</td>\n",
       "      <td>Bank of England Official Bank Rate</td>\n",
       "      <td>0.0525</td>\n",
       "    </tr>\n",
       "    <tr>\n",
       "      <th>1</th>\n",
       "      <td>2024-01-10</td>\n",
       "      <td>ECB Main Refinancing Operations Rate: Fixed Ra...</td>\n",
       "      <td>0.0450</td>\n",
       "    </tr>\n",
       "    <tr>\n",
       "      <th>2</th>\n",
       "      <td>2023-12-19</td>\n",
       "      <td>Bank of Japan Policy-Rate Balance Rate</td>\n",
       "      <td>-0.0010</td>\n",
       "    </tr>\n",
       "    <tr>\n",
       "      <th>3</th>\n",
       "      <td>2023-12-11</td>\n",
       "      <td>Bank of Brazil Selic Interest Rate Target</td>\n",
       "      <td>0.1225</td>\n",
       "    </tr>\n",
       "    <tr>\n",
       "      <th>4</th>\n",
       "      <td>2023-11-12</td>\n",
       "      <td>Bank of Mexico Official Overnight Target Rate</td>\n",
       "      <td>0.1125</td>\n",
       "    </tr>\n",
       "  </tbody>\n",
       "</table>\n",
       "</div>"
      ],
      "text/plain": [
       "         DATE                                      VARIABLE_NAME   VALUE\n",
       "0  2024-01-09                 Bank of England Official Bank Rate  0.0525\n",
       "1  2024-01-10  ECB Main Refinancing Operations Rate: Fixed Ra...  0.0450\n",
       "2  2023-12-19             Bank of Japan Policy-Rate Balance Rate -0.0010\n",
       "3  2023-12-11          Bank of Brazil Selic Interest Rate Target  0.1225\n",
       "4  2023-11-12      Bank of Mexico Official Overnight Target Rate  0.1125"
      ]
     },
     "execution_count": 10,
     "metadata": {},
     "output_type": "execute_result"
    }
   ],
   "source": [
    "sdf = session.sql(\"\"\"\n",
    "SELECT ts.date,\n",
    "       ts.variable_name,\n",
    "       ts.value\n",
    "FROM FINANCIAL__ECONOMIC_ESSENTIALS.cybersyn.financial_fred_timeseries AS ts\n",
    "JOIN FINANCIAL__ECONOMIC_ESSENTIALS.cybersyn.financial_fred_attributes AS att\n",
    "    ON (att.variable = ts.variable)\n",
    "WHERE variable_group IN ('Bank of Brazil Selic Interest Rate Target',\n",
    "                         'Bank of Canada Overnight Lending Rate',\n",
    "                         'Bank of England Official Bank Rate',\n",
    "                         'Bank of Japan Policy-Rate Balance Rate',\n",
    "                         'Bank of Mexico Official Overnight Target Rate',\n",
    "                         'ECB Main Refinancing Operations Rate: Fixed Rate Tenders for Euro Area',\n",
    "                         'Federal Funds Effective Rate')\"\"\")\n",
    "sdf.limit(5).to_pandas()"
   ]
  },
  {
   "cell_type": "markdown",
   "id": "fe9cc28d-fce3-4ec2-8f85-07301dfe812d",
   "metadata": {},
   "source": [
    "# 3.4 Use Native Snowpark to Manipulate the Data\n",
    "## 3.4.1 Filtering\n",
    "\n",
    "TODO:\n",
    "\n",
    "1. Trim the dataframe columns to just the two we care about for now - \"DATE\" and \"VALUE\"\n",
    "\n",
    "Hints:\n",
    "\n",
    "To select a specific set of spark dataframe columns you would use the syntax spark_dataframe[[\"col_name1\", \"col_name2\"]], Snowpark syntax is the same\n",
    "\n"
   ]
  },
  {
   "cell_type": "code",
   "execution_count": 11,
   "id": "b52cbf10-134d-4013-bf4a-91d6b8bb0143",
   "metadata": {},
   "outputs": [
    {
     "name": "stdout",
     "output_type": "stream",
     "text": [
      "------------------------\n",
      "|\"DATE\"      |\"VALUE\"  |\n",
      "------------------------\n",
      "|2024-01-09  |0.0525   |\n",
      "|2024-01-10  |0.045    |\n",
      "|2023-12-19  |-0.001   |\n",
      "|2023-12-11  |0.1225   |\n",
      "|2023-11-12  |0.1125   |\n",
      "|2014-02-24  |0.0025   |\n",
      "|2024-01-30  |0.1175   |\n",
      "|2024-01-26  |0.0533   |\n",
      "|2024-01-29  |0.1125   |\n",
      "|2024-01-28  |0.1175   |\n",
      "------------------------\n",
      "\n"
     ]
    }
   ],
   "source": [
    "sdf_trimmed = sdf[[\"DATE\", \"VALUE\"]]\n",
    "sdf_trimmed.show()"
   ]
  },
  {
   "cell_type": "markdown",
   "id": "948bc8b2-e07b-4721-8eb8-664672fb39cb",
   "metadata": {},
   "source": [
    "## 3.4.2 GroupBy\n",
    "\n",
    "TODO:\n",
    "\n",
    "1. Group by date to get the average overnight rates for each of the central banks \n",
    "\n",
    "Hints:\n",
    "\n",
    "Spark groupBy grouped_df = df.groupBy(\"the column you want to group by\").agg(mean(\"temperature\")\n",
    "\n",
    "Snowpark's \"group by\" is invoked via \"group_by\", but otherwise the same\n",
    "Snowpark's \"mean\" function is imported in the cell below \n"
   ]
  },
  {
   "cell_type": "code",
   "execution_count": 12,
   "id": "2b41310a-7110-4b21-9515-581af4b5249e",
   "metadata": {},
   "outputs": [],
   "source": [
    "from snowflake.snowpark.functions import mean as mean_"
   ]
  },
  {
   "cell_type": "code",
   "execution_count": 13,
   "id": "c27ecb5b-8f31-4555-be6b-3a890239ca2e",
   "metadata": {},
   "outputs": [
    {
     "data": {
      "text/html": [
       "<div>\n",
       "<style scoped>\n",
       "    .dataframe tbody tr th:only-of-type {\n",
       "        vertical-align: middle;\n",
       "    }\n",
       "\n",
       "    .dataframe tbody tr th {\n",
       "        vertical-align: top;\n",
       "    }\n",
       "\n",
       "    .dataframe thead th {\n",
       "        text-align: right;\n",
       "    }\n",
       "</style>\n",
       "<table border=\"1\" class=\"dataframe\">\n",
       "  <thead>\n",
       "    <tr style=\"text-align: right;\">\n",
       "      <th></th>\n",
       "      <th>DATE</th>\n",
       "      <th>AVG(VALUE)</th>\n",
       "    </tr>\n",
       "  </thead>\n",
       "  <tbody>\n",
       "    <tr>\n",
       "      <th>0</th>\n",
       "      <td>2024-01-19</td>\n",
       "      <td>0.061400</td>\n",
       "    </tr>\n",
       "    <tr>\n",
       "      <th>1</th>\n",
       "      <td>2023-11-24</td>\n",
       "      <td>0.062114</td>\n",
       "    </tr>\n",
       "    <tr>\n",
       "      <th>2</th>\n",
       "      <td>2023-11-28</td>\n",
       "      <td>0.062114</td>\n",
       "    </tr>\n",
       "    <tr>\n",
       "      <th>3</th>\n",
       "      <td>1979-11-06</td>\n",
       "      <td>0.109867</td>\n",
       "    </tr>\n",
       "    <tr>\n",
       "      <th>4</th>\n",
       "      <td>2009-10-27</td>\n",
       "      <td>0.021729</td>\n",
       "    </tr>\n",
       "  </tbody>\n",
       "</table>\n",
       "</div>"
      ],
      "text/plain": [
       "         DATE  AVG(VALUE)\n",
       "0  2024-01-19    0.061400\n",
       "1  2023-11-24    0.062114\n",
       "2  2023-11-28    0.062114\n",
       "3  1979-11-06    0.109867\n",
       "4  2009-10-27    0.021729"
      ]
     },
     "execution_count": 13,
     "metadata": {},
     "output_type": "execute_result"
    }
   ],
   "source": [
    "sdf_grouped = sdf_trimmed.group_by(\"DATE\").agg(mean_(\"VALUE\"))\n",
    "sdf_grouped.limit(5).to_pandas()"
   ]
  },
  {
   "cell_type": "code",
   "execution_count": 14,
   "id": "e70b462c-9fb4-403f-ab4d-bf86bd4214db",
   "metadata": {},
   "outputs": [],
   "source": [
    "sdf_grouped = sdf_grouped.filter((F.col(\"DATE\") >= '2022-01-01'))"
   ]
  },
  {
   "cell_type": "markdown",
   "id": "44cd0c06-ea45-4517-bfcd-91fa58951b66",
   "metadata": {},
   "source": [
    "# 3.5 Join it with our Prior Data"
   ]
  },
  {
   "cell_type": "code",
   "execution_count": 18,
   "id": "a5206f82-709a-49bb-b0c1-0ef3217de723",
   "metadata": {},
   "outputs": [],
   "source": [
    "sdf_ml = session.table(\"ML_PREPPED\")\n",
    "sdf_ml = sdf_ml.filter((F.col(\"SYMBOL\") == 'IBM'))\n",
    "sdf_joined = sdf_ml.join(sdf_grouped, sdf_ml.DATE == sdf_grouped.DATE, rsuffix=\"_right\", how=\"left\")\n",
    "sdf_joined = sdf_joined.rename(F.col(\"AVG(VALUE)\"), \"NEW_FEATURE\")\n",
    "sdf_joined = sdf_joined.drop(\"DATE_RIGHT\")"
   ]
  },
  {
   "cell_type": "code",
   "execution_count": 19,
   "id": "3ed33fed-b178-43af-90e9-9f3445c6ebd8",
   "metadata": {},
   "outputs": [
    {
     "name": "stdout",
     "output_type": "stream",
     "text": [
      "--------------------------------------------------------------------------------------------------------------------------------------------------------------------------------------------------------------------------------------\n",
      "|\"DATE\"      |\"OPEN\"              |\"HIGH\"              |\"LOW\"               |\"CLOSE\"             |\"SYMBOL\"  |\"CLOSE_M1\"          |\"CLOSE_M2\"          |\"CLOSE_M3\"          |\"CLOSE_M4\"          |\"CLOSE_M5\"          |\"NEW_FEATURE\"  |\n",
      "--------------------------------------------------------------------------------------------------------------------------------------------------------------------------------------------------------------------------------------\n",
      "|2020-09-18  |110.4000015258789   |110.87999725341795  |106.08999633789062  |106.83999633789062  |IBM       |106.83999633789062  |106.83999633789062  |106.83999633789062  |106.83999633789062  |106.83999633789062  |NULL           |\n",
      "|2020-08-27  |127.14250183105467  |127.48500061035156  |123.8324966430664   |125.01000213623048  |IBM       |106.83999633789062  |106.83999633789062  |106.83999633789062  |106.83999633789062  |106.83999633789062  |NULL           |\n",
      "|2020-08-28  |126.0124969482422   |126.44249725341795  |124.57749938964844  |124.80750274658205  |IBM       |125.01000213623048  |106.83999633789062  |106.83999633789062  |106.83999633789062  |106.83999633789062  |NULL           |\n",
      "|2020-08-31  |127.58000183105467  |131.0               |126.0               |129.0399932861328   |IBM       |124.80750274658205  |125.01000213623048  |106.83999633789062  |106.83999633789062  |106.83999633789062  |NULL           |\n",
      "|2020-09-01  |132.75999450683594  |134.8000030517578   |130.52999877929688  |134.17999267578125  |IBM       |129.0399932861328   |124.80750274658205  |125.01000213623048  |106.83999633789062  |106.83999633789062  |NULL           |\n",
      "|2020-09-02  |137.58999633789062  |137.97999572753906  |127.0               |131.39999389648438  |IBM       |134.17999267578125  |129.0399932861328   |124.80750274658205  |125.01000213623048  |106.83999633789062  |NULL           |\n",
      "|2020-09-03  |126.91000366210938  |128.83999633789062  |120.5               |120.87999725341795  |IBM       |131.39999389648438  |134.17999267578125  |129.0399932861328   |124.80750274658205  |125.01000213623048  |NULL           |\n",
      "|2020-09-04  |120.06999969482422  |123.6999969482422   |110.88999938964844  |120.95999908447266  |IBM       |120.87999725341795  |131.39999389648438  |134.17999267578125  |129.0399932861328   |124.80750274658205  |NULL           |\n",
      "|2020-09-08  |113.9499969482422   |118.98999786376952  |112.68000030517578  |112.81999969482422  |IBM       |120.95999908447266  |120.87999725341795  |131.39999389648438  |134.17999267578125  |129.0399932861328   |NULL           |\n",
      "|2020-09-09  |117.26000213623048  |119.13999938964844  |115.26000213623048  |117.31999969482422  |IBM       |112.81999969482422  |120.95999908447266  |120.87999725341795  |131.39999389648438  |134.17999267578125  |NULL           |\n",
      "--------------------------------------------------------------------------------------------------------------------------------------------------------------------------------------------------------------------------------------\n",
      "\n"
     ]
    }
   ],
   "source": [
    "sdf_joined.show()"
   ]
  },
  {
   "cell_type": "markdown",
   "id": "e62ba868-53fc-4b5c-805c-148682e6fa56",
   "metadata": {},
   "source": [
    "# 3.6 Train and Test the Model"
   ]
  },
  {
   "cell_type": "code",
   "execution_count": 24,
   "id": "05d92d51-591a-4e4a-8521-e742018af098",
   "metadata": {},
   "outputs": [
    {
     "name": "stderr",
     "output_type": "stream",
     "text": [
      "WARNING:snowflake.snowpark.dataframe_na_functions:Input value type doesn't match the target column data type, this replacement was skipped. Column Name: \"DATE\", Type: DateType(), Input Value: 0.05, Type: <class 'float'>\n",
      "WARNING:snowflake.snowpark.dataframe_na_functions:Input value type doesn't match the target column data type, this replacement was skipped. Column Name: \"SYMBOL\", Type: StringType(16777216), Input Value: 0.05, Type: <class 'float'>\n"
     ]
    }
   ],
   "source": [
    "sdf_joined = sdf_joined.na.fill(0.05)\n",
    "sdf_joined_train, sdf_joined_test = sdf_joined.filter((F.col(\"DATE\") <= '2023-01-01')), sdf_joined.filter((F.col(\"DATE\") > '2023-01-01')) "
   ]
  },
  {
   "cell_type": "code",
   "execution_count": 26,
   "id": "00b03f0d-a038-4c5e-a1df-0763788fc501",
   "metadata": {},
   "outputs": [
    {
     "name": "stderr",
     "output_type": "stream",
     "text": [
      "/var/folders/97/8vc6xcbx4zd06p75xg9frdrw0000gn/T/ipykernel_17183/3414850454.py:3: DeprecationWarning: \n",
      "The `snowflake.ml.registry.model_registry.ModelRegistry` has been deprecated starting from version 1.2.0.\n",
      "It will stay in the Private Preview phase. For future implementations, kindly utilize `snowflake.ml.registry.Registry`,\n",
      "except when specifically required. The old model registry will be removed once all its primary functionalities are\n",
      "fully integrated into the new registry.\n",
      "        \n",
      "  registry = model_registry.ModelRegistry(session=session, database_name=REGISTRY_DATABASE_NAME, schema_name=REGISTRY_SCHEMA_NAME)\n"
     ]
    },
    {
     "ename": "RuntimeError",
     "evalue": "(2100) \nThe model's dependencies are not available in Snowflake Anaconda Channel. \nRequired packages are: \"absl-py<2,>=1.4\" \"anyio<4,>=3.5\" \"cloudpickle<3,>=2.2\" \"numpy<2,>=1.24\" \"packaging<24,>=23.1\" \"pandas<2,>=1.5\" \"pyyaml<7,>=6.0\" \"snowflake-snowpark-python<2,>=1.11\" \"typing-extensions<5,>=4.7\" \"snowflake-ml-python<2,>=1.2\" \"scikit-learn<2,>=1.3\"\nRequired Python version is: 3.11\nPackages that are not available are: []\nPackages that cannot meet your requirements are: ['snowflake-ml-python']\nPackage availability information of those you requested is: {'absl-py': [<Version('1.4.0')>], 'anyio': [<Version('3.5.0')>], 'cloudpickle': [<Version('2.2.1')>], 'numpy': [<Version('1.24.3')>, <Version('1.25.0')>, <Version('1.25.2')>, <Version('1.26.0')>, <Version('1.26.2')>, <Version('1.26.3')>], 'packaging': [<Version('23.1')>], 'pandas': [<Version('1.5.2')>, <Version('1.5.3')>], 'pyyaml': [<Version('6.0')>, <Version('6.0.1')>], 'snowflake-snowpark-python': [<Version('1.11.1')>], 'typing-extensions': [<Version('4.7.1')>], 'snowflake-ml-python': [], 'scikit-learn': [<Version('1.3.0')>]}\n",
     "output_type": "error",
     "traceback": [
      "\u001b[0;31m---------------------------------------------------------------------------\u001b[0m",
      "\u001b[0;31mSnowflakeMLException\u001b[0m                      Traceback (most recent call last)",
      "File \u001b[0;32m~/opt/anaconda3/envs/snowpark-ml-hol/lib/python3.11/site-packages/snowflake/ml/_internal/telemetry.py:358\u001b[0m, in \u001b[0;36msend_api_usage_telemetry.<locals>.decorator.<locals>.wrap\u001b[0;34m(*args, **kwargs)\u001b[0m\n\u001b[1;32m    357\u001b[0m \u001b[38;5;28;01mtry\u001b[39;00m:\n\u001b[0;32m--> 358\u001b[0m     res \u001b[38;5;241m=\u001b[39m func(\u001b[38;5;241m*\u001b[39margs, \u001b[38;5;241m*\u001b[39m\u001b[38;5;241m*\u001b[39mkwargs)\n\u001b[1;32m    359\u001b[0m \u001b[38;5;28;01mexcept\u001b[39;00m \u001b[38;5;167;01mException\u001b[39;00m \u001b[38;5;28;01mas\u001b[39;00m e:\n",
      "File \u001b[0;32m~/opt/anaconda3/envs/snowpark-ml-hol/lib/python3.11/site-packages/snowflake/snowpark/_internal/utils.py:628\u001b[0m, in \u001b[0;36mfunc_decorator.<locals>.wrapper.<locals>.func_call_wrapper\u001b[0;34m(*args, **kwargs)\u001b[0m\n\u001b[1;32m    627\u001b[0m warning(func\u001b[38;5;241m.\u001b[39m\u001b[38;5;18m__qualname__\u001b[39m, warning_text)\n\u001b[0;32m--> 628\u001b[0m \u001b[38;5;28;01mreturn\u001b[39;00m func(\u001b[38;5;241m*\u001b[39margs, \u001b[38;5;241m*\u001b[39m\u001b[38;5;241m*\u001b[39mkwargs)\n",
      "File \u001b[0;32m~/opt/anaconda3/envs/snowpark-ml-hol/lib/python3.11/site-packages/snowflake/ml/registry/model_registry.py:1575\u001b[0m, in \u001b[0;36mModelRegistry.deploy\u001b[0;34m(self, model_name, model_version, deployment_name, target_method, permanent, platform, options)\u001b[0m\n\u001b[1;32m   1574\u001b[0m \u001b[38;5;66;03m# Step 1: Deploy to get the UDF\u001b[39;00m\n\u001b[0;32m-> 1575\u001b[0m deployment_info \u001b[38;5;241m=\u001b[39m model_api\u001b[38;5;241m.\u001b[39mdeploy(\n\u001b[1;32m   1576\u001b[0m     session\u001b[38;5;241m=\u001b[39m\u001b[38;5;28mself\u001b[39m\u001b[38;5;241m.\u001b[39m_session,\n\u001b[1;32m   1577\u001b[0m     name\u001b[38;5;241m=\u001b[39m\u001b[38;5;28mself\u001b[39m\u001b[38;5;241m.\u001b[39m_fully_qualified_deployment_name(deployment_name),\n\u001b[1;32m   1578\u001b[0m     platform\u001b[38;5;241m=\u001b[39mplatform,\n\u001b[1;32m   1579\u001b[0m     target_method\u001b[38;5;241m=\u001b[39mtarget_method,\n\u001b[1;32m   1580\u001b[0m     stage_path\u001b[38;5;241m=\u001b[39mremote_model_path,\n\u001b[1;32m   1581\u001b[0m     deployment_stage_path\u001b[38;5;241m=\u001b[39mdeployment_stage_path,\n\u001b[1;32m   1582\u001b[0m     model_id\u001b[38;5;241m=\u001b[39mmodel_id,\n\u001b[1;32m   1583\u001b[0m     options\u001b[38;5;241m=\u001b[39moptions,\n\u001b[1;32m   1584\u001b[0m )\n\u001b[1;32m   1586\u001b[0m \u001b[38;5;66;03m# Step 2: Record the deployment\u001b[39;00m\n\u001b[1;32m   1587\u001b[0m \n\u001b[1;32m   1588\u001b[0m \u001b[38;5;66;03m# Assert to convince mypy.\u001b[39;00m\n",
      "File \u001b[0;32m~/opt/anaconda3/envs/snowpark-ml-hol/lib/python3.11/site-packages/snowflake/ml/model/_api.py:376\u001b[0m, in \u001b[0;36mdeploy\u001b[0;34m(session, name, platform, stage_path, target_method, deployment_stage_path, model_id, options)\u001b[0m\n\u001b[1;32m    375\u001b[0m \u001b[38;5;28;01mif\u001b[39;00m platform \u001b[38;5;241m==\u001b[39m deploy_platforms\u001b[38;5;241m.\u001b[39mTargetPlatform\u001b[38;5;241m.\u001b[39mWAREHOUSE:\n\u001b[0;32m--> 376\u001b[0m     warehouse_deploy\u001b[38;5;241m.\u001b[39m_deploy_to_warehouse(\n\u001b[1;32m    377\u001b[0m         session\u001b[38;5;241m=\u001b[39msession,\n\u001b[1;32m    378\u001b[0m         model_stage_file_path\u001b[38;5;241m=\u001b[39mm\u001b[38;5;241m.\u001b[39mmodel_stage_path,\n\u001b[1;32m    379\u001b[0m         model_meta\u001b[38;5;241m=\u001b[39mm\u001b[38;5;241m.\u001b[39mpackager\u001b[38;5;241m.\u001b[39mmeta,\n\u001b[1;32m    380\u001b[0m         udf_name\u001b[38;5;241m=\u001b[39mname,\n\u001b[1;32m    381\u001b[0m         target_method\u001b[38;5;241m=\u001b[39mtarget_method,\n\u001b[1;32m    382\u001b[0m         \u001b[38;5;241m*\u001b[39m\u001b[38;5;241m*\u001b[39moptions,\n\u001b[1;32m    383\u001b[0m     )\n\u001b[1;32m    385\u001b[0m \u001b[38;5;28;01melif\u001b[39;00m platform \u001b[38;5;241m==\u001b[39m deploy_platforms\u001b[38;5;241m.\u001b[39mTargetPlatform\u001b[38;5;241m.\u001b[39mSNOWPARK_CONTAINER_SERVICES:\n",
      "File \u001b[0;32m~/opt/anaconda3/envs/snowpark-ml-hol/lib/python3.11/site-packages/snowflake/ml/model/_deploy_client/warehouse/deploy.py:68\u001b[0m, in \u001b[0;36m_deploy_to_warehouse\u001b[0;34m(session, model_stage_file_path, model_meta, udf_name, target_method, **kwargs)\u001b[0m\n\u001b[1;32m     63\u001b[0m     \u001b[38;5;28;01mraise\u001b[39;00m snowml_exceptions\u001b[38;5;241m.\u001b[39mSnowflakeMLException(\n\u001b[1;32m     64\u001b[0m         error_code\u001b[38;5;241m=\u001b[39merror_codes\u001b[38;5;241m.\u001b[39mINVALID_ARGUMENT,\n\u001b[1;32m     65\u001b[0m         original_exception\u001b[38;5;241m=\u001b[39m\u001b[38;5;167;01mValueError\u001b[39;00m(\u001b[38;5;124mf\u001b[39m\u001b[38;5;124m\"\u001b[39m\u001b[38;5;124mTarget method \u001b[39m\u001b[38;5;132;01m{\u001b[39;00mtarget_method\u001b[38;5;132;01m}\u001b[39;00m\u001b[38;5;124m does not exist in model.\u001b[39m\u001b[38;5;124m\"\u001b[39m),\n\u001b[1;32m     66\u001b[0m     )\n\u001b[0;32m---> 68\u001b[0m final_packages \u001b[38;5;241m=\u001b[39m _get_model_final_packages(model_meta, session, relax_version\u001b[38;5;241m=\u001b[39mrelax_version)\n\u001b[1;32m     70\u001b[0m stage_location \u001b[38;5;241m=\u001b[39m kwargs\u001b[38;5;241m.\u001b[39mget(\u001b[38;5;124m\"\u001b[39m\u001b[38;5;124mpermanent_udf_stage_location\u001b[39m\u001b[38;5;124m\"\u001b[39m, \u001b[38;5;28;01mNone\u001b[39;00m)\n",
      "File \u001b[0;32m~/opt/anaconda3/envs/snowpark-ml-hol/lib/python3.11/site-packages/snowflake/ml/model/_deploy_client/warehouse/deploy.py:187\u001b[0m, in \u001b[0;36m_get_model_final_packages\u001b[0;34m(meta, session, relax_version)\u001b[0m\n\u001b[1;32m    186\u001b[0m     required_package_str \u001b[38;5;241m=\u001b[39m \u001b[38;5;124m\"\u001b[39m\u001b[38;5;124m \u001b[39m\u001b[38;5;124m\"\u001b[39m\u001b[38;5;241m.\u001b[39mjoin(\u001b[38;5;28mmap\u001b[39m(\u001b[38;5;28;01mlambda\u001b[39;00m x: \u001b[38;5;124mf\u001b[39m\u001b[38;5;124m'\u001b[39m\u001b[38;5;124m\"\u001b[39m\u001b[38;5;132;01m{\u001b[39;00mx\u001b[38;5;132;01m}\u001b[39;00m\u001b[38;5;124m\"\u001b[39m\u001b[38;5;124m'\u001b[39m, required_packages))\n\u001b[0;32m--> 187\u001b[0m     \u001b[38;5;28;01mraise\u001b[39;00m snowml_exceptions\u001b[38;5;241m.\u001b[39mSnowflakeMLException(\n\u001b[1;32m    188\u001b[0m         error_code\u001b[38;5;241m=\u001b[39merror_codes\u001b[38;5;241m.\u001b[39mDEPENDENCY_VERSION_ERROR,\n\u001b[1;32m    189\u001b[0m         original_exception\u001b[38;5;241m=\u001b[39m\u001b[38;5;167;01mRuntimeError\u001b[39;00m(\n\u001b[1;32m    190\u001b[0m             textwrap\u001b[38;5;241m.\u001b[39mdedent(\n\u001b[1;32m    191\u001b[0m                 \u001b[38;5;124mf\u001b[39m\u001b[38;5;124m\"\"\"\u001b[39m\n\u001b[1;32m    192\u001b[0m \u001b[38;5;124m            The model\u001b[39m\u001b[38;5;124m'\u001b[39m\u001b[38;5;124ms dependencies are not available in Snowflake Anaconda Channel. \u001b[39m\u001b[38;5;132;01m{\u001b[39;00mrelax_version_info_str\u001b[38;5;132;01m}\u001b[39;00m\n\u001b[1;32m    193\u001b[0m \u001b[38;5;124m            Required packages are: \u001b[39m\u001b[38;5;132;01m{\u001b[39;00mrequired_package_str\u001b[38;5;132;01m}\u001b[39;00m\n\u001b[1;32m    194\u001b[0m \u001b[38;5;124m            Required Python version is: \u001b[39m\u001b[38;5;132;01m{\u001b[39;00mmeta\u001b[38;5;241m.\u001b[39menv\u001b[38;5;241m.\u001b[39mpython_version\u001b[38;5;132;01m}\u001b[39;00m\n\u001b[1;32m    195\u001b[0m \u001b[38;5;124m            Packages that are not available are: \u001b[39m\u001b[38;5;132;01m{\u001b[39;00munavailable_packages\u001b[38;5;132;01m}\u001b[39;00m\n\u001b[1;32m    196\u001b[0m \u001b[38;5;124m            Packages that cannot meet your requirements are: \u001b[39m\u001b[38;5;132;01m{\u001b[39;00mno_version_available_packages\u001b[38;5;132;01m}\u001b[39;00m\n\u001b[1;32m    197\u001b[0m \u001b[38;5;124m            Package availability information of those you requested is: \u001b[39m\u001b[38;5;132;01m{\u001b[39;00mpackage_availability_dict\u001b[38;5;132;01m}\u001b[39;00m\n\u001b[1;32m    198\u001b[0m \u001b[38;5;124m            \u001b[39m\u001b[38;5;124m\"\"\"\u001b[39m\n\u001b[1;32m    199\u001b[0m             ),\n\u001b[1;32m    200\u001b[0m         ),\n\u001b[1;32m    201\u001b[0m     )\n\u001b[1;32m    202\u001b[0m \u001b[38;5;28;01mreturn\u001b[39;00m \u001b[38;5;28mlist\u001b[39m(\u001b[38;5;28msorted\u001b[39m(\u001b[38;5;28mmap\u001b[39m(\u001b[38;5;28mstr\u001b[39m, required_packages)))\n",
      "\u001b[0;31mSnowflakeMLException\u001b[0m: RuntimeError('(2100) \\nThe model\\'s dependencies are not available in Snowflake Anaconda Channel. \\nRequired packages are: \"absl-py<2,>=1.4\" \"anyio<4,>=3.5\" \"cloudpickle<3,>=2.2\" \"numpy<2,>=1.24\" \"packaging<24,>=23.1\" \"pandas<2,>=1.5\" \"pyyaml<7,>=6.0\" \"snowflake-snowpark-python<2,>=1.11\" \"typing-extensions<5,>=4.7\" \"snowflake-ml-python<2,>=1.2\" \"scikit-learn<2,>=1.3\"\\nRequired Python version is: 3.11\\nPackages that are not available are: []\\nPackages that cannot meet your requirements are: [\\'snowflake-ml-python\\']\\nPackage availability information of those you requested is: {\\'absl-py\\': [<Version(\\'1.4.0\\')>], \\'anyio\\': [<Version(\\'3.5.0\\')>], \\'cloudpickle\\': [<Version(\\'2.2.1\\')>], \\'numpy\\': [<Version(\\'1.24.3\\')>, <Version(\\'1.25.0\\')>, <Version(\\'1.25.2\\')>, <Version(\\'1.26.0\\')>, <Version(\\'1.26.2\\')>, <Version(\\'1.26.3\\')>], \\'packaging\\': [<Version(\\'23.1\\')>], \\'pandas\\': [<Version(\\'1.5.2\\')>, <Version(\\'1.5.3\\')>], \\'pyyaml\\': [<Version(\\'6.0\\')>, <Version(\\'6.0.1\\')>], \\'snowflake-snowpark-python\\': [<Version(\\'1.11.1\\')>], \\'typing-extensions\\': [<Version(\\'4.7.1\\')>], \\'snowflake-ml-python\\': [], \\'scikit-learn\\': [<Version(\\'1.3.0\\')>]}\\n')",
      "\nThe above exception was the direct cause of the following exception:\n",
      "\u001b[0;31mRuntimeError\u001b[0m                              Traceback (most recent call last)",
      "Cell \u001b[0;32mIn[26], line 20\u001b[0m\n\u001b[1;32m     14\u001b[0m model \u001b[38;5;241m=\u001b[39m registry\u001b[38;5;241m.\u001b[39mlog_model(model_name\u001b[38;5;241m=\u001b[39mMODEL_NAME,\n\u001b[1;32m     15\u001b[0m                            model_version\u001b[38;5;241m=\u001b[39mMODEL_VERSION,\n\u001b[1;32m     16\u001b[0m                            model\u001b[38;5;241m=\u001b[39mregressor,\n\u001b[1;32m     17\u001b[0m                            tags\u001b[38;5;241m=\u001b[39m{\u001b[38;5;124m\"\u001b[39m\u001b[38;5;124mstage\u001b[39m\u001b[38;5;124m\"\u001b[39m: \u001b[38;5;124m\"\u001b[39m\u001b[38;5;124mtesting\u001b[39m\u001b[38;5;124m\"\u001b[39m, \u001b[38;5;124m\"\u001b[39m\u001b[38;5;124mclassifier_type\u001b[39m\u001b[38;5;124m\"\u001b[39m: \u001b[38;5;124m\"\u001b[39m\u001b[38;5;124mLin_Reg\u001b[39m\u001b[38;5;124m\"\u001b[39m})\n\u001b[1;32m     19\u001b[0m \u001b[38;5;66;03m# deploy\u001b[39;00m\n\u001b[0;32m---> 20\u001b[0m model\u001b[38;5;241m.\u001b[39mdeploy(deployment_name\u001b[38;5;241m=\u001b[39mMODEL_NAME \u001b[38;5;241m+\u001b[39m MODEL_VERSION,\n\u001b[1;32m     21\u001b[0m              target_method\u001b[38;5;241m=\u001b[39m\u001b[38;5;124m\"\u001b[39m\u001b[38;5;124mpredict\u001b[39m\u001b[38;5;124m\"\u001b[39m,\n\u001b[1;32m     22\u001b[0m              permanent\u001b[38;5;241m=\u001b[39m\u001b[38;5;28;01mTrue\u001b[39;00m,\n\u001b[1;32m     23\u001b[0m              options\u001b[38;5;241m=\u001b[39m{\u001b[38;5;124m\"\u001b[39m\u001b[38;5;124mrelax_version\u001b[39m\u001b[38;5;124m\"\u001b[39m: \u001b[38;5;28;01mTrue\u001b[39;00m})\n",
      "File \u001b[0;32m~/opt/anaconda3/envs/snowpark-ml-hol/lib/python3.11/site-packages/snowflake/ml/registry/model_registry.py:1943\u001b[0m, in \u001b[0;36mModelReference.__init__.<locals>.build_method.<locals>.<lambda>\u001b[0;34m(self, *args, **kwargs)\u001b[0m\n\u001b[1;32m   1942\u001b[0m \u001b[38;5;28;01mdef\u001b[39;00m \u001b[38;5;21mbuild_method\u001b[39m(m: Callable[\u001b[38;5;241m.\u001b[39m\u001b[38;5;241m.\u001b[39m\u001b[38;5;241m.\u001b[39m, Any]) \u001b[38;5;241m-\u001b[39m\u001b[38;5;241m>\u001b[39m Callable[\u001b[38;5;241m.\u001b[39m\u001b[38;5;241m.\u001b[39m\u001b[38;5;241m.\u001b[39m, Any]:\n\u001b[0;32m-> 1943\u001b[0m     \u001b[38;5;28;01mreturn\u001b[39;00m \u001b[38;5;28;01mlambda\u001b[39;00m \u001b[38;5;28mself\u001b[39m, \u001b[38;5;241m*\u001b[39margs, \u001b[38;5;241m*\u001b[39m\u001b[38;5;241m*\u001b[39mkwargs: m(\n\u001b[1;32m   1944\u001b[0m         \u001b[38;5;28mself\u001b[39m\u001b[38;5;241m.\u001b[39m_registry, \u001b[38;5;28mself\u001b[39m\u001b[38;5;241m.\u001b[39m_model_name, \u001b[38;5;28mself\u001b[39m\u001b[38;5;241m.\u001b[39m_model_version, \u001b[38;5;241m*\u001b[39margs, \u001b[38;5;241m*\u001b[39m\u001b[38;5;241m*\u001b[39mkwargs\n\u001b[1;32m   1945\u001b[0m     )\n",
      "File \u001b[0;32m~/opt/anaconda3/envs/snowpark-ml-hol/lib/python3.11/site-packages/snowflake/ml/_internal/telemetry.py:380\u001b[0m, in \u001b[0;36msend_api_usage_telemetry.<locals>.decorator.<locals>.wrap\u001b[0;34m(*args, **kwargs)\u001b[0m\n\u001b[1;32m    378\u001b[0m         \u001b[38;5;28;01mraise\u001b[39;00m me\u001b[38;5;241m.\u001b[39moriginal_exception \u001b[38;5;28;01mfrom\u001b[39;00m \u001b[38;5;28;01mNone\u001b[39;00m\n\u001b[1;32m    379\u001b[0m     \u001b[38;5;28;01melse\u001b[39;00m:\n\u001b[0;32m--> 380\u001b[0m         \u001b[38;5;28;01mraise\u001b[39;00m me\u001b[38;5;241m.\u001b[39moriginal_exception \u001b[38;5;28;01mfrom\u001b[39;00m \u001b[38;5;21;01me\u001b[39;00m\n\u001b[1;32m    381\u001b[0m \u001b[38;5;28;01melse\u001b[39;00m:\n\u001b[1;32m    382\u001b[0m     \u001b[38;5;28;01mreturn\u001b[39;00m update_stmt_params_if_snowpark_df(res, statement_params)\n",
      "\u001b[0;31mRuntimeError\u001b[0m: (2100) \nThe model's dependencies are not available in Snowflake Anaconda Channel. \nRequired packages are: \"absl-py<2,>=1.4\" \"anyio<4,>=3.5\" \"cloudpickle<3,>=2.2\" \"numpy<2,>=1.24\" \"packaging<24,>=23.1\" \"pandas<2,>=1.5\" \"pyyaml<7,>=6.0\" \"snowflake-snowpark-python<2,>=1.11\" \"typing-extensions<5,>=4.7\" \"snowflake-ml-python<2,>=1.2\" \"scikit-learn<2,>=1.3\"\nRequired Python version is: 3.11\nPackages that are not available are: []\nPackages that cannot meet your requirements are: ['snowflake-ml-python']\nPackage availability information of those you requested is: {'absl-py': [<Version('1.4.0')>], 'anyio': [<Version('3.5.0')>], 'cloudpickle': [<Version('2.2.1')>], 'numpy': [<Version('1.24.3')>, <Version('1.25.0')>, <Version('1.25.2')>, <Version('1.26.0')>, <Version('1.26.2')>, <Version('1.26.3')>], 'packaging': [<Version('23.1')>], 'pandas': [<Version('1.5.2')>, <Version('1.5.3')>], 'pyyaml': [<Version('6.0')>, <Version('6.0.1')>], 'snowflake-snowpark-python': [<Version('1.11.1')>], 'typing-extensions': [<Version('4.7.1')>], 'snowflake-ml-python': [], 'scikit-learn': [<Version('1.3.0')>]}\n"
     ]
    }
   ],
   "source": [
    "REGISTRY_DATABASE_NAME = \"MODEL_REGISTRY\"\n",
    "REGISTRY_SCHEMA_NAME = \"PUBLIC\"\n",
    "registry = model_registry.ModelRegistry(session=session, database_name=REGISTRY_DATABASE_NAME, schema_name=REGISTRY_SCHEMA_NAME)\n",
    "\n",
    "#train\n",
    "regressor = LinearRegression(input_cols=[\"CLOSE_M1\", \"CLOSE_M2\", \"CLOSE_M3\", \"CLOSE_M4\", \"CLOSE_M5\", \"NEW_FEATURE\"],\n",
    "                         label_cols=[\"CLOSE\"],\n",
    "                         output_cols=[\"CLOSE_PREDICT\"])\n",
    "regressor.fit(sdf_joined_train)\n",
    "\n",
    "#register\n",
    "MODEL_NAME = \"REGRESSION_IBM_W_NEW_DATA\"\n",
    "MODEL_VERSION = \"v3\"\n",
    "model = registry.log_model(model_name=MODEL_NAME,\n",
    "                           model_version=MODEL_VERSION,\n",
    "                           model=regressor,\n",
    "                           tags={\"stage\": \"testing\", \"classifier_type\": \"Lin_Reg\"})\n",
    "\n",
    "# deploy\n",
    "model.deploy(deployment_name=MODEL_NAME + MODEL_VERSION,\n",
    "             target_method=\"predict\",\n",
    "             permanent=True,\n",
    "             options={\"relax_version\": True})"
   ]
  },
  {
   "cell_type": "code",
   "execution_count": null,
   "id": "f02ad149-a99f-4c15-b68a-4eb8f0470e57",
   "metadata": {},
   "outputs": [],
   "source": [
    "# predict\n",
    "model.predict(deployment_name=MODEL_NAME + MODEL_VERSION, data=sdf_filt_test).limit(20).to_pandas()"
   ]
  },
  {
   "cell_type": "code",
   "execution_count": null,
   "id": "c31dec85-3b9b-49c3-b0d3-e350bdf24fc9",
   "metadata": {},
   "outputs": [],
   "source": []
  }
 ],
 "metadata": {
  "kernelspec": {
   "display_name": "Python 3 (ipykernel)",
   "language": "python",
   "name": "python3"
  },
  "language_info": {
   "codemirror_mode": {
    "name": "ipython",
    "version": 3
   },
   "file_extension": ".py",
   "mimetype": "text/x-python",
   "name": "python",
   "nbconvert_exporter": "python",
   "pygments_lexer": "ipython3",
   "version": "3.11.7"
  }
 },
 "nbformat": 4,
 "nbformat_minor": 5
}
