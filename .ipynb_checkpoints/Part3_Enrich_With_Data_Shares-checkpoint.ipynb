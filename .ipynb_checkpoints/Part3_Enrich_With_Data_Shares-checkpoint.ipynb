{
 "cells": [
  {
   "cell_type": "markdown",
   "id": "6f8a6f15-e225-4b56-a88f-34e9a8478c02",
   "metadata": {},
   "source": [
    "# Get more fancy pants data\n",
    "- go to the web factset \n",
    "- request it\n",
    "- back to your sheet and run it (insert the name)\n"
   ]
  },
  {
   "cell_type": "markdown",
   "id": "3d7d23df-b67d-47b8-9745-ed956aaa06c4",
   "metadata": {},
   "source": [
    "# Integrate it with the model\n",
    "- join the data\n",
    "- so update the model features\n"
   ]
  },
  {
   "cell_type": "code",
   "execution_count": 15,
   "id": "8bcf030b-48f0-4720-a549-848b43111fa7",
   "metadata": {},
   "outputs": [],
   "source": [
    "import json\n",
    "import pandas as pd\n",
    "from snowflake.snowpark.session import Session\n",
    "import snowflake.snowpark.functions as F\n",
    "from snowflake.snowpark.types import PandasDataFrameType, IntegerType, StringType, FloatType, DateType\n",
    "from snowflake.ml.modeling.xgboost import XGBRegressor\n",
    "from snowflake.ml.modeling.linear_model import LinearRegression\n",
    "#from snowflake.ml.registry import model_registry\n",
    "from snowflake.ml.registry import registry\n",
    "from snowflake.ml._internal.utils import identifier"
   ]
  },
  {
   "cell_type": "markdown",
   "id": "ead122fb-a9af-4105-bbb8-c0e16ed4c29c",
   "metadata": {},
   "source": [
    "# 3.1 Get the Data Share\n"
   ]
  },
  {
   "cell_type": "markdown",
   "id": "93e15fba-8371-417e-a011-ccbc7b112ef9",
   "metadata": {},
   "source": [
    "https://app.snowflake.com/marketplace/listing/GZT1ZA3NLF/similarweb-ltd-global-stocks-25-000-tickers-digital-traffic-data-by-domain?search=Global%20Stocks"
   ]
  },
  {
   "cell_type": "markdown",
   "id": "f3b85097-c5dd-4d54-8b25-04eae0b18a1f",
   "metadata": {},
   "source": [
    "# 3.2 Reading Snowflake Connection Details, create a Session\n"
   ]
  },
  {
   "cell_type": "code",
   "execution_count": 2,
   "id": "fb970c10-ecdf-423a-a0e6-430fa072bb1c",
   "metadata": {},
   "outputs": [
    {
     "data": {
      "text/plain": [
       "[Row(status='Warehouse ASYNC_WH successfully created.')]"
      ]
     },
     "execution_count": 2,
     "metadata": {},
     "output_type": "execute_result"
    }
   ],
   "source": [
    "snowflake_connection_cfg = json.loads(open(\"/Users/mitaylor/Documents/creds/creds_sf_azure.json\").read()) # <--- Update here\n",
    "session = Session.builder.configs(snowflake_connection_cfg).create()\n",
    "session.sql(\"USE DATABASE HOL_DEMO\").collect()\n",
    "#session.sql(\"USE STAGE YOUR_STAGE\").collect()\n",
    "session.sql(\"CREATE OR REPLACE WAREHOUSE ASYNC_WH WITH WAREHOUSE_SIZE='MEDIUM' WAREHOUSE_TYPE = 'SNOWPARK-OPTIMIZED'\").collect()"
   ]
  },
  {
   "cell_type": "markdown",
   "id": "f1c60fe8-c8a8-46c4-abca-4dee9ab9b0c9",
   "metadata": {},
   "source": [
    "# 3.3 Use SQL to import the data"
   ]
  },
  {
   "cell_type": "code",
   "execution_count": 4,
   "id": "f4bae2e1-817c-4059-a388-a64665c1e327",
   "metadata": {},
   "outputs": [
    {
     "data": {
      "text/html": [
       "<div>\n",
       "<style scoped>\n",
       "    .dataframe tbody tr th:only-of-type {\n",
       "        vertical-align: middle;\n",
       "    }\n",
       "\n",
       "    .dataframe tbody tr th {\n",
       "        vertical-align: top;\n",
       "    }\n",
       "\n",
       "    .dataframe thead th {\n",
       "        text-align: right;\n",
       "    }\n",
       "</style>\n",
       "<table border=\"1\" class=\"dataframe\">\n",
       "  <thead>\n",
       "    <tr style=\"text-align: right;\">\n",
       "      <th></th>\n",
       "      <th>DATE</th>\n",
       "      <th>VARIABLE_NAME</th>\n",
       "      <th>VALUE</th>\n",
       "    </tr>\n",
       "  </thead>\n",
       "  <tbody>\n",
       "    <tr>\n",
       "      <th>0</th>\n",
       "      <td>2024-01-20</td>\n",
       "      <td>ECB Main Refinancing Operations Rate: Fixed Ra...</td>\n",
       "      <td>0.0450</td>\n",
       "    </tr>\n",
       "    <tr>\n",
       "      <th>1</th>\n",
       "      <td>2024-01-16</td>\n",
       "      <td>Bank of Canada Overnight Lending Rate</td>\n",
       "      <td>0.0500</td>\n",
       "    </tr>\n",
       "    <tr>\n",
       "      <th>2</th>\n",
       "      <td>2023-12-02</td>\n",
       "      <td>Bank of Brazil Selic Interest Rate Target</td>\n",
       "      <td>0.1225</td>\n",
       "    </tr>\n",
       "    <tr>\n",
       "      <th>3</th>\n",
       "      <td>2023-11-29</td>\n",
       "      <td>Bank of England Official Bank Rate</td>\n",
       "      <td>0.0525</td>\n",
       "    </tr>\n",
       "    <tr>\n",
       "      <th>4</th>\n",
       "      <td>2023-11-28</td>\n",
       "      <td>Federal Funds Effective Rate</td>\n",
       "      <td>0.0533</td>\n",
       "    </tr>\n",
       "  </tbody>\n",
       "</table>\n",
       "</div>"
      ],
      "text/plain": [
       "         DATE                                      VARIABLE_NAME   VALUE\n",
       "0  2024-01-20  ECB Main Refinancing Operations Rate: Fixed Ra...  0.0450\n",
       "1  2024-01-16              Bank of Canada Overnight Lending Rate  0.0500\n",
       "2  2023-12-02          Bank of Brazil Selic Interest Rate Target  0.1225\n",
       "3  2023-11-29                 Bank of England Official Bank Rate  0.0525\n",
       "4  2023-11-28                       Federal Funds Effective Rate  0.0533"
      ]
     },
     "execution_count": 4,
     "metadata": {},
     "output_type": "execute_result"
    }
   ],
   "source": [
    "sdf = session.sql(\"\"\"\n",
    "SELECT ts.date,\n",
    "       ts.variable_name,\n",
    "       ts.value\n",
    "FROM FINANCIAL__ECONOMIC_ESSENTIALS.cybersyn.financial_fred_timeseries AS ts\n",
    "JOIN FINANCIAL__ECONOMIC_ESSENTIALS.cybersyn.financial_fred_attributes AS att\n",
    "    ON (att.variable = ts.variable)\n",
    "WHERE variable_group IN ('Bank of Brazil Selic Interest Rate Target',\n",
    "                         'Bank of Canada Overnight Lending Rate',\n",
    "                         'Bank of England Official Bank Rate',\n",
    "                         'Bank of Japan Policy-Rate Balance Rate',\n",
    "                         'Bank of Mexico Official Overnight Target Rate',\n",
    "                         'ECB Main Refinancing Operations Rate: Fixed Rate Tenders for Euro Area',\n",
    "                         'Federal Funds Effective Rate')\"\"\")\n",
    "sdf.limit(5).to_pandas()"
   ]
  },
  {
   "cell_type": "markdown",
   "id": "fe9cc28d-fce3-4ec2-8f85-07301dfe812d",
   "metadata": {},
   "source": [
    "# 3.4 Use Native Snowpark to Manipulate the Data\n",
    "## 3.4.1 Filtering\n",
    "\n",
    "TODO:\n",
    "\n",
    "1. Trim the dataframe columns to just the two we care about for now - \"DATE\" and \"VALUE\"\n",
    "\n",
    "Hints:\n",
    "\n",
    "To select a specific set of spark dataframe columns you would use the syntax spark_dataframe[[\"col_name1\", \"col_name2\"]], Snowpark syntax is the same\n",
    "\n"
   ]
  },
  {
   "cell_type": "code",
   "execution_count": 5,
   "id": "b52cbf10-134d-4013-bf4a-91d6b8bb0143",
   "metadata": {},
   "outputs": [
    {
     "name": "stdout",
     "output_type": "stream",
     "text": [
      "------------------------\n",
      "|\"DATE\"      |\"VALUE\"  |\n",
      "------------------------\n",
      "|2024-01-29  |0.1125   |\n",
      "|2024-01-28  |0.1175   |\n",
      "|2024-01-25  |0.0525   |\n",
      "|2024-01-29  |0.045    |\n",
      "|2024-01-30  |0.1125   |\n",
      "|2024-01-30  |0.045    |\n",
      "|2024-01-28  |0.045    |\n",
      "|2024-01-28  |0.1125   |\n",
      "|2024-01-30  |0.1175   |\n",
      "|2024-01-26  |0.0533   |\n",
      "------------------------\n",
      "\n"
     ]
    }
   ],
   "source": [
    "sdf_trimmed = sdf[[\"DATE\", \"VALUE\"]]\n",
    "sdf_trimmed.show()"
   ]
  },
  {
   "cell_type": "markdown",
   "id": "948bc8b2-e07b-4721-8eb8-664672fb39cb",
   "metadata": {},
   "source": [
    "## 3.4.2 GroupBy\n",
    "\n",
    "TODO:\n",
    "\n",
    "1. Group by date to get the average overnight rates for each of the central banks \n",
    "\n",
    "Hints:\n",
    "\n",
    "Spark groupBy grouped_df = df.groupBy(\"the column you want to group by\").agg(mean(\"temperature\")\n",
    "\n",
    "Snowpark's \"group by\" is invoked via \"group_by\", but otherwise the same\n",
    "Snowpark's \"mean\" function is imported in the cell below \n"
   ]
  },
  {
   "cell_type": "code",
   "execution_count": 6,
   "id": "2b41310a-7110-4b21-9515-581af4b5249e",
   "metadata": {},
   "outputs": [],
   "source": [
    "from snowflake.snowpark.functions import mean as mean_"
   ]
  },
  {
   "cell_type": "code",
   "execution_count": 7,
   "id": "c27ecb5b-8f31-4555-be6b-3a890239ca2e",
   "metadata": {},
   "outputs": [
    {
     "data": {
      "text/html": [
       "<div>\n",
       "<style scoped>\n",
       "    .dataframe tbody tr th:only-of-type {\n",
       "        vertical-align: middle;\n",
       "    }\n",
       "\n",
       "    .dataframe tbody tr th {\n",
       "        vertical-align: top;\n",
       "    }\n",
       "\n",
       "    .dataframe thead th {\n",
       "        text-align: right;\n",
       "    }\n",
       "</style>\n",
       "<table border=\"1\" class=\"dataframe\">\n",
       "  <thead>\n",
       "    <tr style=\"text-align: right;\">\n",
       "      <th></th>\n",
       "      <th>DATE</th>\n",
       "      <th>AVG(VALUE)</th>\n",
       "    </tr>\n",
       "  </thead>\n",
       "  <tbody>\n",
       "    <tr>\n",
       "      <th>0</th>\n",
       "      <td>2024-01-30</td>\n",
       "      <td>0.091667</td>\n",
       "    </tr>\n",
       "    <tr>\n",
       "      <th>1</th>\n",
       "      <td>2024-01-21</td>\n",
       "      <td>0.082075</td>\n",
       "    </tr>\n",
       "    <tr>\n",
       "      <th>2</th>\n",
       "      <td>2023-12-14</td>\n",
       "      <td>0.061400</td>\n",
       "    </tr>\n",
       "    <tr>\n",
       "      <th>3</th>\n",
       "      <td>1956-10-09</td>\n",
       "      <td>0.051200</td>\n",
       "    </tr>\n",
       "    <tr>\n",
       "      <th>4</th>\n",
       "      <td>2010-02-02</td>\n",
       "      <td>0.021771</td>\n",
       "    </tr>\n",
       "  </tbody>\n",
       "</table>\n",
       "</div>"
      ],
      "text/plain": [
       "         DATE  AVG(VALUE)\n",
       "0  2024-01-30    0.091667\n",
       "1  2024-01-21    0.082075\n",
       "2  2023-12-14    0.061400\n",
       "3  1956-10-09    0.051200\n",
       "4  2010-02-02    0.021771"
      ]
     },
     "execution_count": 7,
     "metadata": {},
     "output_type": "execute_result"
    }
   ],
   "source": [
    "sdf_grouped = sdf_trimmed.group_by(\"DATE\").agg(mean_(\"VALUE\"))\n",
    "sdf_grouped.limit(5).to_pandas()"
   ]
  },
  {
   "cell_type": "code",
   "execution_count": 8,
   "id": "e70b462c-9fb4-403f-ab4d-bf86bd4214db",
   "metadata": {},
   "outputs": [],
   "source": [
    "sdf_grouped = sdf_grouped.filter((F.col(\"DATE\") >= '2022-01-01'))"
   ]
  },
  {
   "cell_type": "markdown",
   "id": "44cd0c06-ea45-4517-bfcd-91fa58951b66",
   "metadata": {},
   "source": [
    "# 3.5 Join it with our Prior Data"
   ]
  },
  {
   "cell_type": "code",
   "execution_count": 9,
   "id": "a5206f82-709a-49bb-b0c1-0ef3217de723",
   "metadata": {},
   "outputs": [],
   "source": [
    "sdf_ml = session.table(\"ML_PREDICT\")\n",
    "sdf_ml = sdf_ml.filter((F.col(\"SYMBOL\") == 'IBM'))\n",
    "sdf_joined = sdf_ml.join(sdf_grouped, sdf_ml.DATE == sdf_grouped.DATE, rsuffix=\"_right\", how=\"left\")\n",
    "sdf_joined = sdf_joined.rename(F.col(\"AVG(VALUE)\"), \"NEW_FEATURE\")\n",
    "sdf_joined = sdf_joined.drop(\"DATE_RIGHT\")"
   ]
  },
  {
   "cell_type": "code",
   "execution_count": 10,
   "id": "3ed33fed-b178-43af-90e9-9f3445c6ebd8",
   "metadata": {},
   "outputs": [
    {
     "name": "stdout",
     "output_type": "stream",
     "text": [
      "------------------------------------------------------------------------------------------------------------------------------------------------------------------------------------------------------------------------------------------------------------------\n",
      "|\"DATE\"      |\"OPEN\"              |\"HIGH\"              |\"LOW\"               |\"CLOSE\"             |\"SYMBOL\"  |\"CLOSE_M1\"          |\"CLOSE_M2\"          |\"CLOSE_M3\"          |\"CLOSE_M4\"          |\"CLOSE_M5\"          |\"CLOSE_PREDICT\"     |\"NEW_FEATURE\"         |\n",
      "------------------------------------------------------------------------------------------------------------------------------------------------------------------------------------------------------------------------------------------------------------------\n",
      "|2022-01-06  |172.6999969482422   |175.3000030517578   |171.63999938964844  |172.0               |IBM       |174.9199981689453   |179.6999969482422   |182.009994506836    |177.57000732421875  |178.1999969482422   |172.98595644708612  |0.021757142857142857  |\n",
      "|2022-10-07  |142.5399932861328   |143.10000610351562  |139.4499969482422   |140.08999633789062  |IBM       |145.42999267578125  |146.39999389648438  |146.10000610351562  |142.4499969482422   |138.1999969482422   |144.26829324288417  |0.046757142857142865  |\n",
      "|2022-08-24  |167.32000732421875  |168.11000061035156  |166.25              |167.52999877929688  |IBM       |167.22999572753906  |167.57000732421875  |171.52000427246094  |174.14999389648438  |174.5500030517578   |164.8463280716703   |0.04175714285714287   |\n",
      "|2023-01-10  |130.25999450683594  |131.25999450683594  |128.1199951171875   |130.72999572753906  |IBM       |130.14999389648438  |129.6199951171875   |125.0199966430664   |126.36000061035156  |125.06999969482422  |129.28106419326545  |0.05532857142857143   |\n",
      "|2022-03-18  |160.50999450683594  |164.47999572753906  |159.75999450683594  |163.97999572753906  |IBM       |150.17999267578125  |148.00999450683594  |151.2899932861328   |150.72000122070312  |148.7899932861328   |148.24235177382542  |0.02747142857142857   |\n",
      "|2022-02-02  |174.75              |175.8800048828125   |173.3300018310547   |175.83999633789062  |IBM       |170.08999633789062  |172.13999938964844  |171.8300018310547   |175.05999755859375  |178.44000244140625  |167.75463405516945  |0.021757142857142857  |\n",
      "|2022-05-26  |137.38999938964844  |144.33999633789062  |137.13999938964844  |143.77999877929688  |IBM       |131.55999755859375  |160.07000732421875  |164.32000732421875  |167.3000030517578   |168.8800048828125   |135.37105291082798  |0.03211428571428572   |\n",
      "|2022-04-12  |168.02000427246094  |169.8699951171875   |166.63999938964844  |167.66000366210938  |IBM       |166.02000427246094  |145.86000061035156  |144.8699951171875   |147.0399932861328   |146.35000610351562  |160.32932524523366  |0.028185714285714286  |\n",
      "|2023-08-29  |179.6999969482422   |184.8999938964844   |179.5               |184.1199951171875   |IBM       |180.19000244140625  |179.07000732421875  |140.36000061035156  |143.11000061035156  |137.58999633789062  |176.67023807610863  |0.06318571428571429   |\n",
      "|2023-07-17  |191.8999938964844   |194.32000732421875  |191.8099975585937   |193.9900054931641   |IBM       |190.69000244140625  |181.9900054931641   |178.38999938964844  |178.99000549316406  |177.49000549316406  |185.75157224737063  |0.06282857142857143   |\n",
      "------------------------------------------------------------------------------------------------------------------------------------------------------------------------------------------------------------------------------------------------------------------\n",
      "\n"
     ]
    }
   ],
   "source": [
    "sdf_joined.show()"
   ]
  },
  {
   "cell_type": "markdown",
   "id": "e62ba868-53fc-4b5c-805c-148682e6fa56",
   "metadata": {},
   "source": [
    "# 3.6 Train and Test the Model"
   ]
  },
  {
   "cell_type": "code",
   "execution_count": 13,
   "id": "05d92d51-591a-4e4a-8521-e742018af098",
   "metadata": {},
   "outputs": [
    {
     "name": "stderr",
     "output_type": "stream",
     "text": [
      "Input value type doesn't match the target column data type, this replacement was skipped. Column Name: \"DATE\", Type: DateType(), Input Value: 0.05, Type: <class 'float'>\n",
      "Input value type doesn't match the target column data type, this replacement was skipped. Column Name: \"SYMBOL\", Type: StringType(16777216), Input Value: 0.05, Type: <class 'float'>\n"
     ]
    }
   ],
   "source": [
    "sdf_joined = sdf_joined.na.fill(0.05)\n",
    "sdf_joined_train, sdf_joined_test = sdf_joined.filter((F.col(\"DATE\") <= '2023-01-01')), sdf_joined.filter((F.col(\"DATE\") > '2023-01-01')) "
   ]
  },
  {
   "cell_type": "code",
   "execution_count": 18,
   "id": "00b03f0d-a038-4c5e-a1df-0763788fc501",
   "metadata": {},
   "outputs": [],
   "source": [
    "REGISTRY_DATABASE_NAME = \"MODEL_REGISTRY\"\n",
    "REGISTRY_SCHEMA_NAME = \"PUBLIC\"\n",
    "native_registry = registry.Registry(session=session, database_name=REGISTRY_DATABASE_NAME, schema_name=REGISTRY_SCHEMA_NAME)\n",
    "\n",
    "#train\n",
    "regressor = LinearRegression\n",
    "regressor = regressor(input_cols=[\"CLOSE_M1\", \"CLOSE_M2\", \"CLOSE_M3\", \"CLOSE_M4\", \"CLOSE_M5\"],\n",
    "                         label_cols=[\"CLOSE\"],\n",
    "                         output_cols=[\"CLOSE_PREDICT\"])\n",
    "regressor.fit(sdf_joined_train)\n",
    "\n",
    "MODEL_NAME = \"REGRESSION_IBM\"\n",
    "MODEL_VERSION = \"v14\"\n",
    "model = native_registry.log_model(\n",
    "    model_name=MODEL_NAME,\n",
    "    version_name=MODEL_VERSION,\n",
    "    model=regressor,\n",
    ")"
   ]
  },
  {
   "cell_type": "code",
   "execution_count": 20,
   "id": "c31dec85-3b9b-49c3-b0d3-e350bdf24fc9",
   "metadata": {},
   "outputs": [
    {
     "data": {
      "text/html": [
       "<div>\n",
       "<style scoped>\n",
       "    .dataframe tbody tr th:only-of-type {\n",
       "        vertical-align: middle;\n",
       "    }\n",
       "\n",
       "    .dataframe tbody tr th {\n",
       "        vertical-align: top;\n",
       "    }\n",
       "\n",
       "    .dataframe thead th {\n",
       "        text-align: right;\n",
       "    }\n",
       "</style>\n",
       "<table border=\"1\" class=\"dataframe\">\n",
       "  <thead>\n",
       "    <tr style=\"text-align: right;\">\n",
       "      <th></th>\n",
       "      <th>DATE</th>\n",
       "      <th>OPEN</th>\n",
       "      <th>HIGH</th>\n",
       "      <th>LOW</th>\n",
       "      <th>CLOSE</th>\n",
       "      <th>SYMBOL</th>\n",
       "      <th>NEW_FEATURE</th>\n",
       "      <th>CLOSE_M1</th>\n",
       "      <th>CLOSE_M2</th>\n",
       "      <th>CLOSE_M3</th>\n",
       "      <th>CLOSE_M4</th>\n",
       "      <th>CLOSE_M5</th>\n",
       "      <th>CLOSE_PREDICT</th>\n",
       "    </tr>\n",
       "  </thead>\n",
       "  <tbody>\n",
       "    <tr>\n",
       "      <th>0</th>\n",
       "      <td>2023-09-14</td>\n",
       "      <td>174.000000</td>\n",
       "      <td>176.100006</td>\n",
       "      <td>173.580002</td>\n",
       "      <td>175.740005</td>\n",
       "      <td>IBM</td>\n",
       "      <td>0.063186</td>\n",
       "      <td>174.210007</td>\n",
       "      <td>176.300003</td>\n",
       "      <td>179.360001</td>\n",
       "      <td>178.179993</td>\n",
       "      <td>177.559998</td>\n",
       "      <td>173.147545</td>\n",
       "    </tr>\n",
       "    <tr>\n",
       "      <th>1</th>\n",
       "      <td>2023-08-01</td>\n",
       "      <td>196.240005</td>\n",
       "      <td>196.729996</td>\n",
       "      <td>195.279999</td>\n",
       "      <td>195.610001</td>\n",
       "      <td>IBM</td>\n",
       "      <td>0.063186</td>\n",
       "      <td>196.449997</td>\n",
       "      <td>195.830002</td>\n",
       "      <td>193.220001</td>\n",
       "      <td>194.500000</td>\n",
       "      <td>193.619995</td>\n",
       "      <td>192.002038</td>\n",
       "    </tr>\n",
       "    <tr>\n",
       "      <th>2</th>\n",
       "      <td>2023-12-14</td>\n",
       "      <td>198.020004</td>\n",
       "      <td>199.619995</td>\n",
       "      <td>196.160004</td>\n",
       "      <td>198.110001</td>\n",
       "      <td>IBM</td>\n",
       "      <td>0.061400</td>\n",
       "      <td>197.960007</td>\n",
       "      <td>194.710007</td>\n",
       "      <td>193.179993</td>\n",
       "      <td>195.710007</td>\n",
       "      <td>194.270004</td>\n",
       "      <td>192.718490</td>\n",
       "    </tr>\n",
       "    <tr>\n",
       "      <th>3</th>\n",
       "      <td>2023-11-09</td>\n",
       "      <td>182.960007</td>\n",
       "      <td>184.119995</td>\n",
       "      <td>181.809998</td>\n",
       "      <td>182.410004</td>\n",
       "      <td>IBM</td>\n",
       "      <td>0.062114</td>\n",
       "      <td>182.889999</td>\n",
       "      <td>181.820007</td>\n",
       "      <td>179.229996</td>\n",
       "      <td>176.649994</td>\n",
       "      <td>190.539993</td>\n",
       "      <td>180.491222</td>\n",
       "    </tr>\n",
       "    <tr>\n",
       "      <th>4</th>\n",
       "      <td>2023-03-29</td>\n",
       "      <td>159.369995</td>\n",
       "      <td>161.050003</td>\n",
       "      <td>159.350006</td>\n",
       "      <td>160.770004</td>\n",
       "      <td>IBM</td>\n",
       "      <td>0.059614</td>\n",
       "      <td>157.649994</td>\n",
       "      <td>158.279999</td>\n",
       "      <td>160.250000</td>\n",
       "      <td>158.929993</td>\n",
       "      <td>157.830002</td>\n",
       "      <td>157.791240</td>\n",
       "    </tr>\n",
       "    <tr>\n",
       "      <th>5</th>\n",
       "      <td>2023-02-13</td>\n",
       "      <td>150.949997</td>\n",
       "      <td>154.259995</td>\n",
       "      <td>150.919998</td>\n",
       "      <td>153.850006</td>\n",
       "      <td>IBM</td>\n",
       "      <td>0.058186</td>\n",
       "      <td>151.009995</td>\n",
       "      <td>150.869995</td>\n",
       "      <td>151.919998</td>\n",
       "      <td>154.649994</td>\n",
       "      <td>151.729996</td>\n",
       "      <td>151.377481</td>\n",
       "    </tr>\n",
       "    <tr>\n",
       "      <th>6</th>\n",
       "      <td>2023-06-30</td>\n",
       "      <td>191.630005</td>\n",
       "      <td>194.479996</td>\n",
       "      <td>191.259995</td>\n",
       "      <td>193.970001</td>\n",
       "      <td>IBM</td>\n",
       "      <td>0.061012</td>\n",
       "      <td>189.589996</td>\n",
       "      <td>189.250000</td>\n",
       "      <td>188.059998</td>\n",
       "      <td>185.270004</td>\n",
       "      <td>186.679993</td>\n",
       "      <td>186.208682</td>\n",
       "    </tr>\n",
       "    <tr>\n",
       "      <th>7</th>\n",
       "      <td>2023-05-17</td>\n",
       "      <td>171.710007</td>\n",
       "      <td>172.929993</td>\n",
       "      <td>170.419998</td>\n",
       "      <td>172.690002</td>\n",
       "      <td>IBM</td>\n",
       "      <td>0.061043</td>\n",
       "      <td>172.070007</td>\n",
       "      <td>172.070007</td>\n",
       "      <td>172.570007</td>\n",
       "      <td>173.750000</td>\n",
       "      <td>173.559998</td>\n",
       "      <td>170.482932</td>\n",
       "    </tr>\n",
       "    <tr>\n",
       "      <th>8</th>\n",
       "      <td>2023-09-27</td>\n",
       "      <td>172.619995</td>\n",
       "      <td>173.039993</td>\n",
       "      <td>169.050003</td>\n",
       "      <td>170.429993</td>\n",
       "      <td>IBM</td>\n",
       "      <td>0.062829</td>\n",
       "      <td>171.960007</td>\n",
       "      <td>176.080002</td>\n",
       "      <td>174.789993</td>\n",
       "      <td>173.929993</td>\n",
       "      <td>175.490005</td>\n",
       "      <td>171.425859</td>\n",
       "    </tr>\n",
       "    <tr>\n",
       "      <th>9</th>\n",
       "      <td>2023-08-14</td>\n",
       "      <td>177.970001</td>\n",
       "      <td>179.690002</td>\n",
       "      <td>177.309998</td>\n",
       "      <td>179.460007</td>\n",
       "      <td>IBM</td>\n",
       "      <td>0.063186</td>\n",
       "      <td>177.789993</td>\n",
       "      <td>177.970001</td>\n",
       "      <td>178.190002</td>\n",
       "      <td>179.800003</td>\n",
       "      <td>178.850006</td>\n",
       "      <td>175.606562</td>\n",
       "    </tr>\n",
       "  </tbody>\n",
       "</table>\n",
       "</div>"
      ],
      "text/plain": [
       "         DATE        OPEN        HIGH         LOW       CLOSE SYMBOL  \\\n",
       "0  2023-09-14  174.000000  176.100006  173.580002  175.740005    IBM   \n",
       "1  2023-08-01  196.240005  196.729996  195.279999  195.610001    IBM   \n",
       "2  2023-12-14  198.020004  199.619995  196.160004  198.110001    IBM   \n",
       "3  2023-11-09  182.960007  184.119995  181.809998  182.410004    IBM   \n",
       "4  2023-03-29  159.369995  161.050003  159.350006  160.770004    IBM   \n",
       "5  2023-02-13  150.949997  154.259995  150.919998  153.850006    IBM   \n",
       "6  2023-06-30  191.630005  194.479996  191.259995  193.970001    IBM   \n",
       "7  2023-05-17  171.710007  172.929993  170.419998  172.690002    IBM   \n",
       "8  2023-09-27  172.619995  173.039993  169.050003  170.429993    IBM   \n",
       "9  2023-08-14  177.970001  179.690002  177.309998  179.460007    IBM   \n",
       "\n",
       "   NEW_FEATURE    CLOSE_M1    CLOSE_M2    CLOSE_M3    CLOSE_M4    CLOSE_M5  \\\n",
       "0     0.063186  174.210007  176.300003  179.360001  178.179993  177.559998   \n",
       "1     0.063186  196.449997  195.830002  193.220001  194.500000  193.619995   \n",
       "2     0.061400  197.960007  194.710007  193.179993  195.710007  194.270004   \n",
       "3     0.062114  182.889999  181.820007  179.229996  176.649994  190.539993   \n",
       "4     0.059614  157.649994  158.279999  160.250000  158.929993  157.830002   \n",
       "5     0.058186  151.009995  150.869995  151.919998  154.649994  151.729996   \n",
       "6     0.061012  189.589996  189.250000  188.059998  185.270004  186.679993   \n",
       "7     0.061043  172.070007  172.070007  172.570007  173.750000  173.559998   \n",
       "8     0.062829  171.960007  176.080002  174.789993  173.929993  175.490005   \n",
       "9     0.063186  177.789993  177.970001  178.190002  179.800003  178.850006   \n",
       "\n",
       "   CLOSE_PREDICT  \n",
       "0     173.147545  \n",
       "1     192.002038  \n",
       "2     192.718490  \n",
       "3     180.491222  \n",
       "4     157.791240  \n",
       "5     151.377481  \n",
       "6     186.208682  \n",
       "7     170.482932  \n",
       "8     171.425859  \n",
       "9     175.606562  "
      ]
     },
     "execution_count": 20,
     "metadata": {},
     "output_type": "execute_result"
    }
   ],
   "source": [
    "model_ = native_registry.get_model(MODEL_NAME).version(MODEL_VERSION)\n",
    "model_.run(sdf_joined_test, function_name=\"predict\").limit(10).to_pandas()"
   ]
  },
  {
   "cell_type": "code",
   "execution_count": 21,
   "id": "21bffe0f-fd82-4329-a284-ee342f432261",
   "metadata": {},
   "outputs": [],
   "source": [
    "model_.run(sdf_joined_test, function_name=\"predict\").write.save_as_table(\"ML_PREDICT\", mode=\"overwrite\")"
   ]
  }
 ],
 "metadata": {
  "kernelspec": {
   "display_name": "Python 3 (ipykernel)",
   "language": "python",
   "name": "python3"
  },
  "language_info": {
   "codemirror_mode": {
    "name": "ipython",
    "version": 3
   },
   "file_extension": ".py",
   "mimetype": "text/x-python",
   "name": "python",
   "nbconvert_exporter": "python",
   "pygments_lexer": "ipython3",
   "version": "3.11.7"
  }
 },
 "nbformat": 4,
 "nbformat_minor": 5
}
