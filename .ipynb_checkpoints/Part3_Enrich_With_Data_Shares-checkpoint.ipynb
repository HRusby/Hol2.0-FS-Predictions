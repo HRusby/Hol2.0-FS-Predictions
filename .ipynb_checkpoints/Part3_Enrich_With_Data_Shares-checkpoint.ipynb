{
 "cells": [
  {
   "cell_type": "markdown",
   "id": "6f8a6f15-e225-4b56-a88f-34e9a8478c02",
   "metadata": {},
   "source": [
    "# Get more fancy pants data\n",
    "- go to the web factset \n",
    "- request it\n",
    "- back to your sheet and run it (insert the name)\n"
   ]
  },
  {
   "cell_type": "markdown",
   "id": "3d7d23df-b67d-47b8-9745-ed956aaa06c4",
   "metadata": {},
   "source": [
    "# Integrate it with the model\n",
    "- join the data\n",
    "- so update the model features\n"
   ]
  },
  {
   "cell_type": "code",
   "execution_count": 1,
   "id": "8bcf030b-48f0-4720-a549-848b43111fa7",
   "metadata": {},
   "outputs": [],
   "source": [
    "import json\n",
    "import pandas as pd\n",
    "from snowflake.snowpark.session import Session\n",
    "import snowflake.snowpark.functions as F\n",
    "from snowflake.snowpark.types import PandasDataFrameType, IntegerType, StringType, FloatType, DateType\n",
    "from snowflake.ml.modeling.xgboost import XGBRegressor\n",
    "from snowflake.ml.modeling.linear_model import LinearRegression\n",
    "from snowflake.ml.registry import model_registry\n",
    "from snowflake.ml._internal.utils import identifier"
   ]
  },
  {
   "cell_type": "code",
   "execution_count": 2,
   "id": "fb970c10-ecdf-423a-a0e6-430fa072bb1c",
   "metadata": {},
   "outputs": [
    {
     "data": {
      "text/plain": [
       "[Row(status='Warehouse ASYNC_WH successfully created.')]"
      ]
     },
     "execution_count": 2,
     "metadata": {},
     "output_type": "execute_result"
    }
   ],
   "source": [
    "snowflake_connection_cfg = json.loads(open(\"/Users/mitaylor/Documents/creds/creds.json\").read()) # <--- Update here\n",
    "session = Session.builder.configs(snowflake_connection_cfg).create()\n",
    "session.sql(\"USE DATABASE HOL_DEMO\").collect()\n",
    "#session.sql(\"USE STAGE YOUR_STAGE\").collect()\n",
    "session.sql(\"CREATE OR REPLACE WAREHOUSE ASYNC_WH WITH WAREHOUSE_SIZE='MEDIUM' WAREHOUSE_TYPE = 'SNOWPARK-OPTIMIZED'\").collect()"
   ]
  },
  {
   "cell_type": "code",
   "execution_count": 3,
   "id": "f4bae2e1-817c-4059-a388-a64665c1e327",
   "metadata": {},
   "outputs": [
    {
     "data": {
      "text/html": [
       "<div>\n",
       "<style scoped>\n",
       "    .dataframe tbody tr th:only-of-type {\n",
       "        vertical-align: middle;\n",
       "    }\n",
       "\n",
       "    .dataframe tbody tr th {\n",
       "        vertical-align: top;\n",
       "    }\n",
       "\n",
       "    .dataframe thead th {\n",
       "        text-align: right;\n",
       "    }\n",
       "</style>\n",
       "<table border=\"1\" class=\"dataframe\">\n",
       "  <thead>\n",
       "    <tr style=\"text-align: right;\">\n",
       "      <th></th>\n",
       "      <th>TICKER</th>\n",
       "      <th>MSG_TYPE</th>\n",
       "      <th>DATE</th>\n",
       "      <th>TIME</th>\n",
       "      <th>SEQUENCE</th>\n",
       "      <th>LAST_PRICE</th>\n",
       "      <th>LAST_VOL</th>\n",
       "      <th>CVOL</th>\n",
       "      <th>VWAP</th>\n",
       "      <th>BID</th>\n",
       "      <th>...</th>\n",
       "      <th>BENCHMARK_SPREAD</th>\n",
       "      <th>TRADED_PRICE</th>\n",
       "      <th>TRADED_VOL</th>\n",
       "      <th>TRADED_CONDITION</th>\n",
       "      <th>TRADED_YIELD</th>\n",
       "      <th>ISO_CODE</th>\n",
       "      <th>LAST_EXCH</th>\n",
       "      <th>LAST_DATE</th>\n",
       "      <th>LAST_TIME</th>\n",
       "      <th>ORDER_NUM</th>\n",
       "    </tr>\n",
       "  </thead>\n",
       "  <tbody>\n",
       "  </tbody>\n",
       "</table>\n",
       "<p>0 rows × 46 columns</p>\n",
       "</div>"
      ],
      "text/plain": [
       "Empty DataFrame\n",
       "Columns: [TICKER, MSG_TYPE, DATE, TIME, SEQUENCE, LAST_PRICE, LAST_VOL, CVOL, VWAP, BID, BID_VOL, BID_EXCH, ASK, ASK_VOL, ASK_EXCH, MID, SECURITY_STATUS, MSG_BITMASK, ORIG_SEQUENCE, TRADE_CONDITION, VENUE, ASK_YIELD, BID_YIELD, BUY_ID, CURRENT_YIELD, MID_YIELD, ORDER_CODE, REPORTING_SIDE, SELL_ID, PRODUCT, MID_TIME, BID_TIME, ASK_TIME, SECURITY_TYPE, YIELD_PRICE, BENCHMARK_YIELD, BENCHMARK_SPREAD, TRADED_PRICE, TRADED_VOL, TRADED_CONDITION, TRADED_YIELD, ISO_CODE, LAST_EXCH, LAST_DATE, LAST_TIME, ORDER_NUM]\n",
       "Index: []\n",
       "\n",
       "[0 rows x 46 columns]"
      ]
     },
     "execution_count": 3,
     "metadata": {},
     "output_type": "execute_result"
    }
   ],
   "source": [
    "session.sql(\"\"\"Select * FROM TICK_HISTORY.PUBLIC.TH_SF_MKTPLACE where ticker IN ('AMZN', 'FDS', 'IBM', 'META')\"\"\").limit(5).to_pandas()"
   ]
  },
  {
   "cell_type": "code",
   "execution_count": null,
   "id": "c6c5a7d1-344a-49e5-9697-193704b418ac",
   "metadata": {},
   "outputs": [],
   "source": [
    "https://app.snowflake.com/marketplace/listing/GZT0ZGCQ51UL/factset-tick-history"
   ]
  },
  {
   "cell_type": "code",
   "execution_count": null,
   "id": "5c7ea9dd-ec90-4d28-9d59-b8d3897f6e16",
   "metadata": {},
   "outputs": [],
   "source": [
    "snowpark group by stock/day,\n",
    "max price min price mean price, rebuild ML model"
   ]
  },
  {
   "cell_type": "code",
   "execution_count": null,
   "id": "5ff4057a-4e04-4a58-a732-b59b84108181",
   "metadata": {},
   "outputs": [],
   "source": [
    "1\tAMZN\n",
    "2\tFDS\n",
    "3\tIBM\n",
    "4\tMETA"
   ]
  }
 ],
 "metadata": {
  "kernelspec": {
   "display_name": "Python 3 (ipykernel)",
   "language": "python",
   "name": "python3"
  },
  "language_info": {
   "codemirror_mode": {
    "name": "ipython",
    "version": 3
   },
   "file_extension": ".py",
   "mimetype": "text/x-python",
   "name": "python",
   "nbconvert_exporter": "python",
   "pygments_lexer": "ipython3",
   "version": "3.11.7"
  }
 },
 "nbformat": 4,
 "nbformat_minor": 5
}
