{
 "cells": [
  {
   "cell_type": "markdown",
   "id": "ae5b37b0-9fd7-49e2-935e-29a6169a6e15",
   "metadata": {},
   "source": [
    "# From Zero to Snowflake in 50 Lines of Code\n",
    "\n",
    "We're going to prep data, build and train a regression model, register it and deploy it in less than 50 lines of code, watch out for the TO DOs, you have to update a few things along the way"
   ]
  },
  {
   "cell_type": "code",
   "execution_count": 10,
   "id": "2796f46e-5a61-47e6-84b0-a9bdeb4af2aa",
   "metadata": {},
   "outputs": [],
   "source": [
    "import json\n",
    "import numpy as np\n",
    "import pandas as pd\n",
    "from snowflake.snowpark.session import Session\n",
    "import snowflake.snowpark.functions as F\n",
    "import snowflake.snowpark.types as T\n",
    "from snowflake.snowpark.types import PandasDataFrameType, IntegerType, StringType, FloatType, DateType\n",
    "from snowflake.ml.modeling.xgboost import XGBRegressor\n",
    "from snowflake.ml.modeling.linear_model import LinearRegression\n",
    "from snowflake.ml.modeling.lightgbm import LGBMRegressor\n",
    "from snowflake.ml.registry import model_registry\n",
    "from snowflake.ml._internal.utils import identifier"
   ]
  },
  {
   "cell_type": "markdown",
   "id": "2b3d4eff-d2fc-4faa-9657-d0c95223c2a1",
   "metadata": {},
   "source": [
    "# 1. Reading Snowflake Connection Details, create a Session\n",
    "\n",
    "TO DO: \n",
    "\n",
    "1. Create a JSON with your credentials and update the cell below\n",
    "\n",
    "{\n",
    "\"account\": \"your_account_name\", \n",
    "\"user\": \"your_user_name\",\n",
    "\"password\": \"insert_your_pwd_here\",\n",
    "\"role\": \"ACCOUNTADMIN\"\n",
    "}\n",
    "\n",
    "2. Update the location "
   ]
  },
  {
   "cell_type": "code",
   "execution_count": 2,
   "id": "a24f6ccb-143c-40cd-b8ff-5b5b752231df",
   "metadata": {},
   "outputs": [],
   "source": [
    "snowflake_connection_cfg = json.loads(open(\"/Users/mitaylor/Documents/creds/creds.json\").read()) # <--- 2. Update here\n",
    "session = Session.builder.configs(snowflake_connection_cfg).create()"
   ]
  },
  {
   "cell_type": "markdown",
   "id": "536caf95-150b-40d4-b60c-4a55a8c6c07a",
   "metadata": {},
   "source": [
    "# 2. Specify Your Database and Create a Virtual Warehouse\n",
    "\n",
    "Snowflake seperates compute from storage, so we need a database AND a warehouse (compute environment) to run this stuff on.  Might as well create a model registry at the same time"
   ]
  },
  {
   "cell_type": "code",
   "execution_count": 16,
   "id": "97bedf16-8ff6-4541-8cff-b6defee453d8",
   "metadata": {},
   "outputs": [
    {
     "name": "stderr",
     "output_type": "stream",
     "text": [
      "WARNING:absl:The database MODEL_REGISTRY already exists. Skipping creation.\n",
      "WARNING:absl:The schema MODEL_REGISTRY.PUBLIC already exists. Skipping creation.\n",
      "/var/folders/97/8vc6xcbx4zd06p75xg9frdrw0000gn/T/ipykernel_3204/4250221149.py:6: DeprecationWarning: \n",
      "The `snowflake.ml.registry.model_registry.ModelRegistry` has been deprecated starting from version 1.2.0.\n",
      "It will stay in the Private Preview phase. For future implementations, kindly utilize `snowflake.ml.registry.Registry`,\n",
      "except when specifically required. The old model registry will be removed once all its primary functionalities are\n",
      "fully integrated into the new registry.\n",
      "        \n",
      "  registry = model_registry.ModelRegistry(session=session, database_name=REGISTRY_DATABASE_NAME, schema_name=REGISTRY_SCHEMA_NAME)\n"
     ]
    }
   ],
   "source": [
    "session.sql(\"USE DATABASE HOL_DEMO\").collect()\n",
    "session.sql(\"CREATE OR REPLACE WAREHOUSE ASYNC_WH WITH WAREHOUSE_SIZE='MEDIUM' WAREHOUSE_TYPE = 'SNOWPARK-OPTIMIZED'\").collect()\n",
    "REGISTRY_DATABASE_NAME = \"MODEL_REGISTRY\"\n",
    "REGISTRY_SCHEMA_NAME = \"PUBLIC\"\n",
    "model_registry.create_model_registry(session=session, database_name=REGISTRY_DATABASE_NAME, schema_name=REGISTRY_SCHEMA_NAME)\n",
    "registry = model_registry.ModelRegistry(session=session, database_name=REGISTRY_DATABASE_NAME, schema_name=REGISTRY_SCHEMA_NAME)"
   ]
  },
  {
   "cell_type": "markdown",
   "id": "01de1eea-c95b-4e34-89cc-cf146230f0f5",
   "metadata": {},
   "source": [
    "### EXTRA BIT, WHILE WE DECIDE ON SHARES, PRE BUILT OR EVEN THIS"
   ]
  },
  {
   "cell_type": "code",
   "execution_count": 17,
   "id": "856904bc-0843-4f97-b5cb-2ecb6210d2f9",
   "metadata": {},
   "outputs": [
    {
     "data": {
      "text/plain": [
       "<snowflake.snowpark.table.Table at 0x180507090>"
      ]
     },
     "execution_count": 17,
     "metadata": {},
     "output_type": "execute_result"
    }
   ],
   "source": [
    "df = pd.read_csv(\"test.csv\")\n",
    "session.write_pandas(df, table_name='FS_DATASET', auto_create_table=True, overwrite=True)"
   ]
  },
  {
   "cell_type": "markdown",
   "id": "7eb3aa05-3625-43b3-b29c-9c8edcbe9a51",
   "metadata": {},
   "source": [
    "# 3. Get Your Data (Prepped)\n",
    "In this case we're going to make a really simple lagging feature transformation for our time series dataset.  Nothign for you to do but run the cells, but note ANY pandas based manipulation could be performed here"
   ]
  },
  {
   "cell_type": "code",
   "execution_count": 18,
   "id": "0cddcf88-2d39-4441-8e6d-084c4417762c",
   "metadata": {},
   "outputs": [],
   "source": [
    "sdf = session.table(\"FS_DATASET\")\n",
    "sdf = sdf.select(F.to_date(F.col('DATE')).as_('DATE'), \"SYMBOL\", \"CLOSE\").drop_duplicates(['DATE', 'SYMBOL'])"
   ]
  },
  {
   "cell_type": "code",
   "execution_count": 29,
   "id": "56a4edbe-cef2-4cf1-a56a-e2b4218b8157",
   "metadata": {},
   "outputs": [],
   "source": [
    "class ML_Prep:\n",
    "    def end_partition(self, df):\n",
    "        df.columns = ['_DATE', '_SYMBOL', '_CLOSE']\n",
    "        mean_close = df['_CLOSE'].mean()\n",
    "        for i in range(1,6):\n",
    "            df[\"_CLOSE-\" + str(i)] = [mean_close]*i + list(df['_CLOSE'])[i:]\n",
    "        yield df\n",
    "\n",
    "ML_Prep.end_partition._sf_vectorized_input = pd.DataFrame\n",
    "\n",
    "ml_prep_udtf = session.udtf.register(\n",
    "    ML_Prep, # the class\n",
    "    input_types=[PandasDataFrameType([DateType(), StringType(), FloatType()])], \n",
    "    output_schema=PandasDataFrameType([DateType(),StringType(),FloatType(),FloatType(),FloatType(),FloatType(),FloatType(),FloatType()],\n",
    "                                      [\"DATE\", \"SYMBOL\", \"CLOSE\", \"CLOSE_M1\", \"CLOSE_M2\", \"CLOSE_M3\", \"CLOSE_M4\", \"CLOSE_M5\"]),\n",
    "    packages=[\"snowflake-snowpark-python\", 'pandas'])  \n"
   ]
  },
  {
   "cell_type": "code",
   "execution_count": 30,
   "id": "630b8ea6-0e46-4be2-874b-834daa07be29",
   "metadata": {},
   "outputs": [
    {
     "data": {
      "text/html": [
       "<div>\n",
       "<style scoped>\n",
       "    .dataframe tbody tr th:only-of-type {\n",
       "        vertical-align: middle;\n",
       "    }\n",
       "\n",
       "    .dataframe tbody tr th {\n",
       "        vertical-align: top;\n",
       "    }\n",
       "\n",
       "    .dataframe thead th {\n",
       "        text-align: right;\n",
       "    }\n",
       "</style>\n",
       "<table border=\"1\" class=\"dataframe\">\n",
       "  <thead>\n",
       "    <tr style=\"text-align: right;\">\n",
       "      <th></th>\n",
       "      <th>DATE</th>\n",
       "      <th>SYMBOL</th>\n",
       "      <th>CLOSE</th>\n",
       "      <th>CLOSE_M1</th>\n",
       "      <th>CLOSE_M2</th>\n",
       "      <th>CLOSE_M3</th>\n",
       "      <th>CLOSE_M4</th>\n",
       "      <th>CLOSE_M5</th>\n",
       "    </tr>\n",
       "  </thead>\n",
       "  <tbody>\n",
       "    <tr>\n",
       "      <th>0</th>\n",
       "      <td>2022-09-29</td>\n",
       "      <td>OTRK</td>\n",
       "      <td>0.51</td>\n",
       "      <td>0.521154</td>\n",
       "      <td>0.521154</td>\n",
       "      <td>0.521154</td>\n",
       "      <td>0.521154</td>\n",
       "      <td>0.521154</td>\n",
       "    </tr>\n",
       "    <tr>\n",
       "      <th>1</th>\n",
       "      <td>2022-10-17</td>\n",
       "      <td>OTRK</td>\n",
       "      <td>0.41</td>\n",
       "      <td>0.410000</td>\n",
       "      <td>0.521154</td>\n",
       "      <td>0.521154</td>\n",
       "      <td>0.521154</td>\n",
       "      <td>0.521154</td>\n",
       "    </tr>\n",
       "    <tr>\n",
       "      <th>2</th>\n",
       "      <td>2022-10-14</td>\n",
       "      <td>OTRK</td>\n",
       "      <td>0.40</td>\n",
       "      <td>0.400000</td>\n",
       "      <td>0.400000</td>\n",
       "      <td>0.521154</td>\n",
       "      <td>0.521154</td>\n",
       "      <td>0.521154</td>\n",
       "    </tr>\n",
       "    <tr>\n",
       "      <th>3</th>\n",
       "      <td>2022-10-13</td>\n",
       "      <td>OTRK</td>\n",
       "      <td>0.41</td>\n",
       "      <td>0.410000</td>\n",
       "      <td>0.410000</td>\n",
       "      <td>0.410000</td>\n",
       "      <td>0.521154</td>\n",
       "      <td>0.521154</td>\n",
       "    </tr>\n",
       "    <tr>\n",
       "      <th>4</th>\n",
       "      <td>2022-10-12</td>\n",
       "      <td>OTRK</td>\n",
       "      <td>0.43</td>\n",
       "      <td>0.430000</td>\n",
       "      <td>0.430000</td>\n",
       "      <td>0.430000</td>\n",
       "      <td>0.430000</td>\n",
       "      <td>0.521154</td>\n",
       "    </tr>\n",
       "  </tbody>\n",
       "</table>\n",
       "</div>"
      ],
      "text/plain": [
       "         DATE SYMBOL  CLOSE  CLOSE_M1  CLOSE_M2  CLOSE_M3  CLOSE_M4  CLOSE_M5\n",
       "0  2022-09-29   OTRK   0.51  0.521154  0.521154  0.521154  0.521154  0.521154\n",
       "1  2022-10-17   OTRK   0.41  0.410000  0.521154  0.521154  0.521154  0.521154\n",
       "2  2022-10-14   OTRK   0.40  0.400000  0.400000  0.521154  0.521154  0.521154\n",
       "3  2022-10-13   OTRK   0.41  0.410000  0.410000  0.410000  0.521154  0.521154\n",
       "4  2022-10-12   OTRK   0.43  0.430000  0.430000  0.430000  0.430000  0.521154"
      ]
     },
     "execution_count": 30,
     "metadata": {},
     "output_type": "execute_result"
    }
   ],
   "source": [
    "sdf_prepped = sdf.select(ml_prep_udtf(*['DATE', 'SYMBOL', 'CLOSE']).over(partition_by=['SYMBOL']))\n",
    "sdf_prepped.limit(5).to_pandas()"
   ]
  },
  {
   "cell_type": "code",
   "execution_count": 31,
   "id": "69b14d23-4ee0-4b21-b9ac-5fd637eddffb",
   "metadata": {},
   "outputs": [
    {
     "data": {
      "text/html": [
       "<div>\n",
       "<style scoped>\n",
       "    .dataframe tbody tr th:only-of-type {\n",
       "        vertical-align: middle;\n",
       "    }\n",
       "\n",
       "    .dataframe tbody tr th {\n",
       "        vertical-align: top;\n",
       "    }\n",
       "\n",
       "    .dataframe thead th {\n",
       "        text-align: right;\n",
       "    }\n",
       "</style>\n",
       "<table border=\"1\" class=\"dataframe\">\n",
       "  <thead>\n",
       "    <tr style=\"text-align: right;\">\n",
       "      <th></th>\n",
       "      <th>SYMBOL</th>\n",
       "    </tr>\n",
       "  </thead>\n",
       "  <tbody>\n",
       "    <tr>\n",
       "      <th>0</th>\n",
       "      <td>VZ</td>\n",
       "    </tr>\n",
       "    <tr>\n",
       "      <th>1</th>\n",
       "      <td>GOOG</td>\n",
       "    </tr>\n",
       "    <tr>\n",
       "      <th>2</th>\n",
       "      <td>TGVC</td>\n",
       "    </tr>\n",
       "    <tr>\n",
       "      <th>3</th>\n",
       "      <td>OTRK</td>\n",
       "    </tr>\n",
       "  </tbody>\n",
       "</table>\n",
       "</div>"
      ],
      "text/plain": [
       "  SYMBOL\n",
       "0     VZ\n",
       "1   GOOG\n",
       "2   TGVC\n",
       "3   OTRK"
      ]
     },
     "execution_count": 31,
     "metadata": {},
     "output_type": "execute_result"
    }
   ],
   "source": [
    "sdf[['SYMBOL']].distinct().to_pandas()"
   ]
  },
  {
   "cell_type": "markdown",
   "id": "5156f278-a61c-4099-83ea-8e3795778e69",
   "metadata": {},
   "source": [
    "# 4. Choose Your Model\n",
    "\n",
    "We've got our data ready, but we need to make a few selections before we build our models\n",
    "\n",
    "TO DO:\n",
    "1. Choose the Symbol you want to build a model for\n",
    "2. Pick the date range for your train/test split\n",
    "3. Pick a regression model you want type"
   ]
  },
  {
   "cell_type": "code",
   "execution_count": 22,
   "id": "69f836f8-8c4b-4756-96a9-531c8d5ce1bc",
   "metadata": {},
   "outputs": [],
   "source": [
    "sdf_prepped_filt = sdf_prepped.filter((F.col(\"SYMBOL\") == 'OTRK'))\n",
    "sdf_filt_train, sdf_filt_test = sdf.filter((F.col(\"DATE\") <= '2022-01-01')), sdf.filter((F.col(\"DATE\") > '2022-01-01'))\n",
    "regressor = LinearRegression \n",
    "\n",
    "#sdf_prepped_filt = sdf_prepped.filter((F.col(\"SYMBOL\") == \"\")) # <---- update 1.\n",
    "#sdf_filt_train, sdf_filt_test = sdf.filter((F.col(\"DATE\") <= '')), sdf.filter((F.col(\"DATE\") > '')) # <---- update 2.\n",
    "#regressor = # <---- update 3. hint one look at our imports cell"
   ]
  },
  {
   "cell_type": "markdown",
   "id": "5e6bd7a0-8c07-4a1e-bd99-79feb745e9d1",
   "metadata": {},
   "source": [
    "# 5. Train Your Model\n",
    "\n",
    "Our model is almost ready to be trained, but we need to choose our inputs, targets, and outputs.  We could go off piste and alter model (hyper)parameters here too (https://docs.snowflake.com/en/developer-guide/snowpark-ml/reference/latest/api/modeling/snowflake.ml.modeling.linear_model.LinearRegression)\n",
    "\n",
    "TO DO:\n",
    "1. Select your input columns\n",
    "2. Select your target(label) column\n",
    "3. Choose your output column name"
   ]
  },
  {
   "cell_type": "code",
   "execution_count": 23,
   "id": "603873ea-5bb6-4eee-8121-07780e5b2a01",
   "metadata": {},
   "outputs": [
    {
     "data": {
      "text/plain": [
       "<snowflake.ml.modeling.linear_model.linear_regression.LinearRegression at 0x184962ad0>"
      ]
     },
     "execution_count": 23,
     "metadata": {},
     "output_type": "execute_result"
    }
   ],
   "source": [
    "regressor = regressor(input_cols=[\"CLOSE_M1\", \"CLOSE_M2\", \"CLOSE_M3\", \"CLOSE_M4\", \"CLOSE_M5\"],\n",
    "                         label_cols=[\"CLOSE\"],\n",
    "                         output_cols=[\"CLOSE_PREDICT\"])\n",
    "regressor.fit(sdf_prepped_filt)\n",
    "\n",
    "#regressor = regressor(input_cols=[], # <---- update 1.\n",
    "#                         label_cols=[], # <---- update 2.\n",
    "#                         output_cols=[]) # <---- update 3.\n",
    "#regressor.fit(sdf_prepped_filt)"
   ]
  },
  {
   "cell_type": "markdown",
   "id": "1863df7a-2670-4a10-82a6-dc99a5e17e4c",
   "metadata": {},
   "source": [
    "# 6. Register Your Model\n",
    "\n",
    "Let's assume we love the first model, it's time to register it....\n",
    "\n",
    "TO DO:\n",
    "1. Choose a  model name\n",
    "2. Choose a model version (note the combo of name and version needs to be unique)"
   ]
  },
  {
   "cell_type": "code",
   "execution_count": 25,
   "id": "a7cae620-c9c5-4cbd-a1cd-be3af51ca230",
   "metadata": {},
   "outputs": [
    {
     "name": "stderr",
     "output_type": "stream",
     "text": [
      "/Users/mitaylor/opt/anaconda3/envs/snowpark-ml-hol/lib/python3.11/site-packages/snowflake/ml/model/_packager/model_packager.py:91: UserWarning: Inferring model signature from sample input or providing model signature for Snowpark ML Modeling model is not required. Model signature will automatically be inferred during fitting. \n",
      "  handler.save_model(\n"
     ]
    }
   ],
   "source": [
    "MODEL_NAME = \"SIMPLE_XGB_MODEL\"\n",
    "MODEL_VERSION = \"v6\"\n",
    "model = registry.log_model(model_name=MODEL_NAME,\n",
    "                           model_version=MODEL_VERSION,\n",
    "                           model=regressor,\n",
    "                           tags={\"stage\": \"testing\", \"classifier_type\": \"xgb\"},\n",
    "                           sample_input_data=sdf_prepped_filt.limit(10).to_pandas()[[\"CLOSE_M1\", \"CLOSE_M2\", \"CLOSE_M3\", \"CLOSE_M4\", \"CLOSE_M5\"]],)\n",
    "\n",
    "#MODEL_NAME = # <---- update 1.\n",
    "#MODEL_VERSION = # <---- update 2.\n",
    "#model = registry.log_model(model_name=MODEL_NAME,\n",
    "#                           model_version=MODEL_VERSION,\n",
    "#                           model=regressor,\n",
    "#                           tags={\"stage\": \"testing\", \"classifier_type\": \"xgb\"},\n",
    "#                           sample_input_data=sdf_prepped_filt.limit(10).to_pandas()[[\"CLOSE_M1\", \"CLOSE_M2\", \"CLOSE_M3\", \"CLOSE_M4\", \"CLOSE_M5\"]],)"
   ]
  },
  {
   "cell_type": "markdown",
   "id": "087c83ca-8e4c-41ed-a17a-aefd51dbce02",
   "metadata": {},
   "source": [
    "# 7. Deploy Your Model\n",
    "\n",
    "Time to deploy the model..."
   ]
  },
  {
   "cell_type": "code",
   "execution_count": 26,
   "id": "6b82415e-e9dc-4df5-932c-6e802a14daaf",
   "metadata": {},
   "outputs": [
    {
     "name": "stderr",
     "output_type": "stream",
     "text": [
      "WARNING:snowflake.snowpark:ModelRegistry.deploy() is in private preview since 0.2.0. Do not use it in production. \n"
     ]
    },
    {
     "data": {
      "text/plain": [
       "{'name': 'MODEL_REGISTRY.PUBLIC.model_predict',\n",
       " 'platform': <TargetPlatform.WAREHOUSE: 'warehouse'>,\n",
       " 'target_method': 'predict',\n",
       " 'signature': ModelSignature(\n",
       "                     inputs=[\n",
       "                         FeatureSpec(dtype=DataType.DOUBLE, name='CLOSE_M1'),\n",
       " \t\tFeatureSpec(dtype=DataType.DOUBLE, name='CLOSE_M2'),\n",
       " \t\tFeatureSpec(dtype=DataType.DOUBLE, name='CLOSE_M3'),\n",
       " \t\tFeatureSpec(dtype=DataType.DOUBLE, name='CLOSE_M4'),\n",
       " \t\tFeatureSpec(dtype=DataType.DOUBLE, name='CLOSE_M5')\n",
       "                     ],\n",
       "                     outputs=[\n",
       "                         FeatureSpec(dtype=DataType.DOUBLE, name='CLOSE_M1'),\n",
       " \t\tFeatureSpec(dtype=DataType.DOUBLE, name='CLOSE_M2'),\n",
       " \t\tFeatureSpec(dtype=DataType.DOUBLE, name='CLOSE_M3'),\n",
       " \t\tFeatureSpec(dtype=DataType.DOUBLE, name='CLOSE_M4'),\n",
       " \t\tFeatureSpec(dtype=DataType.DOUBLE, name='CLOSE_M5'),\n",
       " \t\tFeatureSpec(dtype=DataType.DOUBLE, name='CLOSE_PREDICT')\n",
       "                     ]\n",
       "                 ),\n",
       " 'options': {'relax_version': True,\n",
       "  'permanent_udf_stage_location': '@MODEL_REGISTRY.PUBLIC._SYSTEM_REGISTRY_DEPLOYMENTS_STAGE/model_predict/'},\n",
       " 'details': {}}"
      ]
     },
     "execution_count": 26,
     "metadata": {},
     "output_type": "execute_result"
    }
   ],
   "source": [
    "model.deploy(deployment_name=\"model_predict\",\n",
    "             target_method=\"predict\",\n",
    "             permanent=True,\n",
    "             options={\"relax_version\": True})"
   ]
  },
  {
   "cell_type": "markdown",
   "id": "f18a0dd1-6bc6-4ef4-96e2-4e5da582b247",
   "metadata": {},
   "source": [
    "# 8. Run Your Model\n",
    "\n",
    "We're at the finish line!"
   ]
  },
  {
   "cell_type": "code",
   "execution_count": 28,
   "id": "1604c3f6-ea91-485e-9bee-fd7f9da5f201",
   "metadata": {},
   "outputs": [
    {
     "name": "stderr",
     "output_type": "stream",
     "text": [
      "WARNING:snowflake.snowpark:ModelReference.predict() is in private preview since 0.2.0. Do not use it in production. \n",
      "WARNING:snowflake.snowpark:ModelRegistry.get_deployment() is in private preview since 1.0.1. Do not use it in production. \n",
      "WARNING:snowflake.snowpark:ModelRegistry.list_deployments() is in private preview since 1.0.1. Do not use it in production. \n"
     ]
    },
    {
     "data": {
      "text/html": [
       "<div>\n",
       "<style scoped>\n",
       "    .dataframe tbody tr th:only-of-type {\n",
       "        vertical-align: middle;\n",
       "    }\n",
       "\n",
       "    .dataframe tbody tr th {\n",
       "        vertical-align: top;\n",
       "    }\n",
       "\n",
       "    .dataframe thead th {\n",
       "        text-align: right;\n",
       "    }\n",
       "</style>\n",
       "<table border=\"1\" class=\"dataframe\">\n",
       "  <thead>\n",
       "    <tr style=\"text-align: right;\">\n",
       "      <th></th>\n",
       "      <th>DATE</th>\n",
       "      <th>SYMBOL</th>\n",
       "      <th>CLOSE</th>\n",
       "      <th>CLOSE_M1</th>\n",
       "      <th>CLOSE_M2</th>\n",
       "      <th>CLOSE_M3</th>\n",
       "      <th>CLOSE_M4</th>\n",
       "      <th>CLOSE_M5</th>\n",
       "      <th>CLOSE_PREDICT</th>\n",
       "    </tr>\n",
       "  </thead>\n",
       "  <tbody>\n",
       "    <tr>\n",
       "      <th>0</th>\n",
       "      <td>2022-09-29</td>\n",
       "      <td>OTRK</td>\n",
       "      <td>0.51</td>\n",
       "      <td>0.521154</td>\n",
       "      <td>0.521154</td>\n",
       "      <td>0.521154</td>\n",
       "      <td>0.521154</td>\n",
       "      <td>0.521154</td>\n",
       "      <td>0.520614</td>\n",
       "    </tr>\n",
       "    <tr>\n",
       "      <th>1</th>\n",
       "      <td>2022-10-17</td>\n",
       "      <td>OTRK</td>\n",
       "      <td>0.41</td>\n",
       "      <td>0.410000</td>\n",
       "      <td>0.521154</td>\n",
       "      <td>0.521154</td>\n",
       "      <td>0.521154</td>\n",
       "      <td>0.521154</td>\n",
       "      <td>0.410000</td>\n",
       "    </tr>\n",
       "    <tr>\n",
       "      <th>2</th>\n",
       "      <td>2022-10-14</td>\n",
       "      <td>OTRK</td>\n",
       "      <td>0.40</td>\n",
       "      <td>0.400000</td>\n",
       "      <td>0.400000</td>\n",
       "      <td>0.521154</td>\n",
       "      <td>0.521154</td>\n",
       "      <td>0.521154</td>\n",
       "      <td>0.400000</td>\n",
       "    </tr>\n",
       "    <tr>\n",
       "      <th>3</th>\n",
       "      <td>2022-10-13</td>\n",
       "      <td>OTRK</td>\n",
       "      <td>0.41</td>\n",
       "      <td>0.410000</td>\n",
       "      <td>0.410000</td>\n",
       "      <td>0.410000</td>\n",
       "      <td>0.521154</td>\n",
       "      <td>0.521154</td>\n",
       "      <td>0.410000</td>\n",
       "    </tr>\n",
       "    <tr>\n",
       "      <th>4</th>\n",
       "      <td>2022-10-12</td>\n",
       "      <td>OTRK</td>\n",
       "      <td>0.43</td>\n",
       "      <td>0.430000</td>\n",
       "      <td>0.430000</td>\n",
       "      <td>0.430000</td>\n",
       "      <td>0.430000</td>\n",
       "      <td>0.521154</td>\n",
       "      <td>0.430000</td>\n",
       "    </tr>\n",
       "    <tr>\n",
       "      <th>5</th>\n",
       "      <td>2022-10-11</td>\n",
       "      <td>OTRK</td>\n",
       "      <td>0.44</td>\n",
       "      <td>0.440000</td>\n",
       "      <td>0.440000</td>\n",
       "      <td>0.440000</td>\n",
       "      <td>0.440000</td>\n",
       "      <td>0.440000</td>\n",
       "      <td>0.439331</td>\n",
       "    </tr>\n",
       "    <tr>\n",
       "      <th>6</th>\n",
       "      <td>2022-10-10</td>\n",
       "      <td>OTRK</td>\n",
       "      <td>0.46</td>\n",
       "      <td>0.460000</td>\n",
       "      <td>0.460000</td>\n",
       "      <td>0.460000</td>\n",
       "      <td>0.460000</td>\n",
       "      <td>0.460000</td>\n",
       "      <td>0.459363</td>\n",
       "    </tr>\n",
       "    <tr>\n",
       "      <th>7</th>\n",
       "      <td>2022-10-07</td>\n",
       "      <td>OTRK</td>\n",
       "      <td>0.46</td>\n",
       "      <td>0.460000</td>\n",
       "      <td>0.460000</td>\n",
       "      <td>0.460000</td>\n",
       "      <td>0.460000</td>\n",
       "      <td>0.460000</td>\n",
       "      <td>0.459363</td>\n",
       "    </tr>\n",
       "    <tr>\n",
       "      <th>8</th>\n",
       "      <td>2022-10-06</td>\n",
       "      <td>OTRK</td>\n",
       "      <td>0.48</td>\n",
       "      <td>0.480000</td>\n",
       "      <td>0.480000</td>\n",
       "      <td>0.480000</td>\n",
       "      <td>0.480000</td>\n",
       "      <td>0.480000</td>\n",
       "      <td>0.479395</td>\n",
       "    </tr>\n",
       "    <tr>\n",
       "      <th>9</th>\n",
       "      <td>2022-10-05</td>\n",
       "      <td>OTRK</td>\n",
       "      <td>0.48</td>\n",
       "      <td>0.480000</td>\n",
       "      <td>0.480000</td>\n",
       "      <td>0.480000</td>\n",
       "      <td>0.480000</td>\n",
       "      <td>0.480000</td>\n",
       "      <td>0.479395</td>\n",
       "    </tr>\n",
       "  </tbody>\n",
       "</table>\n",
       "</div>"
      ],
      "text/plain": [
       "         DATE SYMBOL  CLOSE  CLOSE_M1  CLOSE_M2  CLOSE_M3  CLOSE_M4  CLOSE_M5  \\\n",
       "0  2022-09-29   OTRK   0.51  0.521154  0.521154  0.521154  0.521154  0.521154   \n",
       "1  2022-10-17   OTRK   0.41  0.410000  0.521154  0.521154  0.521154  0.521154   \n",
       "2  2022-10-14   OTRK   0.40  0.400000  0.400000  0.521154  0.521154  0.521154   \n",
       "3  2022-10-13   OTRK   0.41  0.410000  0.410000  0.410000  0.521154  0.521154   \n",
       "4  2022-10-12   OTRK   0.43  0.430000  0.430000  0.430000  0.430000  0.521154   \n",
       "5  2022-10-11   OTRK   0.44  0.440000  0.440000  0.440000  0.440000  0.440000   \n",
       "6  2022-10-10   OTRK   0.46  0.460000  0.460000  0.460000  0.460000  0.460000   \n",
       "7  2022-10-07   OTRK   0.46  0.460000  0.460000  0.460000  0.460000  0.460000   \n",
       "8  2022-10-06   OTRK   0.48  0.480000  0.480000  0.480000  0.480000  0.480000   \n",
       "9  2022-10-05   OTRK   0.48  0.480000  0.480000  0.480000  0.480000  0.480000   \n",
       "\n",
       "   CLOSE_PREDICT  \n",
       "0       0.520614  \n",
       "1       0.410000  \n",
       "2       0.400000  \n",
       "3       0.410000  \n",
       "4       0.430000  \n",
       "5       0.439331  \n",
       "6       0.459363  \n",
       "7       0.459363  \n",
       "8       0.479395  \n",
       "9       0.479395  "
      ]
     },
     "execution_count": 28,
     "metadata": {},
     "output_type": "execute_result"
    }
   ],
   "source": [
    "model.predict(deployment_name=\"model_predict\", data=sdf_prepped_filt).limit(10).to_pandas()"
   ]
  }
 ],
 "metadata": {
  "kernelspec": {
   "display_name": "Python 3 (ipykernel)",
   "language": "python",
   "name": "python3"
  },
  "language_info": {
   "codemirror_mode": {
    "name": "ipython",
    "version": 3
   },
   "file_extension": ".py",
   "mimetype": "text/x-python",
   "name": "python",
   "nbconvert_exporter": "python",
   "pygments_lexer": "ipython3",
   "version": "3.11.7"
  }
 },
 "nbformat": 4,
 "nbformat_minor": 5
}
