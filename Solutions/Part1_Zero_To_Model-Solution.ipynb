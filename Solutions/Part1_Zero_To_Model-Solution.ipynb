{
 "cells": [
  {
   "cell_type": "markdown",
   "id": "ae5b37b0-9fd7-49e2-935e-29a6169a6e15",
   "metadata": {},
   "source": [
    "# Part 1. From Zero to Snowflake in 50 Lines of Code\n",
    "\n",
    "In this lab you will learn how to:\n",
    "\n",
    "1. Create a session for Snowpark with Snowflake\n",
    "2. Create a DB, Warehouse and Model Registry\n",
    "3. Prep Data using the highly parallelisable vectorised UDTF functionality\n",
    "4. Build/train a regression model with Snowpark ML\n",
    "5. Register your model in the Model Registry\n",
    "6. Run the model\n",
    "\n",
    "All this in 50 lines of code (less the library imports). Note - there are some TODOs along the way for you to update"
   ]
  },
  {
   "cell_type": "markdown",
   "id": "927d951e-23e8-4b74-93ff-e7e34938a4a0",
   "metadata": {},
   "source": [
    "## Prerequisites:\n",
    "In a terminal please run:\n",
    "\n",
    "conda env create -f conda_env.yml\n",
    " \n",
    "conda activate snowpark-ml-hol\n",
    "\n",
    "jupyter lab <---- this will load jupyter "
   ]
  },
  {
   "cell_type": "code",
   "execution_count": 1,
   "id": "2796f46e-5a61-47e6-84b0-a9bdeb4af2aa",
   "metadata": {},
   "outputs": [],
   "source": [
    "import json\n",
    "import pandas as pd\n",
    "from snowflake.snowpark.session import Session\n",
    "import snowflake.snowpark.functions as F\n",
    "from snowflake.snowpark.types import PandasDataFrameType, IntegerType, StringType, FloatType, DateType\n",
    "from snowflake.ml.modeling.xgboost import XGBRegressor\n",
    "from snowflake.ml.modeling.linear_model import LinearRegression\n",
    "from snowflake.ml.registry import registry\n",
    "from snowflake.ml._internal.utils import identifier"
   ]
  },
  {
   "cell_type": "markdown",
   "id": "2b3d4eff-d2fc-4faa-9657-d0c95223c2a1",
   "metadata": {},
   "source": [
    "# 1.1 Reading Snowflake Connection Details, create a Session\n"
   ]
  },
  {
   "cell_type": "code",
   "execution_count": 2,
   "id": "a24f6ccb-143c-40cd-b8ff-5b5b752231df",
   "metadata": {},
   "outputs": [],
   "source": [
    "snowflake_connection_cfg = json.loads(open(\"/Users/mitaylor/Documents/creds/creds_sf_azure.json\").read()) # <--- 2. Update here creds_sf_azure\n",
    "session = Session.builder.configs(snowflake_connection_cfg).create()"
   ]
  },
  {
   "cell_type": "markdown",
   "id": "536caf95-150b-40d4-b60c-4a55a8c6c07a",
   "metadata": {},
   "source": [
    "# 1.2 Specify Your Database and Create a Virtual Warehouse\n",
    "\n",
    "Snowflake seperates compute from storage, so we need a database AND a warehouse (compute environment) to run this stuff on.  Might as well create a model registry at the same time"
   ]
  },
  {
   "cell_type": "code",
   "execution_count": 3,
   "id": "97bedf16-8ff6-4541-8cff-b6defee453d8",
   "metadata": {},
   "outputs": [],
   "source": [
    "session.sql(\"CREATE OR REPLACE DATABASE HOL_DEMO\").collect()\n",
    "session.sql(\"CREATE OR REPLACE WAREHOUSE ASYNC_WH WITH WAREHOUSE_SIZE='MEDIUM' WAREHOUSE_TYPE = 'SNOWPARK-OPTIMIZED'\").collect()\n",
    "REGISTRY_DATABASE_NAME = \"MODEL_REGISTRY\"\n",
    "REGISTRY_SCHEMA_NAME = \"PUBLIC\"\n",
    "native_registry = registry.Registry(session=session, database_name=REGISTRY_DATABASE_NAME, schema_name=REGISTRY_SCHEMA_NAME)"
   ]
  },
  {
   "cell_type": "markdown",
   "id": "01de1eea-c95b-4e34-89cc-cf146230f0f5",
   "metadata": {},
   "source": [
    "### EXTRA BIT, WHILE WE DECIDE ON DATA SHARES, PRE BUILT OR EVEN THIS CSV"
   ]
  },
  {
   "cell_type": "code",
   "execution_count": 5,
   "id": "856904bc-0843-4f97-b5cb-2ecb6210d2f9",
   "metadata": {},
   "outputs": [
    {
     "data": {
      "text/plain": [
       "<snowflake.snowpark.table.Table at 0x17eb88350>"
      ]
     },
     "execution_count": 5,
     "metadata": {},
     "output_type": "execute_result"
    }
   ],
   "source": [
    "session.write_pandas(pd.read_csv(\"test.csv\"), table_name='FS_DATASET', auto_create_table=True, overwrite=True)"
   ]
  },
  {
   "cell_type": "markdown",
   "id": "7eb3aa05-3625-43b3-b29c-9c8edcbe9a51",
   "metadata": {},
   "source": [
    "# 1.3 Get Your Data (Prepped)\n",
    "In this case we're going to make a really simple lagging feature transformation for our time series dataset.  Nothign for you to do but run the cells, but note ANY pandas based manipulation could be performed here"
   ]
  },
  {
   "cell_type": "code",
   "execution_count": 6,
   "id": "0cddcf88-2d39-4441-8e6d-084c4417762c",
   "metadata": {},
   "outputs": [],
   "source": [
    "sdf = session.table(\"FS_DATASET\")\n",
    "sdf = sdf.select(F.to_date(F.col('DATE')).as_('DATE'), \"OPEN\", \"HIGH\", \"LOW\", \"CLOSE\", \"SYMBOL\")"
   ]
  },
  {
   "cell_type": "code",
   "execution_count": 7,
   "id": "56a4edbe-cef2-4cf1-a56a-e2b4218b8157",
   "metadata": {},
   "outputs": [],
   "source": [
    "class ML_Prep:\n",
    "    def end_partition(self, df):\n",
    "        df.columns = ['_DATE', \"_OPEN\", \"_HIGH\", \"_LOW\", \"_CLOSE\", \"_SYMBOL\"]\n",
    "        for i in range(1,6):\n",
    "            df[\"_CLOSE-\" + str(i)] = df[\"_CLOSE\"].shift(i).bfill()\n",
    "        yield df\n",
    "\n",
    "ML_Prep.end_partition._sf_vectorized_input = pd.DataFrame\n",
    "\n",
    "ml_prep_udtf = session.udtf.register(\n",
    "    ML_Prep, # the class\n",
    "    name=\"ml_prep_udtf\",\n",
    "    input_types=[PandasDataFrameType([DateType(), FloatType(), FloatType(), FloatType(), FloatType(), StringType()])], \n",
    "    output_schema=PandasDataFrameType([DateType(), FloatType(), FloatType(), FloatType(), FloatType(), StringType(),FloatType(),FloatType(),FloatType(),FloatType(),FloatType(),FloatType()],\n",
    "                                      ['DATE', \"OPEN\", \"HIGH\", \"LOW\", \"CLOSE\", \"SYMBOL\", \"CLOSE_M1\", \"CLOSE_M2\", \"CLOSE_M3\", \"CLOSE_M4\", \"CLOSE_M5\"]),\n",
    "    packages=[\"snowflake-snowpark-python\", 'pandas'])  \n"
   ]
  },
  {
   "cell_type": "code",
   "execution_count": 8,
   "id": "630b8ea6-0e46-4be2-874b-834daa07be29",
   "metadata": {},
   "outputs": [],
   "source": [
    "sdf_prepped = sdf.select(ml_prep_udtf(*[\"DATE\", \"OPEN\", \"HIGH\", \"LOW\", \"CLOSE\", \"SYMBOL\"]).over(partition_by=['SYMBOL']))\n",
    "sdf_prepped.limit(10).to_pandas()\n",
    "sdf_prepped.write.save_as_table(\"ML_PREPPED\", mode=\"overwrite\")"
   ]
  },
  {
   "cell_type": "code",
   "execution_count": 9,
   "id": "69b14d23-4ee0-4b21-b9ac-5fd637eddffb",
   "metadata": {},
   "outputs": [
    {
     "data": {
      "text/html": [
       "<div>\n",
       "<style scoped>\n",
       "    .dataframe tbody tr th:only-of-type {\n",
       "        vertical-align: middle;\n",
       "    }\n",
       "\n",
       "    .dataframe tbody tr th {\n",
       "        vertical-align: top;\n",
       "    }\n",
       "\n",
       "    .dataframe thead th {\n",
       "        text-align: right;\n",
       "    }\n",
       "</style>\n",
       "<table border=\"1\" class=\"dataframe\">\n",
       "  <thead>\n",
       "    <tr style=\"text-align: right;\">\n",
       "      <th></th>\n",
       "      <th>SYMBOL</th>\n",
       "    </tr>\n",
       "  </thead>\n",
       "  <tbody>\n",
       "    <tr>\n",
       "      <th>0</th>\n",
       "      <td>IBM</td>\n",
       "    </tr>\n",
       "    <tr>\n",
       "      <th>1</th>\n",
       "      <td>AMZN</td>\n",
       "    </tr>\n",
       "    <tr>\n",
       "      <th>2</th>\n",
       "      <td>FDS</td>\n",
       "    </tr>\n",
       "    <tr>\n",
       "      <th>3</th>\n",
       "      <td>META</td>\n",
       "    </tr>\n",
       "  </tbody>\n",
       "</table>\n",
       "</div>"
      ],
      "text/plain": [
       "  SYMBOL\n",
       "0    IBM\n",
       "1   AMZN\n",
       "2    FDS\n",
       "3   META"
      ]
     },
     "execution_count": 9,
     "metadata": {},
     "output_type": "execute_result"
    }
   ],
   "source": [
    "sdf[['SYMBOL']].distinct().to_pandas()"
   ]
  },
  {
   "cell_type": "markdown",
   "id": "5156f278-a61c-4099-83ea-8e3795778e69",
   "metadata": {},
   "source": [
    "# 1.4.1 Choose Your Symbol, Train/Test Split and Model\n",
    "\n",
    "We've got our data ready, but we need to make a few selections before we build our models"
   ]
  },
  {
   "cell_type": "code",
   "execution_count": 10,
   "id": "69f836f8-8c4b-4756-96a9-531c8d5ce1bc",
   "metadata": {},
   "outputs": [],
   "source": [
    "sdf_prepped_filt = sdf_prepped.filter((F.col(\"SYMBOL\") == 'IBM'))\n",
    "sdf_filt_train, sdf_filt_test = sdf_prepped_filt.filter((F.col(\"DATE\") <= '2022-01-01')), sdf_prepped_filt.filter((F.col(\"DATE\") > '2022-01-01'))\n",
    "regressor = LinearRegression"
   ]
  },
  {
   "cell_type": "markdown",
   "id": "5e6bd7a0-8c07-4a1e-bd99-79feb745e9d1",
   "metadata": {},
   "source": [
    "# 1.4.2 Train Your Model\n",
    "\n",
    "Our model is almost ready to be trained, but we need to choose our inputs, targets, and outputs.  We could go off piste and alter model (hyper)parameters here too (https://docs.snowflake.com/en/developer-guide/snowpark-ml/reference/latest/api/modeling/snowflake.ml.modeling.linear_model.LinearRegression)"
   ]
  },
  {
   "cell_type": "code",
   "execution_count": 11,
   "id": "603873ea-5bb6-4eee-8121-07780e5b2a01",
   "metadata": {},
   "outputs": [
    {
     "data": {
      "text/plain": [
       "<snowflake.ml.modeling.linear_model.linear_regression.LinearRegression at 0x17ed3c090>"
      ]
     },
     "execution_count": 11,
     "metadata": {},
     "output_type": "execute_result"
    }
   ],
   "source": [
    "regressor = regressor(input_cols=[\"CLOSE_M1\", \"CLOSE_M2\", \"CLOSE_M3\", \"CLOSE_M4\", \"CLOSE_M5\"],\n",
    "                         label_cols=[\"CLOSE\"],\n",
    "                         output_cols=[\"CLOSE_PREDICT\"])\n",
    "regressor.fit(sdf_filt_train)"
   ]
  },
  {
   "cell_type": "markdown",
   "id": "1863df7a-2670-4a10-82a6-dc99a5e17e4c",
   "metadata": {},
   "source": [
    "# 1.5 Register Your Model\n",
    "\n",
    "Let's assume we love the first model, it's time to register it...."
   ]
  },
  {
   "cell_type": "code",
   "execution_count": 13,
   "id": "a7cae620-c9c5-4cbd-a1cd-be3af51ca230",
   "metadata": {},
   "outputs": [],
   "source": [
    "MODEL_NAME = \"REGRESSION_IBM\"\n",
    "MODEL_VERSION = \"v01\"\n",
    "\n",
    "model = native_registry.log_model(\n",
    "    model_name=MODEL_NAME,\n",
    "    version_name=MODEL_VERSION,\n",
    "    model=regressor,\n",
    ")"
   ]
  },
  {
   "cell_type": "markdown",
   "id": "f18a0dd1-6bc6-4ef4-96e2-4e5da582b247",
   "metadata": {},
   "source": [
    "# 1.6 Run Your Model\n",
    "\n",
    "We're at the finish line!"
   ]
  },
  {
   "cell_type": "code",
   "execution_count": 14,
   "id": "1604c3f6-ea91-485e-9bee-fd7f9da5f201",
   "metadata": {},
   "outputs": [
    {
     "data": {
      "text/html": [
       "<div>\n",
       "<style scoped>\n",
       "    .dataframe tbody tr th:only-of-type {\n",
       "        vertical-align: middle;\n",
       "    }\n",
       "\n",
       "    .dataframe tbody tr th {\n",
       "        vertical-align: top;\n",
       "    }\n",
       "\n",
       "    .dataframe thead th {\n",
       "        text-align: right;\n",
       "    }\n",
       "</style>\n",
       "<table border=\"1\" class=\"dataframe\">\n",
       "  <thead>\n",
       "    <tr style=\"text-align: right;\">\n",
       "      <th></th>\n",
       "      <th>DATE</th>\n",
       "      <th>OPEN</th>\n",
       "      <th>HIGH</th>\n",
       "      <th>LOW</th>\n",
       "      <th>CLOSE</th>\n",
       "      <th>SYMBOL</th>\n",
       "      <th>CLOSE_M1</th>\n",
       "      <th>CLOSE_M2</th>\n",
       "      <th>CLOSE_M3</th>\n",
       "      <th>CLOSE_M4</th>\n",
       "      <th>CLOSE_M5</th>\n",
       "      <th>CLOSE_PREDICT</th>\n",
       "    </tr>\n",
       "  </thead>\n",
       "  <tbody>\n",
       "    <tr>\n",
       "      <th>0</th>\n",
       "      <td>2022-01-03</td>\n",
       "      <td>177.830002</td>\n",
       "      <td>182.880005</td>\n",
       "      <td>177.710007</td>\n",
       "      <td>182.009995</td>\n",
       "      <td>IBM</td>\n",
       "      <td>177.570007</td>\n",
       "      <td>178.199997</td>\n",
       "      <td>179.380005</td>\n",
       "      <td>179.289993</td>\n",
       "      <td>180.330002</td>\n",
       "      <td>174.761702</td>\n",
       "    </tr>\n",
       "    <tr>\n",
       "      <th>1</th>\n",
       "      <td>2022-01-04</td>\n",
       "      <td>182.630005</td>\n",
       "      <td>182.940002</td>\n",
       "      <td>179.119995</td>\n",
       "      <td>179.699997</td>\n",
       "      <td>IBM</td>\n",
       "      <td>182.009995</td>\n",
       "      <td>177.570007</td>\n",
       "      <td>178.199997</td>\n",
       "      <td>179.380005</td>\n",
       "      <td>179.289993</td>\n",
       "      <td>178.169860</td>\n",
       "    </tr>\n",
       "    <tr>\n",
       "      <th>2</th>\n",
       "      <td>2022-01-05</td>\n",
       "      <td>179.610001</td>\n",
       "      <td>180.169998</td>\n",
       "      <td>174.639999</td>\n",
       "      <td>174.919998</td>\n",
       "      <td>IBM</td>\n",
       "      <td>179.699997</td>\n",
       "      <td>182.009995</td>\n",
       "      <td>177.570007</td>\n",
       "      <td>178.199997</td>\n",
       "      <td>179.380005</td>\n",
       "      <td>177.002433</td>\n",
       "    </tr>\n",
       "    <tr>\n",
       "      <th>3</th>\n",
       "      <td>2022-01-06</td>\n",
       "      <td>172.699997</td>\n",
       "      <td>175.300003</td>\n",
       "      <td>171.639999</td>\n",
       "      <td>172.000000</td>\n",
       "      <td>IBM</td>\n",
       "      <td>174.919998</td>\n",
       "      <td>179.699997</td>\n",
       "      <td>182.009995</td>\n",
       "      <td>177.570007</td>\n",
       "      <td>178.199997</td>\n",
       "      <td>172.985956</td>\n",
       "    </tr>\n",
       "    <tr>\n",
       "      <th>4</th>\n",
       "      <td>2022-01-07</td>\n",
       "      <td>172.889999</td>\n",
       "      <td>174.139999</td>\n",
       "      <td>171.029999</td>\n",
       "      <td>172.169998</td>\n",
       "      <td>IBM</td>\n",
       "      <td>172.000000</td>\n",
       "      <td>174.919998</td>\n",
       "      <td>179.699997</td>\n",
       "      <td>182.009995</td>\n",
       "      <td>177.570007</td>\n",
       "      <td>169.914255</td>\n",
       "    </tr>\n",
       "  </tbody>\n",
       "</table>\n",
       "</div>"
      ],
      "text/plain": [
       "         DATE        OPEN        HIGH         LOW       CLOSE SYMBOL  \\\n",
       "0  2022-01-03  177.830002  182.880005  177.710007  182.009995    IBM   \n",
       "1  2022-01-04  182.630005  182.940002  179.119995  179.699997    IBM   \n",
       "2  2022-01-05  179.610001  180.169998  174.639999  174.919998    IBM   \n",
       "3  2022-01-06  172.699997  175.300003  171.639999  172.000000    IBM   \n",
       "4  2022-01-07  172.889999  174.139999  171.029999  172.169998    IBM   \n",
       "\n",
       "     CLOSE_M1    CLOSE_M2    CLOSE_M3    CLOSE_M4    CLOSE_M5  CLOSE_PREDICT  \n",
       "0  177.570007  178.199997  179.380005  179.289993  180.330002     174.761702  \n",
       "1  182.009995  177.570007  178.199997  179.380005  179.289993     178.169860  \n",
       "2  179.699997  182.009995  177.570007  178.199997  179.380005     177.002433  \n",
       "3  174.919998  179.699997  182.009995  177.570007  178.199997     172.985956  \n",
       "4  172.000000  174.919998  179.699997  182.009995  177.570007     169.914255  "
      ]
     },
     "execution_count": 14,
     "metadata": {},
     "output_type": "execute_result"
    }
   ],
   "source": [
    "model.run(sdf_filt_test, function_name=\"predict\").limit(5).to_pandas()"
   ]
  },
  {
   "cell_type": "markdown",
   "id": "5c115265-fc9c-40a5-bc2b-b4995269befc",
   "metadata": {},
   "source": [
    "## Make sure you run this last line - it's needed for the next Part"
   ]
  },
  {
   "cell_type": "code",
   "execution_count": 15,
   "id": "de49d682-5551-494c-9ea7-c59caac54f0c",
   "metadata": {},
   "outputs": [],
   "source": [
    "model_ = native_registry.get_model(MODEL_NAME).version(MODEL_VERSION)\n",
    "model_.run(sdf_filt_test, function_name=\"predict\").write.save_as_table(\"ML_PREDICT\", mode=\"overwrite\")"
   ]
  },
  {
   "cell_type": "code",
   "execution_count": 16,
   "id": "bc436b7d-de44-434d-8ad0-f2094b9e9e78",
   "metadata": {},
   "outputs": [
    {
     "data": {
      "text/html": [
       "<div>\n",
       "<style scoped>\n",
       "    .dataframe tbody tr th:only-of-type {\n",
       "        vertical-align: middle;\n",
       "    }\n",
       "\n",
       "    .dataframe tbody tr th {\n",
       "        vertical-align: top;\n",
       "    }\n",
       "\n",
       "    .dataframe thead th {\n",
       "        text-align: right;\n",
       "    }\n",
       "</style>\n",
       "<table border=\"1\" class=\"dataframe\">\n",
       "  <thead>\n",
       "    <tr style=\"text-align: right;\">\n",
       "      <th></th>\n",
       "      <th>created_on</th>\n",
       "      <th>name</th>\n",
       "      <th>comment</th>\n",
       "      <th>database_name</th>\n",
       "      <th>schema_name</th>\n",
       "      <th>module_name</th>\n",
       "      <th>is_default_version</th>\n",
       "      <th>functions</th>\n",
       "      <th>metadata</th>\n",
       "      <th>user_data</th>\n",
       "    </tr>\n",
       "  </thead>\n",
       "  <tbody>\n",
       "    <tr>\n",
       "      <th>0</th>\n",
       "      <td>2024-01-30 11:49:08.362000-08:00</td>\n",
       "      <td>V13</td>\n",
       "      <td>None</td>\n",
       "      <td>MODEL_REGISTRY</td>\n",
       "      <td>PUBLIC</td>\n",
       "      <td>REGRESSION_IBM</td>\n",
       "      <td>true</td>\n",
       "      <td>[\"PREDICT\"]</td>\n",
       "      <td>{}</td>\n",
       "      <td>{\"snowpark_ml_data\":{\"functions\":[{\"name\":\"PRE...</td>\n",
       "    </tr>\n",
       "    <tr>\n",
       "      <th>1</th>\n",
       "      <td>2024-01-30 11:52:40.772000-08:00</td>\n",
       "      <td>V14</td>\n",
       "      <td>None</td>\n",
       "      <td>MODEL_REGISTRY</td>\n",
       "      <td>PUBLIC</td>\n",
       "      <td>REGRESSION_IBM</td>\n",
       "      <td>false</td>\n",
       "      <td>[\"PREDICT\"]</td>\n",
       "      <td>{}</td>\n",
       "      <td>{\"snowpark_ml_data\":{\"functions\":[{\"name\":\"PRE...</td>\n",
       "    </tr>\n",
       "    <tr>\n",
       "      <th>2</th>\n",
       "      <td>2024-01-31 03:49:40.169000-08:00</td>\n",
       "      <td>V15</td>\n",
       "      <td>None</td>\n",
       "      <td>MODEL_REGISTRY</td>\n",
       "      <td>PUBLIC</td>\n",
       "      <td>REGRESSION_IBM</td>\n",
       "      <td>false</td>\n",
       "      <td>[\"PREDICT\"]</td>\n",
       "      <td>{}</td>\n",
       "      <td>{\"snowpark_ml_data\":{\"functions\":[{\"name\":\"PRE...</td>\n",
       "    </tr>\n",
       "    <tr>\n",
       "      <th>3</th>\n",
       "      <td>2024-01-31 11:05:24.661000-08:00</td>\n",
       "      <td>V01</td>\n",
       "      <td>None</td>\n",
       "      <td>MODEL_REGISTRY</td>\n",
       "      <td>PUBLIC</td>\n",
       "      <td>REGRESSION_IBM</td>\n",
       "      <td>false</td>\n",
       "      <td>[\"PREDICT\"]</td>\n",
       "      <td>{}</td>\n",
       "      <td>{\"snowpark_ml_data\":{\"functions\":[{\"name\":\"PRE...</td>\n",
       "    </tr>\n",
       "  </tbody>\n",
       "</table>\n",
       "</div>"
      ],
      "text/plain": [
       "                        created_on name comment   database_name schema_name  \\\n",
       "0 2024-01-30 11:49:08.362000-08:00  V13    None  MODEL_REGISTRY      PUBLIC   \n",
       "1 2024-01-30 11:52:40.772000-08:00  V14    None  MODEL_REGISTRY      PUBLIC   \n",
       "2 2024-01-31 03:49:40.169000-08:00  V15    None  MODEL_REGISTRY      PUBLIC   \n",
       "3 2024-01-31 11:05:24.661000-08:00  V01    None  MODEL_REGISTRY      PUBLIC   \n",
       "\n",
       "      module_name is_default_version    functions metadata  \\\n",
       "0  REGRESSION_IBM               true  [\"PREDICT\"]       {}   \n",
       "1  REGRESSION_IBM              false  [\"PREDICT\"]       {}   \n",
       "2  REGRESSION_IBM              false  [\"PREDICT\"]       {}   \n",
       "3  REGRESSION_IBM              false  [\"PREDICT\"]       {}   \n",
       "\n",
       "                                           user_data  \n",
       "0  {\"snowpark_ml_data\":{\"functions\":[{\"name\":\"PRE...  \n",
       "1  {\"snowpark_ml_data\":{\"functions\":[{\"name\":\"PRE...  \n",
       "2  {\"snowpark_ml_data\":{\"functions\":[{\"name\":\"PRE...  \n",
       "3  {\"snowpark_ml_data\":{\"functions\":[{\"name\":\"PRE...  "
      ]
     },
     "execution_count": 16,
     "metadata": {},
     "output_type": "execute_result"
    }
   ],
   "source": [
    "native_registry.get_model(MODEL_NAME).show_versions()"
   ]
  },
  {
   "cell_type": "code",
   "execution_count": null,
   "id": "f3e11b0d-ad64-41ef-a2e4-afd43f45d646",
   "metadata": {},
   "outputs": [],
   "source": []
  }
 ],
 "metadata": {
  "kernelspec": {
   "display_name": "Python 3 (ipykernel)",
   "language": "python",
   "name": "python3"
  },
  "language_info": {
   "codemirror_mode": {
    "name": "ipython",
    "version": 3
   },
   "file_extension": ".py",
   "mimetype": "text/x-python",
   "name": "python",
   "nbconvert_exporter": "python",
   "pygments_lexer": "ipython3",
   "version": "3.11.7"
  }
 },
 "nbformat": 4,
 "nbformat_minor": 5
}
