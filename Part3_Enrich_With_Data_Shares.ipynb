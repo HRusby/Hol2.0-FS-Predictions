{
 "cells": [
  {
   "cell_type": "markdown",
   "id": "6f8a6f15-e225-4b56-a88f-34e9a8478c02",
   "metadata": {},
   "source": [
    "# Get more fancy pants data\n",
    "- go to the web factset \n",
    "- request it\n",
    "- back to your sheet and run it (insert the name)\n"
   ]
  },
  {
   "cell_type": "markdown",
   "id": "3d7d23df-b67d-47b8-9745-ed956aaa06c4",
   "metadata": {},
   "source": [
    "# Integrate it with the model\n",
    "- join the data\n",
    "- so update the model features\n"
   ]
  },
  {
   "cell_type": "code",
   "execution_count": 6,
   "id": "8bcf030b-48f0-4720-a549-848b43111fa7",
   "metadata": {},
   "outputs": [],
   "source": [
    "import json\n",
    "import pandas as pd\n",
    "from snowflake.snowpark.session import Session\n",
    "import snowflake.snowpark.functions as F\n",
    "from snowflake.snowpark.types import PandasDataFrameType, IntegerType, StringType, FloatType, DateType\n",
    "from snowflake.ml.modeling.xgboost import XGBRegressor\n",
    "from snowflake.ml.modeling.linear_model import LinearRegression\n",
    "from snowflake.ml.registry import model_registry\n",
    "from snowflake.ml._internal.utils import identifier"
   ]
  },
  {
   "cell_type": "markdown",
   "id": "ead122fb-a9af-4105-bbb8-c0e16ed4c29c",
   "metadata": {},
   "source": [
    "# 1.1 Get the Data Share\n"
   ]
  },
  {
   "cell_type": "code",
   "execution_count": null,
   "id": "3c93bd86-8103-471c-92db-88da33c3c1ab",
   "metadata": {},
   "outputs": [],
   "source": [
    "https://app.snowflake.com/marketplace/listing/GZT1ZA3NLF/similarweb-ltd-global-stocks-25-000-tickers-digital-traffic-data-by-domain?search=Global%20Stocks"
   ]
  },
  {
   "cell_type": "markdown",
   "id": "f3b85097-c5dd-4d54-8b25-04eae0b18a1f",
   "metadata": {},
   "source": [
    "# 1.2 Reading Snowflake Connection Details, create a Session\n"
   ]
  },
  {
   "cell_type": "code",
   "execution_count": 7,
   "id": "fb970c10-ecdf-423a-a0e6-430fa072bb1c",
   "metadata": {},
   "outputs": [
    {
     "data": {
      "text/plain": [
       "[Row(status='Warehouse ASYNC_WH successfully created.')]"
      ]
     },
     "execution_count": 7,
     "metadata": {},
     "output_type": "execute_result"
    }
   ],
   "source": [
    "snowflake_connection_cfg = json.loads(open(\"/Users/mitaylor/Documents/creds/creds.json\").read()) # <--- Update here\n",
    "session = Session.builder.configs(snowflake_connection_cfg).create()\n",
    "session.sql(\"USE DATABASE HOL_DEMO\").collect()\n",
    "#session.sql(\"USE STAGE YOUR_STAGE\").collect()\n",
    "session.sql(\"CREATE OR REPLACE WAREHOUSE ASYNC_WH WITH WAREHOUSE_SIZE='MEDIUM' WAREHOUSE_TYPE = 'SNOWPARK-OPTIMIZED'\").collect()"
   ]
  },
  {
   "cell_type": "markdown",
   "id": "f1c60fe8-c8a8-46c4-abca-4dee9ab9b0c9",
   "metadata": {},
   "source": [
    "# 1.3 Examine a sample of the data"
   ]
  },
  {
   "cell_type": "code",
   "execution_count": null,
   "id": "5358cdf6-5d8a-4f5d-b51d-3a2e2ef1ee9f",
   "metadata": {},
   "outputs": [],
   "source": [
    ">>> df.group_by().agg(sum_(\"b\")).collect()"
   ]
  },
  {
   "cell_type": "code",
   "execution_count": 9,
   "id": "b52cbf10-134d-4013-bf4a-91d6b8bb0143",
   "metadata": {},
   "outputs": [],
   "source": [
    "from snowflake.snowpark.functions import col, lit, sum as sum_, max as max_\n"
   ]
  },
  {
   "cell_type": "code",
   "execution_count": 11,
   "id": "f4bae2e1-817c-4059-a388-a64665c1e327",
   "metadata": {},
   "outputs": [
    {
     "data": {
      "text/html": [
       "<div>\n",
       "<style scoped>\n",
       "    .dataframe tbody tr th:only-of-type {\n",
       "        vertical-align: middle;\n",
       "    }\n",
       "\n",
       "    .dataframe tbody tr th {\n",
       "        vertical-align: top;\n",
       "    }\n",
       "\n",
       "    .dataframe thead th {\n",
       "        text-align: right;\n",
       "    }\n",
       "</style>\n",
       "<table border=\"1\" class=\"dataframe\">\n",
       "  <thead>\n",
       "    <tr style=\"text-align: right;\">\n",
       "      <th></th>\n",
       "      <th>TICKER</th>\n",
       "      <th>SUM(LAST_VOL)</th>\n",
       "    </tr>\n",
       "  </thead>\n",
       "  <tbody>\n",
       "    <tr>\n",
       "      <th>0</th>\n",
       "      <td>FDS</td>\n",
       "      <td>59005626</td>\n",
       "    </tr>\n",
       "    <tr>\n",
       "      <th>1</th>\n",
       "      <td>AMZN</td>\n",
       "      <td>7732354508</td>\n",
       "    </tr>\n",
       "    <tr>\n",
       "      <th>2</th>\n",
       "      <td>META</td>\n",
       "      <td>3870265028</td>\n",
       "    </tr>\n",
       "    <tr>\n",
       "      <th>3</th>\n",
       "      <td>IBM</td>\n",
       "      <td>1028604713</td>\n",
       "    </tr>\n",
       "  </tbody>\n",
       "</table>\n",
       "</div>"
      ],
      "text/plain": [
       "  TICKER  SUM(LAST_VOL)\n",
       "0    FDS       59005626\n",
       "1   AMZN     7732354508\n",
       "2   META     3870265028\n",
       "3    IBM     1028604713"
      ]
     },
     "execution_count": 11,
     "metadata": {},
     "output_type": "execute_result"
    }
   ],
   "source": [
    "sdf = session.sql(\"\"\"Select * FROM TICK_HISTORY.PUBLIC.TH_SF_MKTPLACE where ticker IN ('AMZN', 'FDS', 'IBM', 'META')\"\"\")\n",
    "sdf_test = sdf.group_by(\"TICKER\").agg(sum_(\"LAST_VOL\"))\n",
    "sdf_test.limit(5).to_pandas()"
   ]
  },
  {
   "cell_type": "markdown",
   "id": "fe9cc28d-fce3-4ec2-8f85-07301dfe812d",
   "metadata": {},
   "source": [
    "# Use Native Snowpark to Manipulate the Data\n",
    "\n",
    "spark = SparkSession.builder.appName(\"example\").getOrCreate()\n",
    "sdf_test = sdf.groupBy(\"TICKER\").agg(sum_(\"LAST_VOL\"))\n",
    "\n"
   ]
  },
  {
   "cell_type": "code",
   "execution_count": null,
   "id": "c6c5a7d1-344a-49e5-9697-193704b418ac",
   "metadata": {},
   "outputs": [],
   "source": []
  },
  {
   "cell_type": "code",
   "execution_count": null,
   "id": "5c7ea9dd-ec90-4d28-9d59-b8d3897f6e16",
   "metadata": {},
   "outputs": [],
   "source": [
    "snowpark group by stock/day,\n",
    "max price min price mean price, rebuild ML model"
   ]
  },
  {
   "cell_type": "code",
   "execution_count": null,
   "id": "5ff4057a-4e04-4a58-a732-b59b84108181",
   "metadata": {},
   "outputs": [],
   "source": [
    "1\tAMZN\n",
    "2\tFDS\n",
    "3\tIBM\n",
    "4\tMETA"
   ]
  }
 ],
 "metadata": {
  "kernelspec": {
   "display_name": "Python 3 (ipykernel)",
   "language": "python",
   "name": "python3"
  },
  "language_info": {
   "codemirror_mode": {
    "name": "ipython",
    "version": 3
   },
   "file_extension": ".py",
   "mimetype": "text/x-python",
   "name": "python",
   "nbconvert_exporter": "python",
   "pygments_lexer": "ipython3",
   "version": "3.11.7"
  }
 },
 "nbformat": 4,
 "nbformat_minor": 5
}
