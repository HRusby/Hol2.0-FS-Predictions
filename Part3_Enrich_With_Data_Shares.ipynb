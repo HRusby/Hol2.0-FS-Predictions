{
 "cells": [
  {
   "cell_type": "markdown",
   "id": "6f8a6f15-e225-4b56-a88f-34e9a8478c02",
   "metadata": {},
   "source": [
    "# Get more fancy pants data\n",
    "- go to the web factset \n",
    "- request it\n",
    "- back to your sheet and run it (insert the name)\n"
   ]
  },
  {
   "cell_type": "markdown",
   "id": "3d7d23df-b67d-47b8-9745-ed956aaa06c4",
   "metadata": {},
   "source": [
    "# Integrate it with the model\n",
    "- join the data\n",
    "- so update the model features\n"
   ]
  },
  {
   "cell_type": "code",
   "execution_count": null,
   "id": "c6c5a7d1-344a-49e5-9697-193704b418ac",
   "metadata": {},
   "outputs": [],
   "source": [
    "https://app.snowflake.com/marketplace/listing/GZT0ZGCQ51UL/factset-tick-history"
   ]
  },
  {
   "cell_type": "code",
   "execution_count": null,
   "id": "5c7ea9dd-ec90-4d28-9d59-b8d3897f6e16",
   "metadata": {},
   "outputs": [],
   "source": [
    "snowpark group by stock/day,\n",
    "max price min price mean price, rebuild ML model"
   ]
  },
  {
   "cell_type": "code",
   "execution_count": 18,
   "id": "6ffd6769-1243-4771-af84-48c21293b531",
   "metadata": {},
   "outputs": [
    {
     "name": "stderr",
     "output_type": "stream",
     "text": [
      "[*********************100%%**********************]  1 of 1 completed\n",
      "[*********************100%%**********************]  1 of 1 completed\n",
      "[*********************100%%**********************]  1 of 1 completed\n",
      "[*********************100%%**********************]  1 of 1 completed\n",
      "[*********************100%%**********************]  1 of 1 completed\n",
      "[*********************100%%**********************]  1 of 1 completed"
     ]
    },
    {
     "name": "stdout",
     "output_type": "stream",
     "text": [
      "        DATE       OPEN       HIGH        LOW      CLOSE SYMBOL\n",
      "0 2020-01-02  74.059998  75.150002  73.797501  75.087502    IBM\n",
      "1 2020-01-03  74.287498  75.144997  74.125000  74.357498    IBM\n",
      "2 2020-01-06  73.447502  74.989998  73.187500  74.949997    IBM\n",
      "3 2020-01-07  74.959999  75.224998  74.370003  74.597504    IBM\n",
      "4 2020-01-08  74.290001  76.110001  74.290001  75.797501    IBM\n"
     ]
    },
    {
     "name": "stderr",
     "output_type": "stream",
     "text": [
      "\n"
     ]
    }
   ],
   "source": [
    "import yfinance as yf\n",
    "import pandas as pd\n",
    "\n",
    "data_final = pd.DataFrame()\n",
    "tickers = [\"IBM\", \"AMZN\", \"FDS\", \"MSFT\", \"AAPL\",\"META\"]\n",
    "for tick in tickers:\n",
    "    data = yf.download(\"AAPL\", start=\"2020-01-01\", end=\"2024-01-01\")\n",
    "    data = data.reset_index()\n",
    "    data['SYMBOL'] = tick\n",
    "    data_final = pd.concat([data_final, data], ignore_index=True, sort=False)\n",
    "data_final.columns = [\"DATE\", \"OPEN\", \"HIGH\", \"LOW\", \"CLOSE\", \"ADJ_CLOSE\", \"VOLUME\", \"SYMBOL\"]\n",
    "data_final = data_final[[\"DATE\", \"OPEN\", \"HIGH\", \"LOW\", \"CLOSE\", \"SYMBOL\"]]\n",
    "print(data_final.head())"
   ]
  },
  {
   "cell_type": "code",
   "execution_count": 19,
   "id": "30246c3e-2286-4074-a417-4b5223c6bec3",
   "metadata": {},
   "outputs": [],
   "source": [
    "data_final.to_csv(\"test.csv\")"
   ]
  },
  {
   "cell_type": "code",
   "execution_count": 6,
   "id": "8eeae84e-b1c6-4d45-a275-98707a421344",
   "metadata": {},
   "outputs": [
    {
     "data": {
      "text/plain": [
       "Timestamp('2020-01-02 00:00:00')"
      ]
     },
     "execution_count": 6,
     "metadata": {},
     "output_type": "execute_result"
    }
   ],
   "source": [
    "data['Date'].min()"
   ]
  },
  {
   "cell_type": "code",
   "execution_count": null,
   "id": "922a9ccb-2ed0-4a17-9279-8ec3e419b297",
   "metadata": {},
   "outputs": [],
   "source": [
    "\"IBM\", \"AMZN\", \"FDS\", \"MSFT\", \"AAPL\",\"META\""
   ]
  }
 ],
 "metadata": {
  "kernelspec": {
   "display_name": "Python 3 (ipykernel)",
   "language": "python",
   "name": "python3"
  },
  "language_info": {
   "codemirror_mode": {
    "name": "ipython",
    "version": 3
   },
   "file_extension": ".py",
   "mimetype": "text/x-python",
   "name": "python",
   "nbconvert_exporter": "python",
   "pygments_lexer": "ipython3",
   "version": "3.11.7"
  }
 },
 "nbformat": 4,
 "nbformat_minor": 5
}
