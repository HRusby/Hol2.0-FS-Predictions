{
 "cells": [
  {
   "cell_type": "markdown",
   "id": "6f8a6f15-e225-4b56-a88f-34e9a8478c02",
   "metadata": {},
   "source": [
    "# Get more fancy pants data\n",
    "- go to the web factset \n",
    "- request it\n",
    "- back to your sheet and run it (insert the name)\n"
   ]
  },
  {
   "cell_type": "markdown",
   "id": "3d7d23df-b67d-47b8-9745-ed956aaa06c4",
   "metadata": {},
   "source": [
    "# Integrate it with the model\n",
    "- join the data\n",
    "- so update the model features\n"
   ]
  },
  {
   "cell_type": "code",
   "execution_count": 1,
   "id": "8bcf030b-48f0-4720-a549-848b43111fa7",
   "metadata": {},
   "outputs": [],
   "source": [
    "import json\n",
    "import pandas as pd\n",
    "from snowflake.snowpark.session import Session\n",
    "import snowflake.snowpark.functions as F\n",
    "from snowflake.snowpark.types import PandasDataFrameType, IntegerType, StringType, FloatType, DateType\n",
    "from snowflake.ml.modeling.xgboost import XGBRegressor\n",
    "from snowflake.ml.modeling.linear_model import LinearRegression\n",
    "from snowflake.ml.registry import model_registry\n",
    "from snowflake.ml._internal.utils import identifier"
   ]
  },
  {
   "cell_type": "code",
   "execution_count": null,
   "id": "fc7391ee-4f37-4f5e-ae5a-a97e214f6747",
   "metadata": {},
   "outputs": [],
   "source": [
    "# 1.1 Get the Data Share\n"
   ]
  },
  {
   "cell_type": "code",
   "execution_count": null,
   "id": "3c93bd86-8103-471c-92db-88da33c3c1ab",
   "metadata": {},
   "outputs": [],
   "source": [
    "https://app.snowflake.com/marketplace/listing/GZT0ZGCQ51UL/factset-tick-history"
   ]
  },
  {
   "cell_type": "code",
   "execution_count": null,
   "id": "fea08206-0848-49fd-99fa-17c08a2c7528",
   "metadata": {},
   "outputs": [],
   "source": [
    "# 1.2 Reading Snowflake Connection Details, create a Session\n"
   ]
  },
  {
   "cell_type": "code",
   "execution_count": 2,
   "id": "fb970c10-ecdf-423a-a0e6-430fa072bb1c",
   "metadata": {},
   "outputs": [
    {
     "data": {
      "text/plain": [
       "[Row(status='Warehouse ASYNC_WH successfully created.')]"
      ]
     },
     "execution_count": 2,
     "metadata": {},
     "output_type": "execute_result"
    }
   ],
   "source": [
    "snowflake_connection_cfg = json.loads(open(\"/Users/mitaylor/Documents/creds/creds.json\").read()) # <--- Update here\n",
    "session = Session.builder.configs(snowflake_connection_cfg).create()\n",
    "session.sql(\"USE DATABASE HOL_DEMO\").collect()\n",
    "#session.sql(\"USE STAGE YOUR_STAGE\").collect()\n",
    "session.sql(\"CREATE OR REPLACE WAREHOUSE ASYNC_WH WITH WAREHOUSE_SIZE='MEDIUM' WAREHOUSE_TYPE = 'SNOWPARK-OPTIMIZED'\").collect()"
   ]
  },
  {
   "cell_type": "code",
   "execution_count": null,
   "id": "3f8158f2-2889-4c98-9682-ed80da885bb0",
   "metadata": {},
   "outputs": [],
   "source": [
    "# 1.3 Examine a sample of the data"
   ]
  },
  {
   "cell_type": "code",
   "execution_count": null,
   "id": "5358cdf6-5d8a-4f5d-b51d-3a2e2ef1ee9f",
   "metadata": {},
   "outputs": [],
   "source": []
  },
  {
   "cell_type": "code",
   "execution_count": null,
   "id": "b52cbf10-134d-4013-bf4a-91d6b8bb0143",
   "metadata": {},
   "outputs": [],
   "source": []
  },
  {
   "cell_type": "code",
   "execution_count": 4,
   "id": "f4bae2e1-817c-4059-a388-a64665c1e327",
   "metadata": {},
   "outputs": [
    {
     "data": {
      "text/html": [
       "<div>\n",
       "<style scoped>\n",
       "    .dataframe tbody tr th:only-of-type {\n",
       "        vertical-align: middle;\n",
       "    }\n",
       "\n",
       "    .dataframe tbody tr th {\n",
       "        vertical-align: top;\n",
       "    }\n",
       "\n",
       "    .dataframe thead th {\n",
       "        text-align: right;\n",
       "    }\n",
       "</style>\n",
       "<table border=\"1\" class=\"dataframe\">\n",
       "  <thead>\n",
       "    <tr style=\"text-align: right;\">\n",
       "      <th></th>\n",
       "      <th>TICKER</th>\n",
       "      <th>MSG_TYPE</th>\n",
       "      <th>DATE</th>\n",
       "      <th>TIME</th>\n",
       "      <th>SEQUENCE</th>\n",
       "      <th>LAST_PRICE</th>\n",
       "      <th>LAST_VOL</th>\n",
       "      <th>CVOL</th>\n",
       "      <th>VWAP</th>\n",
       "      <th>BID</th>\n",
       "      <th>...</th>\n",
       "      <th>BENCHMARK_SPREAD</th>\n",
       "      <th>TRADED_PRICE</th>\n",
       "      <th>TRADED_VOL</th>\n",
       "      <th>TRADED_CONDITION</th>\n",
       "      <th>TRADED_YIELD</th>\n",
       "      <th>ISO_CODE</th>\n",
       "      <th>LAST_EXCH</th>\n",
       "      <th>LAST_DATE</th>\n",
       "      <th>LAST_TIME</th>\n",
       "      <th>ORDER_NUM</th>\n",
       "    </tr>\n",
       "  </thead>\n",
       "  <tbody>\n",
       "    <tr>\n",
       "      <th>0</th>\n",
       "      <td>META</td>\n",
       "      <td>0</td>\n",
       "      <td>20221027</td>\n",
       "      <td>103753196</td>\n",
       "      <td>2337064</td>\n",
       "      <td>101.17</td>\n",
       "      <td>60.0</td>\n",
       "      <td>42794052.0</td>\n",
       "      <td>NaN</td>\n",
       "      <td>NaN</td>\n",
       "      <td>...</td>\n",
       "      <td>NaN</td>\n",
       "      <td>NaN</td>\n",
       "      <td>NaN</td>\n",
       "      <td>None</td>\n",
       "      <td>NaN</td>\n",
       "      <td>USA</td>\n",
       "      <td>14009</td>\n",
       "      <td>20221027.0</td>\n",
       "      <td>103753196.0</td>\n",
       "      <td>3109361</td>\n",
       "    </tr>\n",
       "    <tr>\n",
       "      <th>1</th>\n",
       "      <td>META</td>\n",
       "      <td>0</td>\n",
       "      <td>20221027</td>\n",
       "      <td>103753196</td>\n",
       "      <td>2337063</td>\n",
       "      <td>101.19</td>\n",
       "      <td>100.0</td>\n",
       "      <td>20474314.0</td>\n",
       "      <td>99.785986</td>\n",
       "      <td>NaN</td>\n",
       "      <td>...</td>\n",
       "      <td>NaN</td>\n",
       "      <td>NaN</td>\n",
       "      <td>NaN</td>\n",
       "      <td>None</td>\n",
       "      <td>NaN</td>\n",
       "      <td>USA</td>\n",
       "      <td>10050</td>\n",
       "      <td>20221027.0</td>\n",
       "      <td>103753196.0</td>\n",
       "      <td>3109360</td>\n",
       "    </tr>\n",
       "    <tr>\n",
       "      <th>2</th>\n",
       "      <td>META</td>\n",
       "      <td>1</td>\n",
       "      <td>20221027</td>\n",
       "      <td>103753196</td>\n",
       "      <td>24600831</td>\n",
       "      <td>NaN</td>\n",
       "      <td>NaN</td>\n",
       "      <td>NaN</td>\n",
       "      <td>NaN</td>\n",
       "      <td>101.17</td>\n",
       "      <td>...</td>\n",
       "      <td>NaN</td>\n",
       "      <td>NaN</td>\n",
       "      <td>NaN</td>\n",
       "      <td>None</td>\n",
       "      <td>NaN</td>\n",
       "      <td>USA</td>\n",
       "      <td>14015</td>\n",
       "      <td>NaN</td>\n",
       "      <td>NaN</td>\n",
       "      <td>3109529</td>\n",
       "    </tr>\n",
       "    <tr>\n",
       "      <th>3</th>\n",
       "      <td>META</td>\n",
       "      <td>1</td>\n",
       "      <td>20221027</td>\n",
       "      <td>103753196</td>\n",
       "      <td>24600826</td>\n",
       "      <td>NaN</td>\n",
       "      <td>NaN</td>\n",
       "      <td>NaN</td>\n",
       "      <td>NaN</td>\n",
       "      <td>101.17</td>\n",
       "      <td>...</td>\n",
       "      <td>NaN</td>\n",
       "      <td>NaN</td>\n",
       "      <td>NaN</td>\n",
       "      <td>None</td>\n",
       "      <td>NaN</td>\n",
       "      <td>USA</td>\n",
       "      <td>14007</td>\n",
       "      <td>NaN</td>\n",
       "      <td>NaN</td>\n",
       "      <td>3109524</td>\n",
       "    </tr>\n",
       "    <tr>\n",
       "      <th>4</th>\n",
       "      <td>META</td>\n",
       "      <td>15</td>\n",
       "      <td>20221027</td>\n",
       "      <td>103753196</td>\n",
       "      <td>24600790</td>\n",
       "      <td>NaN</td>\n",
       "      <td>NaN</td>\n",
       "      <td>NaN</td>\n",
       "      <td>NaN</td>\n",
       "      <td>101.18</td>\n",
       "      <td>...</td>\n",
       "      <td>NaN</td>\n",
       "      <td>NaN</td>\n",
       "      <td>NaN</td>\n",
       "      <td>None</td>\n",
       "      <td>NaN</td>\n",
       "      <td>USA</td>\n",
       "      <td>11099</td>\n",
       "      <td>NaN</td>\n",
       "      <td>NaN</td>\n",
       "      <td>3109502</td>\n",
       "    </tr>\n",
       "  </tbody>\n",
       "</table>\n",
       "<p>5 rows × 46 columns</p>\n",
       "</div>"
      ],
      "text/plain": [
       "  TICKER  MSG_TYPE      DATE       TIME  SEQUENCE  LAST_PRICE  LAST_VOL  \\\n",
       "0   META         0  20221027  103753196   2337064      101.17      60.0   \n",
       "1   META         0  20221027  103753196   2337063      101.19     100.0   \n",
       "2   META         1  20221027  103753196  24600831         NaN       NaN   \n",
       "3   META         1  20221027  103753196  24600826         NaN       NaN   \n",
       "4   META        15  20221027  103753196  24600790         NaN       NaN   \n",
       "\n",
       "         CVOL       VWAP     BID  ...  BENCHMARK_SPREAD  TRADED_PRICE  \\\n",
       "0  42794052.0        NaN     NaN  ...               NaN           NaN   \n",
       "1  20474314.0  99.785986     NaN  ...               NaN           NaN   \n",
       "2         NaN        NaN  101.17  ...               NaN           NaN   \n",
       "3         NaN        NaN  101.17  ...               NaN           NaN   \n",
       "4         NaN        NaN  101.18  ...               NaN           NaN   \n",
       "\n",
       "   TRADED_VOL  TRADED_CONDITION  TRADED_YIELD  ISO_CODE LAST_EXCH   LAST_DATE  \\\n",
       "0         NaN              None           NaN       USA     14009  20221027.0   \n",
       "1         NaN              None           NaN       USA     10050  20221027.0   \n",
       "2         NaN              None           NaN       USA     14015         NaN   \n",
       "3         NaN              None           NaN       USA     14007         NaN   \n",
       "4         NaN              None           NaN       USA     11099         NaN   \n",
       "\n",
       "     LAST_TIME ORDER_NUM  \n",
       "0  103753196.0   3109361  \n",
       "1  103753196.0   3109360  \n",
       "2          NaN   3109529  \n",
       "3          NaN   3109524  \n",
       "4          NaN   3109502  \n",
       "\n",
       "[5 rows x 46 columns]"
      ]
     },
     "execution_count": 4,
     "metadata": {},
     "output_type": "execute_result"
    }
   ],
   "source": [
    "sdf = session.sql(\"\"\"Select * FROM TICK_HISTORY.PUBLIC.TH_SF_MKTPLACE where ticker IN ('AMZN', 'FDS', 'IBM', 'META')\"\"\")\n",
    "sdf.limit(5).to_pandas()"
   ]
  },
  {
   "cell_type": "markdown",
   "id": "fe9cc28d-fce3-4ec2-8f85-07301dfe812d",
   "metadata": {},
   "source": [
    "# Use Native Snowpark to Manipulate the Data"
   ]
  },
  {
   "cell_type": "code",
   "execution_count": null,
   "id": "c6c5a7d1-344a-49e5-9697-193704b418ac",
   "metadata": {},
   "outputs": [],
   "source": []
  },
  {
   "cell_type": "code",
   "execution_count": null,
   "id": "5c7ea9dd-ec90-4d28-9d59-b8d3897f6e16",
   "metadata": {},
   "outputs": [],
   "source": [
    "snowpark group by stock/day,\n",
    "max price min price mean price, rebuild ML model"
   ]
  },
  {
   "cell_type": "code",
   "execution_count": null,
   "id": "5ff4057a-4e04-4a58-a732-b59b84108181",
   "metadata": {},
   "outputs": [],
   "source": [
    "1\tAMZN\n",
    "2\tFDS\n",
    "3\tIBM\n",
    "4\tMETA"
   ]
  }
 ],
 "metadata": {
  "kernelspec": {
   "display_name": "Python 3 (ipykernel)",
   "language": "python",
   "name": "python3"
  },
  "language_info": {
   "codemirror_mode": {
    "name": "ipython",
    "version": 3
   },
   "file_extension": ".py",
   "mimetype": "text/x-python",
   "name": "python",
   "nbconvert_exporter": "python",
   "pygments_lexer": "ipython3",
   "version": "3.11.7"
  }
 },
 "nbformat": 4,
 "nbformat_minor": 5
}
