{
 "cells": [
  {
   "cell_type": "markdown",
   "id": "6f8a6f15-e225-4b56-a88f-34e9a8478c02",
   "metadata": {},
   "source": [
    "# Get more fancy pants data\n",
    "- go to the web factset \n",
    "- request it\n",
    "- back to your sheet and run it (insert the name)\n"
   ]
  },
  {
   "cell_type": "markdown",
   "id": "3d7d23df-b67d-47b8-9745-ed956aaa06c4",
   "metadata": {},
   "source": [
    "# Integrate it with the model\n",
    "- join the data\n",
    "- so update the model features\n"
   ]
  },
  {
   "cell_type": "code",
   "execution_count": null,
   "id": "c6c5a7d1-344a-49e5-9697-193704b418ac",
   "metadata": {},
   "outputs": [],
   "source": [
    "https://app.snowflake.com/marketplace/listing/GZT0ZGCQ51UL/factset-tick-history"
   ]
  },
  {
   "cell_type": "code",
   "execution_count": null,
   "id": "5c7ea9dd-ec90-4d28-9d59-b8d3897f6e16",
   "metadata": {},
   "outputs": [],
   "source": [
    "snowpark group by stock/day,\n",
    "max price min price mean price, rebuild ML model"
   ]
  },
  {
   "cell_type": "code",
   "execution_count": null,
   "id": "6ffd6769-1243-4771-af84-48c21293b531",
   "metadata": {},
   "outputs": [],
   "source": []
  }
 ],
 "metadata": {
  "kernelspec": {
   "display_name": "Python 3 (ipykernel)",
   "language": "python",
   "name": "python3"
  },
  "language_info": {
   "codemirror_mode": {
    "name": "ipython",
    "version": 3
   },
   "file_extension": ".py",
   "mimetype": "text/x-python",
   "name": "python",
   "nbconvert_exporter": "python",
   "pygments_lexer": "ipython3",
   "version": "3.11.7"
  }
 },
 "nbformat": 4,
 "nbformat_minor": 5
}
