{
 "cells": [
  {
   "cell_type": "markdown",
   "id": "6f8a6f15-e225-4b56-a88f-34e9a8478c02",
   "metadata": {},
   "source": [
    "# Get more fancy pants data\n",
    "- go to the web factset \n",
    "- request it\n",
    "- back to your sheet and run it (insert the name)\n"
   ]
  },
  {
   "cell_type": "markdown",
   "id": "3d7d23df-b67d-47b8-9745-ed956aaa06c4",
   "metadata": {},
   "source": [
    "# Integrate it with the model\n",
    "- join the data\n",
    "- so update the model features\n"
   ]
  },
  {
   "cell_type": "code",
   "execution_count": 1,
   "id": "8bcf030b-48f0-4720-a549-848b43111fa7",
   "metadata": {},
   "outputs": [],
   "source": [
    "import json\n",
    "import pandas as pd\n",
    "from snowflake.snowpark.session import Session\n",
    "import snowflake.snowpark.functions as F\n",
    "from snowflake.snowpark.types import PandasDataFrameType, IntegerType, StringType, FloatType, DateType\n",
    "from snowflake.ml.modeling.xgboost import XGBRegressor\n",
    "from snowflake.ml.modeling.linear_model import LinearRegression\n",
    "#from snowflake.ml.registry import model_registry\n",
    "from snowflake.ml.registry import registry\n",
    "from snowflake.ml._internal.utils import identifier"
   ]
  },
  {
   "cell_type": "markdown",
   "id": "ead122fb-a9af-4105-bbb8-c0e16ed4c29c",
   "metadata": {},
   "source": [
    "# 3.1 Get the Data Share\n"
   ]
  },
  {
   "cell_type": "markdown",
   "id": "93e15fba-8371-417e-a011-ccbc7b112ef9",
   "metadata": {},
   "source": [
    "https://app.snowflake.com/marketplace/listing/GZT1ZA3NLF/similarweb-ltd-global-stocks-25-000-tickers-digital-traffic-data-by-domain?search=Global%20Stocks"
   ]
  },
  {
   "cell_type": "markdown",
   "id": "f3b85097-c5dd-4d54-8b25-04eae0b18a1f",
   "metadata": {},
   "source": [
    "# 3.2 Reading Snowflake Connection Details, create a Session\n"
   ]
  },
  {
   "cell_type": "code",
   "execution_count": 2,
   "id": "fb970c10-ecdf-423a-a0e6-430fa072bb1c",
   "metadata": {},
   "outputs": [
    {
     "data": {
      "text/plain": [
       "[Row(status='Warehouse ASYNC_WH successfully created.')]"
      ]
     },
     "execution_count": 2,
     "metadata": {},
     "output_type": "execute_result"
    }
   ],
   "source": [
    "snowflake_connection_cfg = json.loads(open(\"/Users/mitaylor/Documents/creds/creds_sf_azure.json\").read()) # <--- Update here\n",
    "session = Session.builder.configs(snowflake_connection_cfg).create()\n",
    "session.sql(\"USE DATABASE HOL_DEMO\").collect()\n",
    "#session.sql(\"USE STAGE YOUR_STAGE\").collect()\n",
    "session.sql(\"CREATE OR REPLACE WAREHOUSE ASYNC_WH WITH WAREHOUSE_SIZE='MEDIUM' WAREHOUSE_TYPE = 'SNOWPARK-OPTIMIZED'\").collect()"
   ]
  },
  {
   "cell_type": "markdown",
   "id": "f1c60fe8-c8a8-46c4-abca-4dee9ab9b0c9",
   "metadata": {},
   "source": [
    "# 3.3 Use SQL to import the data"
   ]
  },
  {
   "cell_type": "code",
   "execution_count": 3,
   "id": "f4bae2e1-817c-4059-a388-a64665c1e327",
   "metadata": {},
   "outputs": [
    {
     "data": {
      "text/html": [
       "<div>\n",
       "<style scoped>\n",
       "    .dataframe tbody tr th:only-of-type {\n",
       "        vertical-align: middle;\n",
       "    }\n",
       "\n",
       "    .dataframe tbody tr th {\n",
       "        vertical-align: top;\n",
       "    }\n",
       "\n",
       "    .dataframe thead th {\n",
       "        text-align: right;\n",
       "    }\n",
       "</style>\n",
       "<table border=\"1\" class=\"dataframe\">\n",
       "  <thead>\n",
       "    <tr style=\"text-align: right;\">\n",
       "      <th></th>\n",
       "      <th>DATE</th>\n",
       "      <th>VARIABLE_NAME</th>\n",
       "      <th>VALUE</th>\n",
       "    </tr>\n",
       "  </thead>\n",
       "  <tbody>\n",
       "    <tr>\n",
       "      <th>0</th>\n",
       "      <td>2024-01-20</td>\n",
       "      <td>ECB Main Refinancing Operations Rate: Fixed Ra...</td>\n",
       "      <td>0.0450</td>\n",
       "    </tr>\n",
       "    <tr>\n",
       "      <th>1</th>\n",
       "      <td>2024-01-16</td>\n",
       "      <td>Bank of Canada Overnight Lending Rate</td>\n",
       "      <td>0.0500</td>\n",
       "    </tr>\n",
       "    <tr>\n",
       "      <th>2</th>\n",
       "      <td>2023-12-02</td>\n",
       "      <td>Bank of Brazil Selic Interest Rate Target</td>\n",
       "      <td>0.1225</td>\n",
       "    </tr>\n",
       "    <tr>\n",
       "      <th>3</th>\n",
       "      <td>2023-11-29</td>\n",
       "      <td>Bank of England Official Bank Rate</td>\n",
       "      <td>0.0525</td>\n",
       "    </tr>\n",
       "    <tr>\n",
       "      <th>4</th>\n",
       "      <td>2023-11-28</td>\n",
       "      <td>Federal Funds Effective Rate</td>\n",
       "      <td>0.0533</td>\n",
       "    </tr>\n",
       "  </tbody>\n",
       "</table>\n",
       "</div>"
      ],
      "text/plain": [
       "         DATE                                      VARIABLE_NAME   VALUE\n",
       "0  2024-01-20  ECB Main Refinancing Operations Rate: Fixed Ra...  0.0450\n",
       "1  2024-01-16              Bank of Canada Overnight Lending Rate  0.0500\n",
       "2  2023-12-02          Bank of Brazil Selic Interest Rate Target  0.1225\n",
       "3  2023-11-29                 Bank of England Official Bank Rate  0.0525\n",
       "4  2023-11-28                       Federal Funds Effective Rate  0.0533"
      ]
     },
     "execution_count": 3,
     "metadata": {},
     "output_type": "execute_result"
    }
   ],
   "source": [
    "sdf = session.sql(\"\"\"\n",
    "SELECT ts.date,\n",
    "       ts.variable_name,\n",
    "       ts.value\n",
    "FROM FINANCIAL__ECONOMIC_ESSENTIALS.cybersyn.financial_fred_timeseries AS ts\n",
    "JOIN FINANCIAL__ECONOMIC_ESSENTIALS.cybersyn.financial_fred_attributes AS att\n",
    "    ON (att.variable = ts.variable)\n",
    "WHERE variable_group IN ('Bank of Brazil Selic Interest Rate Target',\n",
    "                         'Bank of Canada Overnight Lending Rate',\n",
    "                         'Bank of England Official Bank Rate',\n",
    "                         'Bank of Japan Policy-Rate Balance Rate',\n",
    "                         'Bank of Mexico Official Overnight Target Rate',\n",
    "                         'ECB Main Refinancing Operations Rate: Fixed Rate Tenders for Euro Area',\n",
    "                         'Federal Funds Effective Rate')\"\"\")\n",
    "sdf.limit(5).to_pandas()"
   ]
  },
  {
   "cell_type": "markdown",
   "id": "fe9cc28d-fce3-4ec2-8f85-07301dfe812d",
   "metadata": {},
   "source": [
    "# 3.4 Use Native Snowpark to Manipulate the Data\n",
    "## 3.4.1 Filtering\n",
    "\n",
    "TODO:\n",
    "\n",
    "1. Trim the dataframe columns to just the two we care about for now - \"DATE\" and \"VALUE\"\n",
    "\n",
    "Hints:\n",
    "\n",
    "To select a specific set of spark dataframe columns you would use the syntax spark_dataframe[[\"col_name1\", \"col_name2\"]], Snowpark syntax is the same\n",
    "\n"
   ]
  },
  {
   "cell_type": "code",
   "execution_count": 4,
   "id": "b52cbf10-134d-4013-bf4a-91d6b8bb0143",
   "metadata": {},
   "outputs": [
    {
     "name": "stdout",
     "output_type": "stream",
     "text": [
      "------------------------\n",
      "|\"DATE\"      |\"VALUE\"  |\n",
      "------------------------\n",
      "|2024-01-20  |0.045    |\n",
      "|2024-01-16  |0.05     |\n",
      "|2023-12-02  |0.1225   |\n",
      "|2023-11-29  |0.0525   |\n",
      "|2023-11-28  |0.0533   |\n",
      "|2023-11-23  |-0.001   |\n",
      "|2023-11-30  |0.1125   |\n",
      "|2023-11-24  |-0.001   |\n",
      "|2023-11-28  |-0.001   |\n",
      "|2023-11-30  |0.1225   |\n",
      "------------------------\n",
      "\n"
     ]
    }
   ],
   "source": [
    "sdf_trimmed = sdf[[\"DATE\", \"VALUE\"]]\n",
    "sdf_trimmed.show()"
   ]
  },
  {
   "cell_type": "markdown",
   "id": "948bc8b2-e07b-4721-8eb8-664672fb39cb",
   "metadata": {},
   "source": [
    "## 3.4.2 GroupBy\n",
    "\n",
    "TODO:\n",
    "\n",
    "1. Group by date to get the average overnight rates for each of the central banks \n",
    "\n",
    "Hints:\n",
    "\n",
    "Spark groupBy grouped_df = df.groupBy(\"the column you want to group by\").agg(mean(\"temperature\")\n",
    "\n",
    "Snowpark's \"group by\" is invoked via \"group_by\", but otherwise the same\n",
    "Snowpark's \"mean\" function is imported in the cell below \n"
   ]
  },
  {
   "cell_type": "code",
   "execution_count": 5,
   "id": "2b41310a-7110-4b21-9515-581af4b5249e",
   "metadata": {},
   "outputs": [],
   "source": [
    "from snowflake.snowpark.functions import mean as mean_"
   ]
  },
  {
   "cell_type": "code",
   "execution_count": 6,
   "id": "c27ecb5b-8f31-4555-be6b-3a890239ca2e",
   "metadata": {},
   "outputs": [
    {
     "data": {
      "text/html": [
       "<div>\n",
       "<style scoped>\n",
       "    .dataframe tbody tr th:only-of-type {\n",
       "        vertical-align: middle;\n",
       "    }\n",
       "\n",
       "    .dataframe tbody tr th {\n",
       "        vertical-align: top;\n",
       "    }\n",
       "\n",
       "    .dataframe thead th {\n",
       "        text-align: right;\n",
       "    }\n",
       "</style>\n",
       "<table border=\"1\" class=\"dataframe\">\n",
       "  <thead>\n",
       "    <tr style=\"text-align: right;\">\n",
       "      <th></th>\n",
       "      <th>DATE</th>\n",
       "      <th>AVG(VALUE)</th>\n",
       "    </tr>\n",
       "  </thead>\n",
       "  <tbody>\n",
       "    <tr>\n",
       "      <th>0</th>\n",
       "      <td>2024-01-26</td>\n",
       "      <td>0.071800</td>\n",
       "    </tr>\n",
       "    <tr>\n",
       "      <th>1</th>\n",
       "      <td>2024-01-25</td>\n",
       "      <td>0.071800</td>\n",
       "    </tr>\n",
       "    <tr>\n",
       "      <th>2</th>\n",
       "      <td>2014-08-10</td>\n",
       "      <td>0.035600</td>\n",
       "    </tr>\n",
       "    <tr>\n",
       "      <th>3</th>\n",
       "      <td>1960-12-31</td>\n",
       "      <td>0.039733</td>\n",
       "    </tr>\n",
       "    <tr>\n",
       "      <th>4</th>\n",
       "      <td>1997-09-21</td>\n",
       "      <td>0.029300</td>\n",
       "    </tr>\n",
       "  </tbody>\n",
       "</table>\n",
       "</div>"
      ],
      "text/plain": [
       "         DATE  AVG(VALUE)\n",
       "0  2024-01-26    0.071800\n",
       "1  2024-01-25    0.071800\n",
       "2  2014-08-10    0.035600\n",
       "3  1960-12-31    0.039733\n",
       "4  1997-09-21    0.029300"
      ]
     },
     "execution_count": 6,
     "metadata": {},
     "output_type": "execute_result"
    }
   ],
   "source": [
    "sdf_grouped = sdf_trimmed.group_by(\"DATE\").agg(mean_(\"VALUE\"))\n",
    "sdf_grouped.limit(5).to_pandas()"
   ]
  },
  {
   "cell_type": "code",
   "execution_count": 7,
   "id": "e70b462c-9fb4-403f-ab4d-bf86bd4214db",
   "metadata": {},
   "outputs": [],
   "source": [
    "sdf_grouped = sdf_grouped.filter((F.col(\"DATE\") >= '2022-01-01'))"
   ]
  },
  {
   "cell_type": "markdown",
   "id": "44cd0c06-ea45-4517-bfcd-91fa58951b66",
   "metadata": {},
   "source": [
    "## 3.4.3 Join it with our Prior Data"
   ]
  },
  {
   "cell_type": "code",
   "execution_count": 8,
   "id": "a5206f82-709a-49bb-b0c1-0ef3217de723",
   "metadata": {},
   "outputs": [],
   "source": [
    "sdf_ml = session.table(\"ML_PREDICT\")\n",
    "sdf_ml = sdf_ml.filter((F.col(\"SYMBOL\") == 'IBM'))\n",
    "sdf_joined = sdf_ml.join(sdf_grouped, sdf_ml.DATE == sdf_grouped.DATE, rsuffix=\"_right\", how=\"left\")\n",
    "sdf_joined = sdf_joined.rename(F.col(\"AVG(VALUE)\"), \"NEW_FEATURE\")\n",
    "sdf_joined = sdf_joined.drop(\"DATE_RIGHT\")"
   ]
  },
  {
   "cell_type": "code",
   "execution_count": 9,
   "id": "3ed33fed-b178-43af-90e9-9f3445c6ebd8",
   "metadata": {},
   "outputs": [
    {
     "name": "stdout",
     "output_type": "stream",
     "text": [
      "------------------------------------------------------------------------------------------------------------------------------------------------------------------------------------------------------------------------------------------------------------------\n",
      "|\"DATE\"      |\"OPEN\"              |\"HIGH\"              |\"LOW\"               |\"CLOSE\"             |\"SYMBOL\"  |\"CLOSE_M1\"          |\"CLOSE_M2\"          |\"CLOSE_M3\"          |\"CLOSE_M4\"          |\"CLOSE_M5\"          |\"CLOSE_PREDICT\"     |\"NEW_FEATURE\"         |\n",
      "------------------------------------------------------------------------------------------------------------------------------------------------------------------------------------------------------------------------------------------------------------------\n",
      "|2022-09-12  |159.58999633789062  |164.25999450683594  |159.3000030517578   |163.42999267578125  |IBM       |157.3699951171875   |154.4600067138672   |155.9600067138672   |154.52999877929688  |155.80999755859375  |154.9236215544927   |0.04282857142857144   |\n",
      "|2022-07-28  |156.97999572753906  |157.63999938964844  |154.41000366210938  |157.35000610351562  |IBM       |156.7899932861328   |151.60000610351562  |152.9499969482422   |154.08999633789062  |155.35000610351562  |153.96240063298282  |0.03925714285714286   |\n",
      "|2022-12-12  |142.6999969482422   |144.5               |141.05999755859375  |144.49000549316406  |IBM       |142.16000366210938  |142.64999389648438  |140.94000244140625  |142.91000366210938  |146.6300048828125   |140.8425746393105   |0.05247142857142857   |\n",
      "|2022-10-27  |148.07000732421875  |149.0500030517578   |144.1300048828125   |144.8000030517578   |IBM       |149.35000610351562  |152.33999633789062  |149.4499969482422   |147.27000427246094  |143.38999938964844  |148.28749247823657  |0.047471428571428574  |\n",
      "|2022-03-15  |150.89999389648438  |155.57000732421875  |150.3800048828125   |155.08999633789062  |IBM       |150.6199951171875   |154.72999572753906  |158.52000427246094  |162.9499969482422   |157.44000244140625  |149.68333164775282  |0.02532857142857143   |\n",
      "|2022-01-28  |165.7100067138672   |170.35000610351562  |162.8000030517578   |170.3300018310547   |IBM       |159.22000122070312  |159.69000244140625  |159.77999877929688  |161.6199951171875   |162.41000366210938  |157.1902089516017   |0.021757142857142857  |\n",
      "|2022-06-15  |134.2899932861328   |137.33999633789062  |132.16000366210938  |135.42999267578125  |IBM       |132.75999450683594  |131.8800048828125   |137.1300048828125   |142.63999938964844  |147.9600067138672   |131.6387541339791   |0.03282857142857143   |\n",
      "|2022-05-02  |156.7100067138672   |158.22999572753906  |153.27000427246094  |157.9600067138672   |IBM       |157.64999389648438  |163.63999938964844  |156.57000732421875  |156.8000030517578   |162.8800048828125   |156.45433839323888  |0.032466666666666665  |\n",
      "|2023-09-18  |176.47999572753906  |179.3800048828125   |176.1699981689453   |177.97000122070312  |IBM       |175.00999450683594  |175.74000549316406  |174.2100067138672   |176.3000030517578   |179.36000061035156  |172.24455580680117  |0.06318571428571428   |\n",
      "|2023-08-03  |191.57000732421875  |192.3699951171875   |190.69000244140625  |191.1699981689453   |IBM       |192.5800018310547   |195.6100006103516   |196.4499969482422   |195.8300018310547   |193.22000122070312  |189.54452371074547  |0.06318571428571429   |\n",
      "------------------------------------------------------------------------------------------------------------------------------------------------------------------------------------------------------------------------------------------------------------------\n",
      "\n"
     ]
    }
   ],
   "source": [
    "sdf_joined.show()"
   ]
  },
  {
   "cell_type": "markdown",
   "id": "e62ba868-53fc-4b5c-805c-148682e6fa56",
   "metadata": {},
   "source": [
    "# 3.5 Train and Test the Model"
   ]
  },
  {
   "cell_type": "code",
   "execution_count": 10,
   "id": "05d92d51-591a-4e4a-8521-e742018af098",
   "metadata": {},
   "outputs": [
    {
     "name": "stderr",
     "output_type": "stream",
     "text": [
      "Input value type doesn't match the target column data type, this replacement was skipped. Column Name: \"DATE\", Type: DateType(), Input Value: 0.05, Type: <class 'float'>\n",
      "Input value type doesn't match the target column data type, this replacement was skipped. Column Name: \"SYMBOL\", Type: StringType(16777216), Input Value: 0.05, Type: <class 'float'>\n"
     ]
    }
   ],
   "source": [
    "sdf_joined = sdf_joined.na.fill(0.05)\n",
    "sdf_joined_train, sdf_joined_test = sdf_joined.filter((F.col(\"DATE\") <= '2023-01-01')), sdf_joined.filter((F.col(\"DATE\") > '2023-01-01')) "
   ]
  },
  {
   "cell_type": "code",
   "execution_count": 11,
   "id": "00b03f0d-a038-4c5e-a1df-0763788fc501",
   "metadata": {},
   "outputs": [],
   "source": [
    "REGISTRY_DATABASE_NAME = \"MODEL_REGISTRY\"\n",
    "REGISTRY_SCHEMA_NAME = \"PUBLIC\"\n",
    "native_registry = registry.Registry(session=session, database_name=REGISTRY_DATABASE_NAME, schema_name=REGISTRY_SCHEMA_NAME)\n",
    "\n",
    "#train\n",
    "regressor = LinearRegression\n",
    "regressor = regressor(input_cols=[\"CLOSE_M1\", \"CLOSE_M2\", \"CLOSE_M3\", \"CLOSE_M4\", \"CLOSE_M5\"],\n",
    "                         label_cols=[\"CLOSE\"],\n",
    "                         output_cols=[\"CLOSE_PREDICT\"])\n",
    "regressor.fit(sdf_joined_train)\n",
    "\n",
    "MODEL_NAME = \"REGRESSION_IBM\"\n",
    "MODEL_VERSION = \"v14\"\n",
    "model = native_registry.log_model(\n",
    "    model_name=MODEL_NAME,\n",
    "    version_name=MODEL_VERSION,\n",
    "    model=regressor,\n",
    ")"
   ]
  },
  {
   "cell_type": "code",
   "execution_count": 12,
   "id": "c31dec85-3b9b-49c3-b0d3-e350bdf24fc9",
   "metadata": {},
   "outputs": [
    {
     "data": {
      "text/html": [
       "<div>\n",
       "<style scoped>\n",
       "    .dataframe tbody tr th:only-of-type {\n",
       "        vertical-align: middle;\n",
       "    }\n",
       "\n",
       "    .dataframe tbody tr th {\n",
       "        vertical-align: top;\n",
       "    }\n",
       "\n",
       "    .dataframe thead th {\n",
       "        text-align: right;\n",
       "    }\n",
       "</style>\n",
       "<table border=\"1\" class=\"dataframe\">\n",
       "  <thead>\n",
       "    <tr style=\"text-align: right;\">\n",
       "      <th></th>\n",
       "      <th>DATE</th>\n",
       "      <th>OPEN</th>\n",
       "      <th>HIGH</th>\n",
       "      <th>LOW</th>\n",
       "      <th>CLOSE</th>\n",
       "      <th>SYMBOL</th>\n",
       "      <th>NEW_FEATURE</th>\n",
       "      <th>CLOSE_M1</th>\n",
       "      <th>CLOSE_M2</th>\n",
       "      <th>CLOSE_M3</th>\n",
       "      <th>CLOSE_M4</th>\n",
       "      <th>CLOSE_M5</th>\n",
       "      <th>CLOSE_PREDICT</th>\n",
       "    </tr>\n",
       "  </thead>\n",
       "  <tbody>\n",
       "    <tr>\n",
       "      <th>0</th>\n",
       "      <td>2023-09-11</td>\n",
       "      <td>180.070007</td>\n",
       "      <td>180.300003</td>\n",
       "      <td>177.339996</td>\n",
       "      <td>179.360001</td>\n",
       "      <td>IBM</td>\n",
       "      <td>0.063186</td>\n",
       "      <td>178.179993</td>\n",
       "      <td>177.559998</td>\n",
       "      <td>182.910004</td>\n",
       "      <td>189.699997</td>\n",
       "      <td>189.460007</td>\n",
       "      <td>176.024114</td>\n",
       "    </tr>\n",
       "    <tr>\n",
       "      <th>1</th>\n",
       "      <td>2023-07-27</td>\n",
       "      <td>196.020004</td>\n",
       "      <td>197.199997</td>\n",
       "      <td>192.550003</td>\n",
       "      <td>193.220001</td>\n",
       "      <td>IBM</td>\n",
       "      <td>0.063186</td>\n",
       "      <td>194.500000</td>\n",
       "      <td>193.619995</td>\n",
       "      <td>192.750000</td>\n",
       "      <td>191.940002</td>\n",
       "      <td>193.130005</td>\n",
       "      <td>190.453400</td>\n",
       "    </tr>\n",
       "    <tr>\n",
       "      <th>2</th>\n",
       "      <td>2023-12-11</td>\n",
       "      <td>193.110001</td>\n",
       "      <td>193.490005</td>\n",
       "      <td>191.419998</td>\n",
       "      <td>193.179993</td>\n",
       "      <td>IBM</td>\n",
       "      <td>0.062114</td>\n",
       "      <td>195.710007</td>\n",
       "      <td>194.270004</td>\n",
       "      <td>192.320007</td>\n",
       "      <td>193.419998</td>\n",
       "      <td>189.429993</td>\n",
       "      <td>191.032851</td>\n",
       "    </tr>\n",
       "    <tr>\n",
       "      <th>3</th>\n",
       "      <td>2023-11-06</td>\n",
       "      <td>176.380005</td>\n",
       "      <td>179.429993</td>\n",
       "      <td>176.210007</td>\n",
       "      <td>179.229996</td>\n",
       "      <td>IBM</td>\n",
       "      <td>0.062114</td>\n",
       "      <td>176.649994</td>\n",
       "      <td>190.539993</td>\n",
       "      <td>173.970001</td>\n",
       "      <td>170.770004</td>\n",
       "      <td>170.289993</td>\n",
       "      <td>176.988650</td>\n",
       "    </tr>\n",
       "    <tr>\n",
       "      <th>4</th>\n",
       "      <td>2023-03-24</td>\n",
       "      <td>158.860001</td>\n",
       "      <td>160.339996</td>\n",
       "      <td>157.850006</td>\n",
       "      <td>160.250000</td>\n",
       "      <td>IBM</td>\n",
       "      <td>0.059614</td>\n",
       "      <td>158.929993</td>\n",
       "      <td>157.830002</td>\n",
       "      <td>147.919998</td>\n",
       "      <td>157.399994</td>\n",
       "      <td>155.000000</td>\n",
       "      <td>157.356370</td>\n",
       "    </tr>\n",
       "    <tr>\n",
       "      <th>5</th>\n",
       "      <td>2023-02-08</td>\n",
       "      <td>153.880005</td>\n",
       "      <td>154.580002</td>\n",
       "      <td>151.169998</td>\n",
       "      <td>151.919998</td>\n",
       "      <td>IBM</td>\n",
       "      <td>0.057471</td>\n",
       "      <td>154.649994</td>\n",
       "      <td>151.729996</td>\n",
       "      <td>165.559998</td>\n",
       "      <td>150.820007</td>\n",
       "      <td>145.429993</td>\n",
       "      <td>155.148670</td>\n",
       "    </tr>\n",
       "    <tr>\n",
       "      <th>6</th>\n",
       "      <td>2023-06-27</td>\n",
       "      <td>185.889999</td>\n",
       "      <td>188.389999</td>\n",
       "      <td>185.669998</td>\n",
       "      <td>188.059998</td>\n",
       "      <td>IBM</td>\n",
       "      <td>0.062457</td>\n",
       "      <td>185.270004</td>\n",
       "      <td>186.679993</td>\n",
       "      <td>187.000000</td>\n",
       "      <td>175.429993</td>\n",
       "      <td>185.009995</td>\n",
       "      <td>183.468657</td>\n",
       "    </tr>\n",
       "    <tr>\n",
       "      <th>7</th>\n",
       "      <td>2023-05-12</td>\n",
       "      <td>173.619995</td>\n",
       "      <td>174.059998</td>\n",
       "      <td>171.000000</td>\n",
       "      <td>172.570007</td>\n",
       "      <td>IBM</td>\n",
       "      <td>0.061043</td>\n",
       "      <td>173.750000</td>\n",
       "      <td>173.559998</td>\n",
       "      <td>171.770004</td>\n",
       "      <td>173.500000</td>\n",
       "      <td>172.190002</td>\n",
       "      <td>171.719619</td>\n",
       "    </tr>\n",
       "    <tr>\n",
       "      <th>8</th>\n",
       "      <td>2023-01-09</td>\n",
       "      <td>130.470001</td>\n",
       "      <td>133.410004</td>\n",
       "      <td>129.889999</td>\n",
       "      <td>130.149994</td>\n",
       "      <td>IBM</td>\n",
       "      <td>0.055329</td>\n",
       "      <td>129.619995</td>\n",
       "      <td>125.019997</td>\n",
       "      <td>126.360001</td>\n",
       "      <td>125.070000</td>\n",
       "      <td>129.929993</td>\n",
       "      <td>131.507156</td>\n",
       "    </tr>\n",
       "    <tr>\n",
       "      <th>9</th>\n",
       "      <td>2023-08-28</td>\n",
       "      <td>180.089996</td>\n",
       "      <td>180.589996</td>\n",
       "      <td>178.550003</td>\n",
       "      <td>180.190002</td>\n",
       "      <td>IBM</td>\n",
       "      <td>0.064967</td>\n",
       "      <td>179.070007</td>\n",
       "      <td>140.360001</td>\n",
       "      <td>143.110001</td>\n",
       "      <td>137.589996</td>\n",
       "      <td>137.350006</td>\n",
       "      <td>167.375192</td>\n",
       "    </tr>\n",
       "  </tbody>\n",
       "</table>\n",
       "</div>"
      ],
      "text/plain": [
       "         DATE        OPEN        HIGH         LOW       CLOSE SYMBOL  \\\n",
       "0  2023-09-11  180.070007  180.300003  177.339996  179.360001    IBM   \n",
       "1  2023-07-27  196.020004  197.199997  192.550003  193.220001    IBM   \n",
       "2  2023-12-11  193.110001  193.490005  191.419998  193.179993    IBM   \n",
       "3  2023-11-06  176.380005  179.429993  176.210007  179.229996    IBM   \n",
       "4  2023-03-24  158.860001  160.339996  157.850006  160.250000    IBM   \n",
       "5  2023-02-08  153.880005  154.580002  151.169998  151.919998    IBM   \n",
       "6  2023-06-27  185.889999  188.389999  185.669998  188.059998    IBM   \n",
       "7  2023-05-12  173.619995  174.059998  171.000000  172.570007    IBM   \n",
       "8  2023-01-09  130.470001  133.410004  129.889999  130.149994    IBM   \n",
       "9  2023-08-28  180.089996  180.589996  178.550003  180.190002    IBM   \n",
       "\n",
       "   NEW_FEATURE    CLOSE_M1    CLOSE_M2    CLOSE_M3    CLOSE_M4    CLOSE_M5  \\\n",
       "0     0.063186  178.179993  177.559998  182.910004  189.699997  189.460007   \n",
       "1     0.063186  194.500000  193.619995  192.750000  191.940002  193.130005   \n",
       "2     0.062114  195.710007  194.270004  192.320007  193.419998  189.429993   \n",
       "3     0.062114  176.649994  190.539993  173.970001  170.770004  170.289993   \n",
       "4     0.059614  158.929993  157.830002  147.919998  157.399994  155.000000   \n",
       "5     0.057471  154.649994  151.729996  165.559998  150.820007  145.429993   \n",
       "6     0.062457  185.270004  186.679993  187.000000  175.429993  185.009995   \n",
       "7     0.061043  173.750000  173.559998  171.770004  173.500000  172.190002   \n",
       "8     0.055329  129.619995  125.019997  126.360001  125.070000  129.929993   \n",
       "9     0.064967  179.070007  140.360001  143.110001  137.589996  137.350006   \n",
       "\n",
       "   CLOSE_PREDICT  \n",
       "0     176.024114  \n",
       "1     190.453400  \n",
       "2     191.032851  \n",
       "3     176.988650  \n",
       "4     157.356370  \n",
       "5     155.148670  \n",
       "6     183.468657  \n",
       "7     171.719619  \n",
       "8     131.507156  \n",
       "9     167.375192  "
      ]
     },
     "execution_count": 12,
     "metadata": {},
     "output_type": "execute_result"
    }
   ],
   "source": [
    "model_ = native_registry.get_model(MODEL_NAME).version(MODEL_VERSION)\n",
    "model_.run(sdf_joined_test, function_name=\"predict\").limit(10).to_pandas()"
   ]
  },
  {
   "cell_type": "code",
   "execution_count": 13,
   "id": "21bffe0f-fd82-4329-a284-ee342f432261",
   "metadata": {},
   "outputs": [],
   "source": [
    "model_.run(sdf_joined_test, function_name=\"predict\").write.save_as_table(\"ML_PREDICT\", mode=\"overwrite\")"
   ]
  },
  {
   "cell_type": "code",
   "execution_count": null,
   "id": "1e7b6de5-5e83-41cc-9ddb-b012220597aa",
   "metadata": {},
   "outputs": [],
   "source": []
  }
 ],
 "metadata": {
  "kernelspec": {
   "display_name": "Python 3 (ipykernel)",
   "language": "python",
   "name": "python3"
  },
  "language_info": {
   "codemirror_mode": {
    "name": "ipython",
    "version": 3
   },
   "file_extension": ".py",
   "mimetype": "text/x-python",
   "name": "python",
   "nbconvert_exporter": "python",
   "pygments_lexer": "ipython3",
   "version": "3.11.7"
  }
 },
 "nbformat": 4,
 "nbformat_minor": 5
}
