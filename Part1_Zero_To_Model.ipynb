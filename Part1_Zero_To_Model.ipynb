{
 "cells": [
  {
   "cell_type": "markdown",
   "id": "ae5b37b0-9fd7-49e2-935e-29a6169a6e15",
   "metadata": {},
   "source": [
    "# Part 1. From Zero to Snowflake in 50 Lines of Code\n",
    "\n",
    "In this lab you will learn how to:\n",
    "\n",
    "1. Create a session for Snowpark with Snowflake\n",
    "2. Create a DB, Warehouse and Model Registry\n",
    "3. Prep Data using the highly parallelisable vectorised UDTF functionality\n",
    "4. Build/train a regression model with Snowpark ML\n",
    "5. Register your model in the Model Registry\n",
    "6. Deploy the model\n",
    "7. Run the model\n",
    "\n",
    "All this in 50 lines of code (less the library imports). Note - there are some TODOs along the way for you to update"
   ]
  },
  {
   "cell_type": "markdown",
   "id": "927d951e-23e8-4b74-93ff-e7e34938a4a0",
   "metadata": {},
   "source": [
    "## Prerequisites:\n",
    "In a terminal please run:\n",
    "\n",
    "conda env create -f conda_env.yml\n",
    " \n",
    "conda activate snowpark-ml-hol\n",
    "\n",
    "jupyter lab <---- this will load jupyter "
   ]
  },
  {
   "cell_type": "code",
   "execution_count": 1,
   "id": "2796f46e-5a61-47e6-84b0-a9bdeb4af2aa",
   "metadata": {},
   "outputs": [],
   "source": [
    "import json\n",
    "import pandas as pd\n",
    "from snowflake.snowpark.session import Session\n",
    "import snowflake.snowpark.functions as F\n",
    "from snowflake.snowpark.types import PandasDataFrameType, IntegerType, StringType, FloatType, DateType\n",
    "from snowflake.ml.modeling.xgboost import XGBRegressor\n",
    "from snowflake.ml.modeling.linear_model import LinearRegression\n",
    "from snowflake.ml.registry import model_registry\n",
    "from snowflake.ml._internal.utils import identifier"
   ]
  },
  {
   "cell_type": "markdown",
   "id": "2b3d4eff-d2fc-4faa-9657-d0c95223c2a1",
   "metadata": {},
   "source": [
    "# 1.1 Reading Snowflake Connection Details, create a Session\n",
    "\n",
    "TO DO: \n",
    "\n",
    "1. Create a JSON with your credentials and update the cell below\n",
    "\n",
    "{\n",
    "\"account\": \"your_account_name\", \n",
    "\"user\": \"your_user_name\",\n",
    "\"password\": \"insert_your_pwd_here\",\n",
    "\"role\": \"ACCOUNTADMIN\"\n",
    "}\n",
    "\n",
    "2. Update the location "
   ]
  },
  {
   "cell_type": "code",
   "execution_count": 2,
   "id": "a24f6ccb-143c-40cd-b8ff-5b5b752231df",
   "metadata": {},
   "outputs": [],
   "source": [
    "snowflake_connection_cfg = json.loads(open(\"/Users/mitaylor/Documents/creds/creds_sf_azure.json\").read()) # <--- 2. Update here\n",
    "session = Session.builder.configs(snowflake_connection_cfg).create()"
   ]
  },
  {
   "cell_type": "markdown",
   "id": "536caf95-150b-40d4-b60c-4a55a8c6c07a",
   "metadata": {},
   "source": [
    "# 1.2 Specify Your Database and Create a Virtual Warehouse\n",
    "\n",
    "Snowflake seperates compute from storage, so we need a database AND a warehouse (compute environment) to run this stuff on.  Might as well create a model registry at the same time"
   ]
  },
  {
   "cell_type": "code",
   "execution_count": 3,
   "id": "97bedf16-8ff6-4541-8cff-b6defee453d8",
   "metadata": {},
   "outputs": [
    {
     "name": "stderr",
     "output_type": "stream",
     "text": [
      "create_model_registry() is in private preview since 0.2.0. Do not use it in production. \n",
      "WARNING:absl:The database MODEL_REGISTRY already exists. Skipping creation.\n",
      "WARNING:absl:The schema MODEL_REGISTRY.PUBLIC already exists. Skipping creation.\n",
      "/var/folders/97/8vc6xcbx4zd06p75xg9frdrw0000gn/T/ipykernel_17229/383237279.py:6: DeprecationWarning: \n",
      "The `snowflake.ml.registry.model_registry.ModelRegistry` has been deprecated starting from version 1.2.0.\n",
      "It will stay in the Private Preview phase. For future implementations, kindly utilize `snowflake.ml.registry.Registry`,\n",
      "except when specifically required. The old model registry will be removed once all its primary functionalities are\n",
      "fully integrated into the new registry.\n",
      "        \n",
      "  registry = model_registry.ModelRegistry(session=session, database_name=REGISTRY_DATABASE_NAME, schema_name=REGISTRY_SCHEMA_NAME)\n"
     ]
    }
   ],
   "source": [
    "session.sql(\"CREATE OR REPLACE DATABASE HOL_DEMO\").collect()\n",
    "session.sql(\"CREATE OR REPLACE WAREHOUSE ASYNC_WH WITH WAREHOUSE_SIZE='MEDIUM' WAREHOUSE_TYPE = 'SNOWPARK-OPTIMIZED'\").collect()\n",
    "REGISTRY_DATABASE_NAME = \"MODEL_REGISTRY\"\n",
    "REGISTRY_SCHEMA_NAME = \"PUBLIC\"\n",
    "model_registry.create_model_registry(session=session, database_name=REGISTRY_DATABASE_NAME, schema_name=REGISTRY_SCHEMA_NAME)\n",
    "registry = model_registry.ModelRegistry(session=session, database_name=REGISTRY_DATABASE_NAME, schema_name=REGISTRY_SCHEMA_NAME)"
   ]
  },
  {
   "cell_type": "markdown",
   "id": "01de1eea-c95b-4e34-89cc-cf146230f0f5",
   "metadata": {},
   "source": [
    "### EXTRA BIT, WHILE WE DECIDE ON DATA SHARES, PRE BUILT OR EVEN THIS CSV"
   ]
  },
  {
   "cell_type": "code",
   "execution_count": 4,
   "id": "856904bc-0843-4f97-b5cb-2ecb6210d2f9",
   "metadata": {},
   "outputs": [
    {
     "data": {
      "text/plain": [
       "<snowflake.snowpark.table.Table at 0x17dc4c190>"
      ]
     },
     "execution_count": 4,
     "metadata": {},
     "output_type": "execute_result"
    }
   ],
   "source": [
    "session.write_pandas(pd.read_csv(\"test.csv\"), table_name='FS_DATASET', auto_create_table=True, overwrite=True)"
   ]
  },
  {
   "cell_type": "markdown",
   "id": "7eb3aa05-3625-43b3-b29c-9c8edcbe9a51",
   "metadata": {},
   "source": [
    "# 1.3 Get Your Data (Prepped)\n",
    "In this case we're going to make a really simple lagging feature transformation for our time series dataset.  Nothign for you to do but run the cells, but note ANY pandas based manipulation could be performed here"
   ]
  },
  {
   "cell_type": "code",
   "execution_count": 5,
   "id": "0cddcf88-2d39-4441-8e6d-084c4417762c",
   "metadata": {},
   "outputs": [],
   "source": [
    "sdf = session.table(\"FS_DATASET\")\n",
    "sdf = sdf.select(F.to_date(F.col('DATE')).as_('DATE'), \"OPEN\", \"HIGH\", \"LOW\", \"CLOSE\", \"SYMBOL\")"
   ]
  },
  {
   "cell_type": "code",
   "execution_count": 6,
   "id": "56a4edbe-cef2-4cf1-a56a-e2b4218b8157",
   "metadata": {},
   "outputs": [],
   "source": [
    "class ML_Prep:\n",
    "    def end_partition(self, df):\n",
    "        df.columns = ['_DATE', \"_OPEN\", \"_HIGH\", \"_LOW\", \"_CLOSE\", \"_SYMBOL\"]\n",
    "        for i in range(1,6):\n",
    "            df[\"_CLOSE-\" + str(i)] = df[\"_CLOSE\"].shift(i).bfill()\n",
    "        yield df\n",
    "\n",
    "ML_Prep.end_partition._sf_vectorized_input = pd.DataFrame\n",
    "\n",
    "ml_prep_udtf = session.udtf.register(\n",
    "    ML_Prep, # the class\n",
    "    name=\"ml_prep_udtf\",\n",
    "    input_types=[PandasDataFrameType([DateType(), FloatType(), FloatType(), FloatType(), FloatType(), StringType()])], \n",
    "    output_schema=PandasDataFrameType([DateType(), FloatType(), FloatType(), FloatType(), FloatType(), StringType(),FloatType(),FloatType(),FloatType(),FloatType(),FloatType(),FloatType()],\n",
    "                                      ['DATE', \"OPEN\", \"HIGH\", \"LOW\", \"CLOSE\", \"SYMBOL\", \"CLOSE_M1\", \"CLOSE_M2\", \"CLOSE_M3\", \"CLOSE_M4\", \"CLOSE_M5\"]),\n",
    "    packages=[\"snowflake-snowpark-python\", 'pandas'])  \n"
   ]
  },
  {
   "cell_type": "code",
   "execution_count": 7,
   "id": "630b8ea6-0e46-4be2-874b-834daa07be29",
   "metadata": {},
   "outputs": [],
   "source": [
    "sdf_prepped = sdf.select(ml_prep_udtf(*[\"DATE\", \"OPEN\", \"HIGH\", \"LOW\", \"CLOSE\", \"SYMBOL\"]).over(partition_by=['SYMBOL']))\n",
    "sdf_prepped.limit(10).to_pandas()\n",
    "sdf_prepped.write.save_as_table(\"ML_PREPPED\", mode=\"overwrite\")"
   ]
  },
  {
   "cell_type": "code",
   "execution_count": 8,
   "id": "69b14d23-4ee0-4b21-b9ac-5fd637eddffb",
   "metadata": {},
   "outputs": [
    {
     "data": {
      "text/html": [
       "<div>\n",
       "<style scoped>\n",
       "    .dataframe tbody tr th:only-of-type {\n",
       "        vertical-align: middle;\n",
       "    }\n",
       "\n",
       "    .dataframe tbody tr th {\n",
       "        vertical-align: top;\n",
       "    }\n",
       "\n",
       "    .dataframe thead th {\n",
       "        text-align: right;\n",
       "    }\n",
       "</style>\n",
       "<table border=\"1\" class=\"dataframe\">\n",
       "  <thead>\n",
       "    <tr style=\"text-align: right;\">\n",
       "      <th></th>\n",
       "      <th>SYMBOL</th>\n",
       "    </tr>\n",
       "  </thead>\n",
       "  <tbody>\n",
       "    <tr>\n",
       "      <th>0</th>\n",
       "      <td>IBM</td>\n",
       "    </tr>\n",
       "    <tr>\n",
       "      <th>1</th>\n",
       "      <td>AMZN</td>\n",
       "    </tr>\n",
       "    <tr>\n",
       "      <th>2</th>\n",
       "      <td>FDS</td>\n",
       "    </tr>\n",
       "    <tr>\n",
       "      <th>3</th>\n",
       "      <td>META</td>\n",
       "    </tr>\n",
       "  </tbody>\n",
       "</table>\n",
       "</div>"
      ],
      "text/plain": [
       "  SYMBOL\n",
       "0    IBM\n",
       "1   AMZN\n",
       "2    FDS\n",
       "3   META"
      ]
     },
     "execution_count": 8,
     "metadata": {},
     "output_type": "execute_result"
    }
   ],
   "source": [
    "sdf[['SYMBOL']].distinct().to_pandas()"
   ]
  },
  {
   "cell_type": "markdown",
   "id": "5156f278-a61c-4099-83ea-8e3795778e69",
   "metadata": {},
   "source": [
    "# 1.4.1 Choose Your Symbol, Train/Test Split and Model\n",
    "\n",
    "We've got our data ready, but we need to make a few selections before we build our models\n",
    "\n",
    "TO DO:\n",
    "1. Choose the Symbol you want to build a model for\n",
    "2. Pick the date range for your train/test split\n",
    "3. Pick a regression model you want type"
   ]
  },
  {
   "cell_type": "code",
   "execution_count": 9,
   "id": "69f836f8-8c4b-4756-96a9-531c8d5ce1bc",
   "metadata": {},
   "outputs": [],
   "source": [
    "sdf_prepped_filt = sdf_prepped.filter((F.col(\"SYMBOL\") == 'IBM'))\n",
    "sdf_filt_train, sdf_filt_test = sdf_prepped_filt.filter((F.col(\"DATE\") <= '2022-01-01')), sdf_prepped_filt.filter((F.col(\"DATE\") > '2022-01-01'))\n",
    "regressor = LinearRegression \n",
    "\n",
    "#sdf_prepped_filt = sdf_prepped.filter((F.col(\"SYMBOL\") == \"\")) # <---- update 1.\n",
    "#sdf_filt_train, sdf_filt_test = sdf_prepped_filt.filter((F.col(\"DATE\") <= '')), sdf_prepped_filt.filter((F.col(\"DATE\") > '')) # <---- update 2.\n",
    "#regressor = # <---- update 3. hint one look at our imports cell"
   ]
  },
  {
   "cell_type": "markdown",
   "id": "5e6bd7a0-8c07-4a1e-bd99-79feb745e9d1",
   "metadata": {},
   "source": [
    "# 1.4.2 Train Your Model\n",
    "\n",
    "Our model is almost ready to be trained, but we need to choose our inputs, targets, and outputs.  We could go off piste and alter model (hyper)parameters here too (https://docs.snowflake.com/en/developer-guide/snowpark-ml/reference/latest/api/modeling/snowflake.ml.modeling.linear_model.LinearRegression)\n",
    "\n",
    "TO DO:\n",
    "1. Select your input columns\n",
    "2. Select your target(label) column\n",
    "3. Choose your output column name"
   ]
  },
  {
   "cell_type": "code",
   "execution_count": 10,
   "id": "603873ea-5bb6-4eee-8121-07780e5b2a01",
   "metadata": {},
   "outputs": [
    {
     "data": {
      "text/plain": [
       "<snowflake.ml.modeling.linear_model.linear_regression.LinearRegression at 0x17f095510>"
      ]
     },
     "execution_count": 10,
     "metadata": {},
     "output_type": "execute_result"
    }
   ],
   "source": [
    "regressor = regressor(input_cols=[\"CLOSE_M1\", \"CLOSE_M2\", \"CLOSE_M3\", \"CLOSE_M4\", \"CLOSE_M5\"],\n",
    "                         label_cols=[\"CLOSE\"],\n",
    "                         output_cols=[\"CLOSE_PREDICT\"])\n",
    "regressor.fit(sdf_filt_train)\n",
    "\n",
    "#regressor = regressor(input_cols=[], # <---- update 1.\n",
    "#                         label_cols=[], # <---- update 2.\n",
    "#                         output_cols=[]) # <---- update 3.\n",
    "#regressor.fit(sdf_prepped_filt)"
   ]
  },
  {
   "cell_type": "markdown",
   "id": "1863df7a-2670-4a10-82a6-dc99a5e17e4c",
   "metadata": {},
   "source": [
    "# 1.5 Register Your Model\n",
    "\n",
    "Let's assume we love the first model, it's time to register it....\n",
    "\n",
    "TO DO:\n",
    "1. Choose a  model name\n",
    "2. Choose a model version (note the combo of name and version needs to be unique)"
   ]
  },
  {
   "cell_type": "code",
   "execution_count": 12,
   "id": "a7cae620-c9c5-4cbd-a1cd-be3af51ca230",
   "metadata": {},
   "outputs": [],
   "source": [
    "MODEL_NAME = \"REGRESSION_IBM\"\n",
    "MODEL_VERSION = \"v2\"\n",
    "model = registry.log_model(model_name=MODEL_NAME,\n",
    "                           model_version=MODEL_VERSION,\n",
    "                           model=regressor,\n",
    "                           tags={\"stage\": \"testing\", \"classifier_type\": \"Lin_Reg\"})\n",
    "\n",
    "#MODEL_NAME = # <---- update 1.\n",
    "#MODEL_VERSION = # <---- update 2.\n",
    "#model = registry.log_model(model_name=MODEL_NAME,\n",
    "#                           model_version=MODEL_VERSION,\n",
    "#                           model=regressor,\n",
    "#                           tags={\"stage\": \"testing\", \"classifier_type\": \"xgb\"},\n",
    "#                           sample_input_data=sdf_prepped_filt.limit(10).to_pandas()[[\"CLOSE_M1\", \"CLOSE_M2\", \"CLOSE_M3\", \"CLOSE_M4\", \"CLOSE_M5\"]],)"
   ]
  },
  {
   "cell_type": "markdown",
   "id": "087c83ca-8e4c-41ed-a17a-aefd51dbce02",
   "metadata": {},
   "source": [
    "# 1.6 Deploy Your Model\n",
    "\n",
    "Time to deploy the model..."
   ]
  },
  {
   "cell_type": "code",
   "execution_count": 13,
   "id": "6b82415e-e9dc-4df5-932c-6e802a14daaf",
   "metadata": {},
   "outputs": [
    {
     "name": "stderr",
     "output_type": "stream",
     "text": [
      "WARNING:snowflake.snowpark:ModelRegistry.deploy() is in private preview since 0.2.0. Do not use it in production. \n"
     ]
    },
    {
     "ename": "RuntimeError",
     "evalue": "(2100) \nThe model's dependencies are not available in Snowflake Anaconda Channel. \nRequired packages are: \"absl-py<2,>=1.4\" \"anyio<4,>=3.5\" \"cloudpickle<3,>=2.2\" \"numpy<2,>=1.24\" \"packaging<24,>=23.1\" \"pandas<2,>=1.5\" \"pyyaml<7,>=6.0\" \"snowflake-snowpark-python<2,>=1.11\" \"typing-extensions<5,>=4.7\" \"snowflake-ml-python<2,>=1.2\" \"scikit-learn<2,>=1.3\"\nRequired Python version is: 3.11\nPackages that are not available are: []\nPackages that cannot meet your requirements are: ['snowflake-ml-python']\nPackage availability information of those you requested is: {'snowflake-ml-python': [], 'absl-py': [<Version('1.4.0')>], 'anyio': [<Version('3.5.0')>], 'cloudpickle': [<Version('2.2.1')>], 'numpy': [<Version('1.24.3')>, <Version('1.25.0')>, <Version('1.25.2')>, <Version('1.26.0')>, <Version('1.26.2')>, <Version('1.26.3')>], 'packaging': [<Version('23.1')>], 'pandas': [<Version('1.5.2')>, <Version('1.5.3')>], 'pyyaml': [<Version('6.0')>, <Version('6.0.1')>], 'snowflake-snowpark-python': [<Version('1.11.1')>], 'typing-extensions': [<Version('4.7.1')>], 'scikit-learn': [<Version('1.3.0')>]}\n",
     "output_type": "error",
     "traceback": [
      "\u001b[0;31m---------------------------------------------------------------------------\u001b[0m",
      "\u001b[0;31mSnowflakeMLException\u001b[0m                      Traceback (most recent call last)",
      "File \u001b[0;32m~/opt/anaconda3/envs/snowpark-ml-hol/lib/python3.11/site-packages/snowflake/ml/_internal/telemetry.py:358\u001b[0m, in \u001b[0;36msend_api_usage_telemetry.<locals>.decorator.<locals>.wrap\u001b[0;34m(*args, **kwargs)\u001b[0m\n\u001b[1;32m    357\u001b[0m \u001b[38;5;28;01mtry\u001b[39;00m:\n\u001b[0;32m--> 358\u001b[0m     res \u001b[38;5;241m=\u001b[39m func(\u001b[38;5;241m*\u001b[39margs, \u001b[38;5;241m*\u001b[39m\u001b[38;5;241m*\u001b[39mkwargs)\n\u001b[1;32m    359\u001b[0m \u001b[38;5;28;01mexcept\u001b[39;00m \u001b[38;5;167;01mException\u001b[39;00m \u001b[38;5;28;01mas\u001b[39;00m e:\n",
      "File \u001b[0;32m~/opt/anaconda3/envs/snowpark-ml-hol/lib/python3.11/site-packages/snowflake/snowpark/_internal/utils.py:628\u001b[0m, in \u001b[0;36mfunc_decorator.<locals>.wrapper.<locals>.func_call_wrapper\u001b[0;34m(*args, **kwargs)\u001b[0m\n\u001b[1;32m    627\u001b[0m warning(func\u001b[38;5;241m.\u001b[39m\u001b[38;5;18m__qualname__\u001b[39m, warning_text)\n\u001b[0;32m--> 628\u001b[0m \u001b[38;5;28;01mreturn\u001b[39;00m func(\u001b[38;5;241m*\u001b[39margs, \u001b[38;5;241m*\u001b[39m\u001b[38;5;241m*\u001b[39mkwargs)\n",
      "File \u001b[0;32m~/opt/anaconda3/envs/snowpark-ml-hol/lib/python3.11/site-packages/snowflake/ml/registry/model_registry.py:1575\u001b[0m, in \u001b[0;36mModelRegistry.deploy\u001b[0;34m(self, model_name, model_version, deployment_name, target_method, permanent, platform, options)\u001b[0m\n\u001b[1;32m   1574\u001b[0m \u001b[38;5;66;03m# Step 1: Deploy to get the UDF\u001b[39;00m\n\u001b[0;32m-> 1575\u001b[0m deployment_info \u001b[38;5;241m=\u001b[39m model_api\u001b[38;5;241m.\u001b[39mdeploy(\n\u001b[1;32m   1576\u001b[0m     session\u001b[38;5;241m=\u001b[39m\u001b[38;5;28mself\u001b[39m\u001b[38;5;241m.\u001b[39m_session,\n\u001b[1;32m   1577\u001b[0m     name\u001b[38;5;241m=\u001b[39m\u001b[38;5;28mself\u001b[39m\u001b[38;5;241m.\u001b[39m_fully_qualified_deployment_name(deployment_name),\n\u001b[1;32m   1578\u001b[0m     platform\u001b[38;5;241m=\u001b[39mplatform,\n\u001b[1;32m   1579\u001b[0m     target_method\u001b[38;5;241m=\u001b[39mtarget_method,\n\u001b[1;32m   1580\u001b[0m     stage_path\u001b[38;5;241m=\u001b[39mremote_model_path,\n\u001b[1;32m   1581\u001b[0m     deployment_stage_path\u001b[38;5;241m=\u001b[39mdeployment_stage_path,\n\u001b[1;32m   1582\u001b[0m     model_id\u001b[38;5;241m=\u001b[39mmodel_id,\n\u001b[1;32m   1583\u001b[0m     options\u001b[38;5;241m=\u001b[39moptions,\n\u001b[1;32m   1584\u001b[0m )\n\u001b[1;32m   1586\u001b[0m \u001b[38;5;66;03m# Step 2: Record the deployment\u001b[39;00m\n\u001b[1;32m   1587\u001b[0m \n\u001b[1;32m   1588\u001b[0m \u001b[38;5;66;03m# Assert to convince mypy.\u001b[39;00m\n",
      "File \u001b[0;32m~/opt/anaconda3/envs/snowpark-ml-hol/lib/python3.11/site-packages/snowflake/ml/model/_api.py:376\u001b[0m, in \u001b[0;36mdeploy\u001b[0;34m(session, name, platform, stage_path, target_method, deployment_stage_path, model_id, options)\u001b[0m\n\u001b[1;32m    375\u001b[0m \u001b[38;5;28;01mif\u001b[39;00m platform \u001b[38;5;241m==\u001b[39m deploy_platforms\u001b[38;5;241m.\u001b[39mTargetPlatform\u001b[38;5;241m.\u001b[39mWAREHOUSE:\n\u001b[0;32m--> 376\u001b[0m     warehouse_deploy\u001b[38;5;241m.\u001b[39m_deploy_to_warehouse(\n\u001b[1;32m    377\u001b[0m         session\u001b[38;5;241m=\u001b[39msession,\n\u001b[1;32m    378\u001b[0m         model_stage_file_path\u001b[38;5;241m=\u001b[39mm\u001b[38;5;241m.\u001b[39mmodel_stage_path,\n\u001b[1;32m    379\u001b[0m         model_meta\u001b[38;5;241m=\u001b[39mm\u001b[38;5;241m.\u001b[39mpackager\u001b[38;5;241m.\u001b[39mmeta,\n\u001b[1;32m    380\u001b[0m         udf_name\u001b[38;5;241m=\u001b[39mname,\n\u001b[1;32m    381\u001b[0m         target_method\u001b[38;5;241m=\u001b[39mtarget_method,\n\u001b[1;32m    382\u001b[0m         \u001b[38;5;241m*\u001b[39m\u001b[38;5;241m*\u001b[39moptions,\n\u001b[1;32m    383\u001b[0m     )\n\u001b[1;32m    385\u001b[0m \u001b[38;5;28;01melif\u001b[39;00m platform \u001b[38;5;241m==\u001b[39m deploy_platforms\u001b[38;5;241m.\u001b[39mTargetPlatform\u001b[38;5;241m.\u001b[39mSNOWPARK_CONTAINER_SERVICES:\n",
      "File \u001b[0;32m~/opt/anaconda3/envs/snowpark-ml-hol/lib/python3.11/site-packages/snowflake/ml/model/_deploy_client/warehouse/deploy.py:68\u001b[0m, in \u001b[0;36m_deploy_to_warehouse\u001b[0;34m(session, model_stage_file_path, model_meta, udf_name, target_method, **kwargs)\u001b[0m\n\u001b[1;32m     63\u001b[0m     \u001b[38;5;28;01mraise\u001b[39;00m snowml_exceptions\u001b[38;5;241m.\u001b[39mSnowflakeMLException(\n\u001b[1;32m     64\u001b[0m         error_code\u001b[38;5;241m=\u001b[39merror_codes\u001b[38;5;241m.\u001b[39mINVALID_ARGUMENT,\n\u001b[1;32m     65\u001b[0m         original_exception\u001b[38;5;241m=\u001b[39m\u001b[38;5;167;01mValueError\u001b[39;00m(\u001b[38;5;124mf\u001b[39m\u001b[38;5;124m\"\u001b[39m\u001b[38;5;124mTarget method \u001b[39m\u001b[38;5;132;01m{\u001b[39;00mtarget_method\u001b[38;5;132;01m}\u001b[39;00m\u001b[38;5;124m does not exist in model.\u001b[39m\u001b[38;5;124m\"\u001b[39m),\n\u001b[1;32m     66\u001b[0m     )\n\u001b[0;32m---> 68\u001b[0m final_packages \u001b[38;5;241m=\u001b[39m _get_model_final_packages(model_meta, session, relax_version\u001b[38;5;241m=\u001b[39mrelax_version)\n\u001b[1;32m     70\u001b[0m stage_location \u001b[38;5;241m=\u001b[39m kwargs\u001b[38;5;241m.\u001b[39mget(\u001b[38;5;124m\"\u001b[39m\u001b[38;5;124mpermanent_udf_stage_location\u001b[39m\u001b[38;5;124m\"\u001b[39m, \u001b[38;5;28;01mNone\u001b[39;00m)\n",
      "File \u001b[0;32m~/opt/anaconda3/envs/snowpark-ml-hol/lib/python3.11/site-packages/snowflake/ml/model/_deploy_client/warehouse/deploy.py:187\u001b[0m, in \u001b[0;36m_get_model_final_packages\u001b[0;34m(meta, session, relax_version)\u001b[0m\n\u001b[1;32m    186\u001b[0m     required_package_str \u001b[38;5;241m=\u001b[39m \u001b[38;5;124m\"\u001b[39m\u001b[38;5;124m \u001b[39m\u001b[38;5;124m\"\u001b[39m\u001b[38;5;241m.\u001b[39mjoin(\u001b[38;5;28mmap\u001b[39m(\u001b[38;5;28;01mlambda\u001b[39;00m x: \u001b[38;5;124mf\u001b[39m\u001b[38;5;124m'\u001b[39m\u001b[38;5;124m\"\u001b[39m\u001b[38;5;132;01m{\u001b[39;00mx\u001b[38;5;132;01m}\u001b[39;00m\u001b[38;5;124m\"\u001b[39m\u001b[38;5;124m'\u001b[39m, required_packages))\n\u001b[0;32m--> 187\u001b[0m     \u001b[38;5;28;01mraise\u001b[39;00m snowml_exceptions\u001b[38;5;241m.\u001b[39mSnowflakeMLException(\n\u001b[1;32m    188\u001b[0m         error_code\u001b[38;5;241m=\u001b[39merror_codes\u001b[38;5;241m.\u001b[39mDEPENDENCY_VERSION_ERROR,\n\u001b[1;32m    189\u001b[0m         original_exception\u001b[38;5;241m=\u001b[39m\u001b[38;5;167;01mRuntimeError\u001b[39;00m(\n\u001b[1;32m    190\u001b[0m             textwrap\u001b[38;5;241m.\u001b[39mdedent(\n\u001b[1;32m    191\u001b[0m                 \u001b[38;5;124mf\u001b[39m\u001b[38;5;124m\"\"\"\u001b[39m\n\u001b[1;32m    192\u001b[0m \u001b[38;5;124m            The model\u001b[39m\u001b[38;5;124m'\u001b[39m\u001b[38;5;124ms dependencies are not available in Snowflake Anaconda Channel. \u001b[39m\u001b[38;5;132;01m{\u001b[39;00mrelax_version_info_str\u001b[38;5;132;01m}\u001b[39;00m\n\u001b[1;32m    193\u001b[0m \u001b[38;5;124m            Required packages are: \u001b[39m\u001b[38;5;132;01m{\u001b[39;00mrequired_package_str\u001b[38;5;132;01m}\u001b[39;00m\n\u001b[1;32m    194\u001b[0m \u001b[38;5;124m            Required Python version is: \u001b[39m\u001b[38;5;132;01m{\u001b[39;00mmeta\u001b[38;5;241m.\u001b[39menv\u001b[38;5;241m.\u001b[39mpython_version\u001b[38;5;132;01m}\u001b[39;00m\n\u001b[1;32m    195\u001b[0m \u001b[38;5;124m            Packages that are not available are: \u001b[39m\u001b[38;5;132;01m{\u001b[39;00munavailable_packages\u001b[38;5;132;01m}\u001b[39;00m\n\u001b[1;32m    196\u001b[0m \u001b[38;5;124m            Packages that cannot meet your requirements are: \u001b[39m\u001b[38;5;132;01m{\u001b[39;00mno_version_available_packages\u001b[38;5;132;01m}\u001b[39;00m\n\u001b[1;32m    197\u001b[0m \u001b[38;5;124m            Package availability information of those you requested is: \u001b[39m\u001b[38;5;132;01m{\u001b[39;00mpackage_availability_dict\u001b[38;5;132;01m}\u001b[39;00m\n\u001b[1;32m    198\u001b[0m \u001b[38;5;124m            \u001b[39m\u001b[38;5;124m\"\"\"\u001b[39m\n\u001b[1;32m    199\u001b[0m             ),\n\u001b[1;32m    200\u001b[0m         ),\n\u001b[1;32m    201\u001b[0m     )\n\u001b[1;32m    202\u001b[0m \u001b[38;5;28;01mreturn\u001b[39;00m \u001b[38;5;28mlist\u001b[39m(\u001b[38;5;28msorted\u001b[39m(\u001b[38;5;28mmap\u001b[39m(\u001b[38;5;28mstr\u001b[39m, required_packages)))\n",
      "\u001b[0;31mSnowflakeMLException\u001b[0m: RuntimeError('(2100) \\nThe model\\'s dependencies are not available in Snowflake Anaconda Channel. \\nRequired packages are: \"absl-py<2,>=1.4\" \"anyio<4,>=3.5\" \"cloudpickle<3,>=2.2\" \"numpy<2,>=1.24\" \"packaging<24,>=23.1\" \"pandas<2,>=1.5\" \"pyyaml<7,>=6.0\" \"snowflake-snowpark-python<2,>=1.11\" \"typing-extensions<5,>=4.7\" \"snowflake-ml-python<2,>=1.2\" \"scikit-learn<2,>=1.3\"\\nRequired Python version is: 3.11\\nPackages that are not available are: []\\nPackages that cannot meet your requirements are: [\\'snowflake-ml-python\\']\\nPackage availability information of those you requested is: {\\'snowflake-ml-python\\': [], \\'absl-py\\': [<Version(\\'1.4.0\\')>], \\'anyio\\': [<Version(\\'3.5.0\\')>], \\'cloudpickle\\': [<Version(\\'2.2.1\\')>], \\'numpy\\': [<Version(\\'1.24.3\\')>, <Version(\\'1.25.0\\')>, <Version(\\'1.25.2\\')>, <Version(\\'1.26.0\\')>, <Version(\\'1.26.2\\')>, <Version(\\'1.26.3\\')>], \\'packaging\\': [<Version(\\'23.1\\')>], \\'pandas\\': [<Version(\\'1.5.2\\')>, <Version(\\'1.5.3\\')>], \\'pyyaml\\': [<Version(\\'6.0\\')>, <Version(\\'6.0.1\\')>], \\'snowflake-snowpark-python\\': [<Version(\\'1.11.1\\')>], \\'typing-extensions\\': [<Version(\\'4.7.1\\')>], \\'scikit-learn\\': [<Version(\\'1.3.0\\')>]}\\n')",
      "\nThe above exception was the direct cause of the following exception:\n",
      "\u001b[0;31mRuntimeError\u001b[0m                              Traceback (most recent call last)",
      "Cell \u001b[0;32mIn[13], line 1\u001b[0m\n\u001b[0;32m----> 1\u001b[0m model\u001b[38;5;241m.\u001b[39mdeploy(deployment_name\u001b[38;5;241m=\u001b[39mMODEL_NAME \u001b[38;5;241m+\u001b[39m MODEL_VERSION,\n\u001b[1;32m      2\u001b[0m              target_method\u001b[38;5;241m=\u001b[39m\u001b[38;5;124m\"\u001b[39m\u001b[38;5;124mpredict\u001b[39m\u001b[38;5;124m\"\u001b[39m,\n\u001b[1;32m      3\u001b[0m              permanent\u001b[38;5;241m=\u001b[39m\u001b[38;5;28;01mTrue\u001b[39;00m,\n\u001b[1;32m      4\u001b[0m              options\u001b[38;5;241m=\u001b[39m{\u001b[38;5;124m\"\u001b[39m\u001b[38;5;124mrelax_version\u001b[39m\u001b[38;5;124m\"\u001b[39m: \u001b[38;5;28;01mTrue\u001b[39;00m})\n",
      "File \u001b[0;32m~/opt/anaconda3/envs/snowpark-ml-hol/lib/python3.11/site-packages/snowflake/ml/registry/model_registry.py:1943\u001b[0m, in \u001b[0;36mModelReference.__init__.<locals>.build_method.<locals>.<lambda>\u001b[0;34m(self, *args, **kwargs)\u001b[0m\n\u001b[1;32m   1942\u001b[0m \u001b[38;5;28;01mdef\u001b[39;00m \u001b[38;5;21mbuild_method\u001b[39m(m: Callable[\u001b[38;5;241m.\u001b[39m\u001b[38;5;241m.\u001b[39m\u001b[38;5;241m.\u001b[39m, Any]) \u001b[38;5;241m-\u001b[39m\u001b[38;5;241m>\u001b[39m Callable[\u001b[38;5;241m.\u001b[39m\u001b[38;5;241m.\u001b[39m\u001b[38;5;241m.\u001b[39m, Any]:\n\u001b[0;32m-> 1943\u001b[0m     \u001b[38;5;28;01mreturn\u001b[39;00m \u001b[38;5;28;01mlambda\u001b[39;00m \u001b[38;5;28mself\u001b[39m, \u001b[38;5;241m*\u001b[39margs, \u001b[38;5;241m*\u001b[39m\u001b[38;5;241m*\u001b[39mkwargs: m(\n\u001b[1;32m   1944\u001b[0m         \u001b[38;5;28mself\u001b[39m\u001b[38;5;241m.\u001b[39m_registry, \u001b[38;5;28mself\u001b[39m\u001b[38;5;241m.\u001b[39m_model_name, \u001b[38;5;28mself\u001b[39m\u001b[38;5;241m.\u001b[39m_model_version, \u001b[38;5;241m*\u001b[39margs, \u001b[38;5;241m*\u001b[39m\u001b[38;5;241m*\u001b[39mkwargs\n\u001b[1;32m   1945\u001b[0m     )\n",
      "File \u001b[0;32m~/opt/anaconda3/envs/snowpark-ml-hol/lib/python3.11/site-packages/snowflake/ml/_internal/telemetry.py:380\u001b[0m, in \u001b[0;36msend_api_usage_telemetry.<locals>.decorator.<locals>.wrap\u001b[0;34m(*args, **kwargs)\u001b[0m\n\u001b[1;32m    378\u001b[0m         \u001b[38;5;28;01mraise\u001b[39;00m me\u001b[38;5;241m.\u001b[39moriginal_exception \u001b[38;5;28;01mfrom\u001b[39;00m \u001b[38;5;28;01mNone\u001b[39;00m\n\u001b[1;32m    379\u001b[0m     \u001b[38;5;28;01melse\u001b[39;00m:\n\u001b[0;32m--> 380\u001b[0m         \u001b[38;5;28;01mraise\u001b[39;00m me\u001b[38;5;241m.\u001b[39moriginal_exception \u001b[38;5;28;01mfrom\u001b[39;00m \u001b[38;5;21;01me\u001b[39;00m\n\u001b[1;32m    381\u001b[0m \u001b[38;5;28;01melse\u001b[39;00m:\n\u001b[1;32m    382\u001b[0m     \u001b[38;5;28;01mreturn\u001b[39;00m update_stmt_params_if_snowpark_df(res, statement_params)\n",
      "\u001b[0;31mRuntimeError\u001b[0m: (2100) \nThe model's dependencies are not available in Snowflake Anaconda Channel. \nRequired packages are: \"absl-py<2,>=1.4\" \"anyio<4,>=3.5\" \"cloudpickle<3,>=2.2\" \"numpy<2,>=1.24\" \"packaging<24,>=23.1\" \"pandas<2,>=1.5\" \"pyyaml<7,>=6.0\" \"snowflake-snowpark-python<2,>=1.11\" \"typing-extensions<5,>=4.7\" \"snowflake-ml-python<2,>=1.2\" \"scikit-learn<2,>=1.3\"\nRequired Python version is: 3.11\nPackages that are not available are: []\nPackages that cannot meet your requirements are: ['snowflake-ml-python']\nPackage availability information of those you requested is: {'snowflake-ml-python': [], 'absl-py': [<Version('1.4.0')>], 'anyio': [<Version('3.5.0')>], 'cloudpickle': [<Version('2.2.1')>], 'numpy': [<Version('1.24.3')>, <Version('1.25.0')>, <Version('1.25.2')>, <Version('1.26.0')>, <Version('1.26.2')>, <Version('1.26.3')>], 'packaging': [<Version('23.1')>], 'pandas': [<Version('1.5.2')>, <Version('1.5.3')>], 'pyyaml': [<Version('6.0')>, <Version('6.0.1')>], 'snowflake-snowpark-python': [<Version('1.11.1')>], 'typing-extensions': [<Version('4.7.1')>], 'scikit-learn': [<Version('1.3.0')>]}\n"
     ]
    }
   ],
   "source": [
    "model.deploy(deployment_name=MODEL_NAME + MODEL_VERSION,\n",
    "             target_method=\"predict\",\n",
    "             permanent=True,\n",
    "             options={\"relax_version\": True})"
   ]
  },
  {
   "cell_type": "markdown",
   "id": "f18a0dd1-6bc6-4ef4-96e2-4e5da582b247",
   "metadata": {},
   "source": [
    "# 1.7 Run Your Model\n",
    "\n",
    "We're at the finish line!"
   ]
  },
  {
   "cell_type": "code",
   "execution_count": null,
   "id": "1604c3f6-ea91-485e-9bee-fd7f9da5f201",
   "metadata": {},
   "outputs": [],
   "source": [
    "model.predict(deployment_name=MODEL_NAME + MODEL_VERSION, data=sdf_filt_test).limit(20).to_pandas()"
   ]
  },
  {
   "cell_type": "markdown",
   "id": "5c115265-fc9c-40a5-bc2b-b4995269befc",
   "metadata": {},
   "source": [
    "## Make sure you ruin this last line - it's needed for the next Part"
   ]
  },
  {
   "cell_type": "code",
   "execution_count": null,
   "id": "de49d682-5551-494c-9ea7-c59caac54f0c",
   "metadata": {},
   "outputs": [],
   "source": [
    "model.predict(deployment_name=MODEL_NAME + MODEL_VERSION, data=sdf_filt_test).write.save_as_table(\"ML_PREDICT\", mode=\"overwrite\")"
   ]
  },
  {
   "cell_type": "code",
   "execution_count": null,
   "id": "695ebf0d-0083-4ca2-9c09-ea3f9dc3bfc8",
   "metadata": {},
   "outputs": [],
   "source": []
  }
 ],
 "metadata": {
  "kernelspec": {
   "display_name": "Python 3 (ipykernel)",
   "language": "python",
   "name": "python3"
  },
  "language_info": {
   "codemirror_mode": {
    "name": "ipython",
    "version": 3
   },
   "file_extension": ".py",
   "mimetype": "text/x-python",
   "name": "python",
   "nbconvert_exporter": "python",
   "pygments_lexer": "ipython3",
   "version": "3.11.7"
  }
 },
 "nbformat": 4,
 "nbformat_minor": 5
}
